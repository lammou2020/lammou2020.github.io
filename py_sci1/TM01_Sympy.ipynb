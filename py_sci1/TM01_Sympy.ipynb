{
  "nbformat": 4,
  "nbformat_minor": 0,
  "metadata": {
    "colab": {
      "name": "TM01_TenMinutesSympy.ipynb",
      "provenance": [],
      "toc_visible": true,
      "collapsed_sections": []
    },
    "kernelspec": {
      "name": "python3",
      "display_name": "Python 3"
    },
    "language_info": {
      "name": "python"
    }
  },
  "cells": [
    {
      "cell_type": "markdown",
      "source": [
        "# 代數運算\n",
        "- 替換 subs\n",
        "- 簡化式子 simpify\n",
        "- 展開式  expand\n",
        "- 因子分解 factor\n",
        "- 解方程  solve"
      ],
      "metadata": {
        "id": "WvZzqU-wv1Xx"
      }
    },
    {
      "cell_type": "code",
      "execution_count": 1,
      "metadata": {
        "colab": {
          "base_uri": "https://localhost:8080/",
          "height": 556
        },
        "id": "rdeiPwRfvw7p",
        "outputId": "eff00278-64cb-4e25-e1b0-e03c208aba5b"
      },
      "outputs": [
        {
          "output_type": "stream",
          "name": "stdout",
          "text": [
            "========================\n",
            "替换 subs\n"
          ]
        },
        {
          "output_type": "display_data",
          "data": {
            "text/plain": [
              "(x**2 + y**2 + z**2)/(x - 2*y)"
            ],
            "text/latex": "$\\displaystyle \\frac{x^{2} + y^{2} + z^{2}}{x - 2 y}$"
          },
          "metadata": {}
        },
        {
          "output_type": "stream",
          "name": "stdout",
          "text": [
            "當 x=4 時:\n"
          ]
        },
        {
          "output_type": "display_data",
          "data": {
            "text/plain": [
              "(y**2 + z**2 + 16)/(4 - 2*y)"
            ],
            "text/latex": "$\\displaystyle \\frac{y^{2} + z^{2} + 16}{4 - 2 y}$"
          },
          "metadata": {}
        },
        {
          "output_type": "stream",
          "name": "stdout",
          "text": [
            "========================\n",
            "简化 simpify\n",
            "約簡:\n"
          ]
        },
        {
          "output_type": "display_data",
          "data": {
            "text/plain": [
              "(x**2 - x - 6)/(x**2 - 3*x)"
            ],
            "text/latex": "$\\displaystyle \\frac{x^{2} - x - 6}{x^{2} - 3 x}$"
          },
          "metadata": {}
        },
        {
          "output_type": "display_data",
          "data": {
            "text/plain": [
              "(x + 2)/x"
            ],
            "text/latex": "$\\displaystyle \\frac{x + 2}{x}$"
          },
          "metadata": {}
        },
        {
          "output_type": "stream",
          "name": "stdout",
          "text": [
            "========================\n",
            "開展 expand\n"
          ]
        },
        {
          "output_type": "display_data",
          "data": {
            "text/plain": [
              "(x - 2)**2*(x + 1)**3"
            ],
            "text/latex": "$\\displaystyle \\left(x - 2\\right)^{2} \\left(x + 1\\right)^{3}$"
          },
          "metadata": {}
        },
        {
          "output_type": "stream",
          "name": "stdout",
          "text": [
            "展開式:\n"
          ]
        },
        {
          "output_type": "display_data",
          "data": {
            "text/plain": [
              "x**5 - x**4 - 5*x**3 + x**2 + 8*x + 4"
            ],
            "text/latex": "$\\displaystyle x^{5} - x^{4} - 5 x^{3} + x^{2} + 8 x + 4$"
          },
          "metadata": {}
        },
        {
          "output_type": "stream",
          "name": "stdout",
          "text": [
            "========================\n",
            "求因子 factor\n"
          ]
        },
        {
          "output_type": "display_data",
          "data": {
            "text/plain": [
              "3*x**4 - 36*x**3 + 99*x**2 - 6*x - 144"
            ],
            "text/latex": "$\\displaystyle 3 x^{4} - 36 x^{3} + 99 x^{2} - 6 x - 144$"
          },
          "metadata": {}
        },
        {
          "output_type": "stream",
          "name": "stdout",
          "text": [
            "因式:\n"
          ]
        },
        {
          "output_type": "display_data",
          "data": {
            "text/plain": [
              "3*(x - 8)*(x - 3)*(x - 2)*(x + 1)"
            ],
            "text/latex": "$\\displaystyle 3 \\left(x - 8\\right) \\left(x - 3\\right) \\left(x - 2\\right) \\left(x + 1\\right)$"
          },
          "metadata": {}
        },
        {
          "output_type": "stream",
          "name": "stdout",
          "text": [
            "========================\n",
            "解方程 solve\n"
          ]
        },
        {
          "output_type": "display_data",
          "data": {
            "text/plain": [
              "Eq(x**2 - 4*x, -4)"
            ],
            "text/latex": "$\\displaystyle x^{2} - 4 x = -4$"
          },
          "metadata": {}
        },
        {
          "output_type": "stream",
          "name": "stdout",
          "text": [
            "方程解:\n"
          ]
        },
        {
          "output_type": "display_data",
          "data": {
            "text/plain": [
              "[2]"
            ]
          },
          "metadata": {}
        }
      ],
      "source": [
        "import random    #亂數 \n",
        "import math     #math 內置數學函數\n",
        "import numpy as np #數字矩陣\n",
        "import sympy as sp #sympy 簡易別名 sp    \n",
        "from sympy.parsing.sympy_parser import parse_expr #字串解釋成運算式\n",
        "from sympy.plotting import plot          #繪圖表\n",
        "from IPython.display import Latex         #網頁顯示數學符號\n",
        "\n",
        "x,y,z=sp.symbols('x y z')\n",
        "print(\"========================\")\n",
        "print(\"替换 subs\")\n",
        "g= (x**2 + y**2 + z**2) / (x-y-y) \n",
        "display( g )\n",
        "print(\"當 x=4 時:\")\n",
        "display( g.subs(x,4) )\n",
        "print(\"========================\")\n",
        "print(\"简化 simpify\")\n",
        "f=(x**2 -x -6)/(x**2-3*x)\n",
        "print(\"約簡:\")\n",
        "display( f )\n",
        "display( sp.simplify(f) )\n",
        "print(\"========================\")\n",
        "print(\"開展 expand\")\n",
        "f=(x+1)**3 * (x-2)**2\n",
        "display(f)\n",
        "print(\"展開式:\")\n",
        "display(sp.expand(f))\n",
        "print(\"========================\")\n",
        "print(\"求因子 factor\")\n",
        "f=3*x**4-36*x**3+99*x**2-6*x-144\n",
        "display(f)\n",
        "print(\"因式:\")\n",
        "display(sp.factor(f))\n",
        "print(\"========================\")\n",
        "print(\"解方程 solve\")\n",
        "g=sp.Eq(x**2 - 4*x, -4 )\n",
        "display( g )\n",
        "print(\"方程解:\")\n",
        "display( sp.solve(g,x) )"
      ]
    },
    {
      "cell_type": "markdown",
      "source": [
        "# 多項式Polynomial/Rational Function Simplification\n",
        "\n",
        "\n",
        "\n",
        "\n"
      ],
      "metadata": {
        "id": "Y9tzyHUw5fnr"
      }
    },
    {
      "cell_type": "markdown",
      "source": [
        "## expand\n"
      ],
      "metadata": {
        "id": "4tiVOTyjgFVj"
      }
    },
    {
      "cell_type": "code",
      "source": [
        "sp.expand((x + 1)**2)"
      ],
      "metadata": {
        "id": "KrHzcp_8n1m1",
        "outputId": "19375de0-6655-4689-e284-1c38752e4dad",
        "colab": {
          "base_uri": "https://localhost:8080/",
          "height": 39
        }
      },
      "execution_count": 2,
      "outputs": [
        {
          "output_type": "execute_result",
          "data": {
            "text/plain": [
              "x**2 + 2*x + 1"
            ],
            "text/latex": "$\\displaystyle x^{2} + 2 x + 1$"
          },
          "metadata": {},
          "execution_count": 2
        }
      ]
    },
    {
      "cell_type": "code",
      "source": [
        "sp.expand((x + 2)*(x - 3))"
      ],
      "metadata": {
        "id": "hJ9KuN0zoBg2",
        "outputId": "b7710f93-b022-4c7e-b673-1593d400ed86",
        "colab": {
          "base_uri": "https://localhost:8080/",
          "height": 39
        }
      },
      "execution_count": 3,
      "outputs": [
        {
          "output_type": "execute_result",
          "data": {
            "text/plain": [
              "x**2 - x - 6"
            ],
            "text/latex": "$\\displaystyle x^{2} - x - 6$"
          },
          "metadata": {},
          "execution_count": 3
        }
      ]
    },
    {
      "cell_type": "code",
      "source": [
        "sp.expand((x + 1)*(x - 2) - (x - 1)*x)"
      ],
      "metadata": {
        "id": "anwjBbOuoWv7",
        "outputId": "8e9450b5-7521-474f-e28c-78727499873e",
        "colab": {
          "base_uri": "https://localhost:8080/",
          "height": 37
        }
      },
      "execution_count": 4,
      "outputs": [
        {
          "output_type": "execute_result",
          "data": {
            "text/plain": [
              "-2"
            ],
            "text/latex": "$\\displaystyle -2$"
          },
          "metadata": {},
          "execution_count": 4
        }
      ]
    },
    {
      "cell_type": "markdown",
      "source": [
        "## factor\n",
        "factor() takes a polynomial and factors it into irreducible\n",
        "(不可約) factors over the rational numbers. For example:\n",
        "\n",
        "Run code block in SymPy Live\n",
        "```python\n",
        "factor(x**3 - x**2 + x - 1)\n",
        "#\n",
        "#        ⎛ 2    ⎞\n",
        "#(x - 1)⋅⎝x  + 1⎠\n",
        "factor(x**2*z + 4*x*y*z + 4*y**2*z)\n",
        "#           2\n",
        "#     z⋅(x + 2⋅y)\n",
        "```\n",
        "factor_list returns a more structured output.\n",
        "\n",
        "Run code block in SymPy Live\n",
        "```python\n",
        "factor_list(x**2*z + 4*x*y*z + 4*y**2*z)\n",
        "# (1, [(z, 1), (x + 2⋅y, 2)])\n",
        "```\n",
        "Note that the input to factor and expand need not be polynomials in the strict sense. They will intelligently factor or expand any kind of expression (though note that the factors may not be irreducible if the input is no longer a polynomial over the rationals).\n",
        "\n",
        "Run code block in SymPy Live\n",
        "```python\n",
        "expand((cos(x) + sin(x))**2)\n",
        "#  2                           2\n",
        "#sin (x) + 2⋅sin(x)⋅cos(x) + cos (x)\n",
        "factor(cos(x)**2 + 2*cos(x)*sin(x) + sin(x)**2)\n",
        "#          2\n",
        "#(sin(x) + cos(x))\n",
        "```"
      ],
      "metadata": {
        "id": "7ntNPIM5gOkz"
      }
    },
    {
      "cell_type": "markdown",
      "source": [
        "## collect\n",
        "collect() collects common powers of a term in an expression. For example\n",
        "\n",
        "Run code block in SymPy Live\n",
        "```python\n",
        "expr = x*y + x - 3 + 2*x**2 - z*x**2 + x**3\n",
        "expr\n",
        " 3    2        2\n",
        "x  - x ⋅z + 2⋅x  + x⋅y + x - 3\n",
        "collected_expr = collect(expr, x)\n",
        "collected_expr\n",
        " 3    2\n",
        "x  + x ⋅(2 - z) + x⋅(y + 1) - 3\n",
        "collect() is particularly useful in conjunction with the .coeff() method. expr.coeff(x, n) gives the coefficient of x**n in expr:\n",
        "\n",
        "Run code block in SymPy Live\n",
        "collected_expr.coeff(x, 2)\n",
        "2 - z\n",
        "```\n"
      ],
      "metadata": {
        "id": "EbadjwP_gWQY"
      }
    },
    {
      "cell_type": "markdown",
      "source": [
        "## cancel\n",
        "cancel() will take any rational function and put it into the standard canonical form, \n",
        " \n",
        ", where  and  are expanded polynomials with no common factors, and the leading coefficients of  and  do not have denominators (i.e., are integers).\n",
        "\n",
        "Run code block in SymPy Live\n",
        "```python\n",
        "cancel((x**2 + 2*x + 1)/(x**2 + x))\n",
        "x + 1\n",
        "─────\n",
        "  x\n",
        "```  \n",
        "Run code block in SymPy Live\n",
        "```python\n",
        "expr = 1/x + (3*x/2 - 2)/(x - 4)\n",
        "expr\n",
        "3⋅x\n",
        "─── - 2\n",
        " 2        1\n",
        "─────── + ─\n",
        " x - 4    x\n",
        "cancel(expr)\n",
        "   2\n",
        "3⋅x  - 2⋅x - 8\n",
        "──────────────\n",
        "     2\n",
        "  2⋅x  - 8⋅x\n",
        "```\n",
        "Run code block in SymPy Live\n",
        "```python\n",
        "expr = (x*y**2 - 2*x*y*z + x*z**2 + y**2 - 2*y*z + z**2)/(x**2 - 1)\n",
        "expr\n",
        "   2                2    2            2\n",
        "x⋅y  - 2⋅x⋅y⋅z + x⋅z  + y  - 2⋅y⋅z + z\n",
        "───────────────────────────────────────\n",
        "                  2\n",
        "                 x  - 1\n",
        "cancel(expr)\n",
        " 2            2\n",
        "y  - 2⋅y⋅z + z\n",
        "───────────────\n",
        "     x - 1\n",
        "```\n",
        "Note that since factor() will completely factorize both the numerator and the denominator of an expression, it can also be used to do the same thing:\n",
        "\n",
        "Run code block in SymPy Live\n",
        "```python\n",
        "factor(expr)\n",
        "       2\n",
        "(y - z)\n",
        "────────\n",
        " x - 1\n",
        "```\n",
        "However, if you are only interested in making sure that the expression is in canceled form, cancel() is more efficient than factor()."
      ],
      "metadata": {
        "id": "p7FG6Srch-Bg"
      }
    },
    {
      "cell_type": "markdown",
      "source": [
        "## apart\n",
        "apart() performs a partial fraction decomposition on a rational function.\n",
        "\n",
        "Run code block in SymPy Live\n",
        "```python\n",
        "expr = (4*x**3 + 21*x**2 + 10*x + 12)/(x**4 + 5*x**3 + 5*x**2 + 4*x)\n",
        "expr\n",
        "#   3       2\n",
        "#4⋅x  + 21⋅x  + 10⋅x + 12\n",
        "#────────────────────────\n",
        "#  4      3      2\n",
        "# x  + 5⋅x  + 5⋅x  + 4⋅x\n",
        "apart(expr)\n",
        "# 2⋅x - 1       1     3\n",
        "#────────── - ───── + ─\n",
        "# 2           x + 4   x\n",
        "#x  + x + 1\n",
        "```"
      ],
      "metadata": {
        "id": "VxCfox19gWD1"
      }
    },
    {
      "cell_type": "markdown",
      "source": [
        ""
      ],
      "metadata": {
        "id": "fknasv3mgVpx"
      }
    },
    {
      "cell_type": "markdown",
      "source": [
        "# Trigonometric Simplification\n",
        "Note SymPy follows Python’s naming conventions for inverse trigonometric functions, which is to append an a to the front of the function’s name. For example, the inverse cosine, or arc cosine, is called acos().\n",
        "Run code block in SymPy Live\n",
        "```python\n",
        "acos(x)\n",
        "acos(x)\n",
        "cos(acos(x))\n",
        "x\n",
        "asin(1)\n",
        "π\n",
        "─\n",
        "2\n",
        "```"
      ],
      "metadata": {
        "id": "nAcJJ3VO57iq"
      }
    },
    {
      "cell_type": "markdown",
      "source": [
        "## trigsimp\n",
        "To simplify expressions using trigonometric identities, use trigsimp().\n",
        "\n",
        "Run code block in SymPy Live\n",
        "```python\n",
        "trigsimp(sin(x)**2 + cos(x)**2)\n",
        "1\n",
        "trigsimp(sin(x)**4 - 2*cos(x)**2*sin(x)**2 + cos(x)**4)\n",
        "cos(4⋅x)   1\n",
        "──────── + ─\n",
        "   2       2\n",
        "trigsimp(sin(x)*tan(x)/sec(x))\n",
        "   2\n",
        "sin (x)\n",
        "```\n",
        "trigsimp() also works with hyperbolic trig functions.\n",
        "\n",
        "Run code block in SymPy Live\n",
        "```python\n",
        "trigsimp(cosh(x)**2 + sinh(x)**2)\n",
        "cosh(2⋅x)\n",
        "trigsimp(sinh(x)/tanh(x))\n",
        "cosh(x)\n",
        "```\n",
        "Much like simplify(), trigsimp() applies various trigonometric identities to the input expression, and then uses a heuristic to return the “best” one.\n",
        "\n"
      ],
      "metadata": {
        "id": "E1ZM9fXIiz9c"
      }
    },
    {
      "cell_type": "markdown",
      "source": [
        "## expand_trig\n",
        "To expand trigonometric functions, that is, apply the sum or double angle identities, use expand_trig().\n",
        "\n",
        "Run code block in SymPy Live\n",
        "```python\n",
        "expand_trig(sin(x + y))\n",
        "sin(x)⋅cos(y) + sin(y)⋅cos(x)\n",
        "expand_trig(tan(2*x))\n",
        "  2⋅tan(x)\n",
        "───────────\n",
        "       2\n",
        "1 - tan (x)\n",
        "```\n",
        "Because expand_trig() tends to make trigonometric expressions larger, and trigsimp() tends to make them smaller, these identities can be applied in reverse using trigsimp()\n",
        "\n",
        "Run code block in SymPy Live\n",
        "```python\n",
        "trigsimp(sin(x)*cos(y) + sin(y)*cos(x))\n",
        "sin(x + y)\n",
        "```"
      ],
      "metadata": {
        "id": "XhU86UH2i4v8"
      }
    },
    {
      "cell_type": "markdown",
      "source": [
        "# Powers\n",
        "\n",
        "Run code block in SymPy Live\n",
        "```python\n",
        "x, y = symbols('x y', positive=True)\n",
        "a, b = symbols('a b', real=True)\n",
        "z, t, c = symbols('z t c')\n",
        "```\n",
        "Note In SymPy, sqrt(x) is just a shortcut to x**Rational(1, 2). They are exactly the same object.\n",
        "Run code block in SymPy Live\n",
        "```python\n",
        "sqrt(x) == x**Rational(1, 2)\n",
        "True\n",
        "```\n"
      ],
      "metadata": {
        "id": "5PtsR_rI6FMQ"
      }
    },
    {
      "cell_type": "markdown",
      "source": [
        "## powsimp\n",
        "powsimp() applies identities 1 and 2 from above, from left to right.\n",
        "\n",
        "Run code block in SymPy Live\n",
        "```python\n",
        "powsimp(x**a*x**b)\n",
        "  a + b\n",
        " x\n",
        "powsimp(x**a*y**a)\n",
        "     a\n",
        "(x⋅y)\n",
        "```\n",
        "Notice that powsimp() refuses to do the simplification if it is not valid.\n",
        "\n",
        "Run code block in SymPy Live\n",
        "```python\n",
        "powsimp(t**c*z**c)\n",
        " c  c\n",
        "t ⋅z\n",
        "```\n",
        "If you know that you want to apply this simplification, but you don’t want to mess with assumptions, you can pass the force=True flag. This will force the simplification to take place, regardless of assumptions.\n",
        "\n",
        "Run code block in SymPy Live\n",
        "```python\n",
        "powsimp(t**c*z**c, force=True)\n",
        "     c\n",
        "(t⋅z)\n",
        "```\n",
        "Note that in some instances, in particular, when the exponents are integers or rational numbers, and identity 2 holds, it will be applied automatically.\n",
        "\n",
        "Run code block in SymPy Live\n",
        "```python\n",
        "(z*t)**2\n",
        "  2  2\n",
        " t ⋅z\n",
        "sqrt(x*y)\n",
        " √x⋅√y\n",
        "```\n",
        "This means that it will be impossible to undo this identity with powsimp(), because even if powsimp() were to put the bases together, they would be automatically split apart again.\n",
        "\n",
        "Run code block in SymPy Live\n",
        "```python\n",
        "powsimp(z**2*t**2)\n",
        "  2  2\n",
        " t ⋅z\n",
        "powsimp(sqrt(x)*sqrt(y))\n",
        " √x⋅√y\n",
        "``` \n"
      ],
      "metadata": {
        "id": "Ka_NDzO5kSkN"
      }
    },
    {
      "cell_type": "markdown",
      "source": [
        "## expand_power_exp / expand_power_base\n",
        "expand_power_exp() and expand_power_base() apply identities 1 and 2 from right to left, respectively.\n",
        "\n",
        "Run code block in SymPy Live\n",
        "```python\n",
        "expand_power_exp(x**(a + b))\n",
        " a  b\n",
        "x ⋅x\n",
        "```\n",
        "Run code block in SymPy Live\n",
        "```python\n",
        "expand_power_base((x*y)**a)\n",
        " a  a\n",
        "x ⋅y\n",
        "```\n",
        "As with powsimp(), identity 2 is not applied if it is not valid.\n",
        "\n",
        "Run code block in SymPy Live\n",
        "```python\n",
        "expand_power_base((z*t)**c)\n",
        "     c\n",
        "(t⋅z)\n",
        "```\n",
        "And as with powsimp(), you can force the expansion to happen without fiddling with assumptions by using force=True.\n",
        "\n",
        "Run code block in SymPy Live\n",
        "```python\n",
        "expand_power_base((z*t)**c, force=True)\n",
        "  c  c\n",
        " t ⋅z\n",
        "```\n",
        "As with identity 2, identity 1 is applied automatically if the power is a number, and hence cannot be undone with expand_power_exp().\n",
        "\n",
        "Run code block in SymPy Live\n",
        "```python\n",
        "x**2*x**3\n",
        "  5\n",
        " x\n",
        "expand_power_exp(x**5)\n",
        "  5\n",
        " x\n",
        "```\n"
      ],
      "metadata": {
        "id": "RyrGYLq8kT89"
      }
    },
    {
      "cell_type": "markdown",
      "source": [
        "## powdenest\n",
        "powdenest() applies identity 3, from left to right.\n",
        "\n",
        "Run code block in SymPy Live\n",
        "```python\n",
        "powdenest((x**a)**b)\n",
        " a⋅b\n",
        "x\n",
        "```\n",
        "As before, the identity is not applied if it is not true under the given assumptions.\n",
        "\n",
        "Run code block in SymPy Live\n",
        "```python\n",
        "powdenest((z**a)**b)\n",
        "    b\n",
        "⎛ a⎞\n",
        "⎝z ⎠\n",
        "```\n",
        "And as before, this can be manually overridden with force=True.\n",
        "\n",
        "Run code block in SymPy Live\n",
        "```python\n",
        "powdenest((z**a)**b, force=True)\n",
        " a⋅b\n",
        "z\n",
        "```"
      ],
      "metadata": {
        "id": "4fPGWDeYkTvH"
      }
    },
    {
      "cell_type": "markdown",
      "source": [
        ""
      ],
      "metadata": {
        "id": "nQVFYCIBkTSH"
      }
    },
    {
      "cell_type": "markdown",
      "source": [
        "# Exponentials and logarithms\n",
        "\n",
        "Note In SymPy, as in Python and most programming languages, log is the natural logarithm, also known as ln. SymPy automatically provides an alias ln = log in case you forget this.\n",
        "Run code block in SymPy Live\n",
        "```python\n",
        "ln(x)\n",
        "log(x)\n",
        "```\n",
        "Logarithms have similar issues as powers. There are two main identities\n",
        "\n",
        "\n",
        "\n",
        "Neither identity is true for arbitrary complex  and , due to the branch cut in the complex plane for the complex logarithm. However, sufficient conditions for the identities to hold are if  and  are positive and  is real.\n",
        "\n",
        "Run code block in SymPy Live\n",
        "```python\n",
        "x, y = symbols('x y', positive=True)\n",
        "n = symbols('n', real=True)\n",
        "```\n",
        "As before, z and t will be Symbols with no additional assumptions.\n",
        "\n",
        "Note that the identity \n",
        " \n",
        " is a special case of identities 1 and 2 by \n",
        " \n",
        " \n",
        " \n",
        " \n",
        " , and thus it also holds if  and  are positive, but may not hold in general.\n",
        "\n",
        "We also see that \n",
        " comes from \n",
        ", and thus holds when  is real (and it can be verified that it does not hold in general for arbitrary complex , for example, \n",
        ").\n",
        "\n",
        "\n"
      ],
      "metadata": {
        "id": "o7U8Dz0oex5x"
      }
    },
    {
      "cell_type": "markdown",
      "source": [
        "## expand_log\n",
        "To apply identities 1 and 2 from left to right, use expand_log(). As always, the identities will not be applied unless they are valid.\n",
        "\n",
        "Run code block in SymPy Live\n",
        "```python\n",
        "expand_log(log(x*y))\n",
        "log(x) + log(y)\n",
        "expand_log(log(x/y))\n",
        "log(x) - log(y)\n",
        "expand_log(log(x**2))\n",
        "2⋅log(x)\n",
        "expand_log(log(x**n))\n",
        "n⋅log(x)\n",
        "expand_log(log(z*t))\n",
        "log(t⋅z)\n",
        "```\n",
        "As with powsimp() and powdenest(), expand_log() has a force option that can be used to ignore assumptions.\n",
        "\n",
        "Run code block in SymPy Live\n",
        "```python\n",
        "expand_log(log(z**2))\n",
        "   ⎛ 2⎞\n",
        "log⎝z ⎠\n",
        "expand_log(log(z**2), force=True)\n",
        "2⋅log(z)\n",
        "```\n"
      ],
      "metadata": {
        "id": "bBoRVzlElDAL"
      }
    },
    {
      "cell_type": "markdown",
      "source": [
        "## logcombine\n",
        "To apply identities 1 and 2 from right to left, use logcombine().\n",
        "\n",
        "Run code block in SymPy Live\n",
        "```python\n",
        "logcombine(log(x) + log(y))\n",
        "log(x⋅y)\n",
        "logcombine(n*log(x))\n",
        "   ⎛ n⎞\n",
        "log⎝x ⎠\n",
        "logcombine(n*log(z))\n",
        "n⋅log(z)\n",
        "```\n",
        "logcombine() also has a force option that can be used to ignore assumptions.\n",
        "\n",
        "Run code block in SymPy Live\n",
        "```python\n",
        "logcombine(n*log(z), force=True)\n",
        "   ⎛ n⎞\n",
        "log⎝z ⎠\n",
        "```"
      ],
      "metadata": {
        "id": "qWpaC-O7lGu2"
      }
    },
    {
      "cell_type": "markdown",
      "source": [
        "# Special Functions\n",
        "SymPy implements dozens of special functions, ranging from functions in combinatorics to mathematical physics.\n",
        "\n",
        "An extensive list of the special functions included with SymPy and their documentation is at the Functions Module page.\n",
        "\n",
        "For the purposes of this tutorial, let’s introduce a few special functions in SymPy.\n",
        "\n",
        "Let’s define x, y, and z as regular, complex Symbols, removing any assumptions we put on them in the previous section. We will also define k, m, and n.\n",
        "\n",
        "Run code block in SymPy \n",
        "```\n",
        "x, y, z = symbols('x y z')\n",
        "k, m, n = symbols('k m n')\n",
        "```\n",
        "The factorial function is factorial. factorial(n) represents .  represents the number of permutations of  distinct items.\n",
        "\n",
        "Run code block in SymPy Live\n",
        "```\n",
        "factorial(n)\n",
        "n!\n",
        "```\n",
        "The binomial coefficient function is binomial. binomial(n, k) represents \n",
        ", the number of ways to choose  items from a set of  distinct items. It is also often written as , and is pronounced “ choose ”.\n",
        "\n",
        "Run code block in SymPy Live\n",
        "```\n",
        "binomial(n, k)\n",
        "⎛n⎞\n",
        "⎜ ⎟\n",
        "⎝k⎠\n",
        "```\n",
        "The factorial function is closely related to the gamma function, gamma. gamma(z) represents \n",
        ", which for positive integer  is the same as .\n",
        "\n",
        "Run code block in SymPy Live\n",
        "```\n",
        "gamma(z)\n",
        "Γ(z)\n",
        "```\n",
        "The generalized hypergeometric function is hyper. hyper([a_1, ..., a_p], [b_1, ..., b_q], z) represents \n",
        " \n",
        ". The most common case is \n",
        ", which is often referred to as the ordinary hypergeometric function.\n",
        "\n",
        "Run code block in SymPy Live\n",
        "```\n",
        "hyper([1, 2], [3], z)\n",
        " ┌─  ⎛1, 2 │  ⎞\n",
        " ├─  ⎜     │ z⎟\n",
        "2╵ 1 ⎝ 3   │  ⎠\n",
        "```\n",
        "rewrite\n",
        "A common way to deal with special functions is to rewrite them in terms of one another. This works for any function in SymPy, not just special functions. To rewrite an expression in terms of a function, use expr.rewrite(function). For example,\n",
        "\n",
        "Run code block in SymPy Live\n",
        "```\n",
        "tan(x).rewrite(sin)\n",
        "     2\n",
        "2⋅sin (x)\n",
        "─────────\n",
        " sin(2⋅x)\n",
        "factorial(x).rewrite(gamma)\n",
        "Γ(x + 1)\n",
        "```\n",
        "For some tips on applying more targeted rewriting, see the Advanced Expression Manipulation section.\n",
        "\n"
      ],
      "metadata": {
        "id": "eeB7G2H8e3xQ"
      }
    },
    {
      "cell_type": "markdown",
      "source": [
        "## expand_func\n",
        "To expand special functions in terms of some identities, use expand_func(). For example\n",
        "\n",
        "Run code block in SymPy Live\n",
        "```\n",
        "expand_func(gamma(x + 3))\n",
        "x⋅(x + 1)⋅(x + 2)⋅Γ(x)\n",
        "```\n",
        "#\n"
      ],
      "metadata": {
        "id": "l1_bSLT5mT29"
      }
    },
    {
      "cell_type": "markdown",
      "source": [
        "## hyperexpand\n",
        "To rewrite hyper in terms of more standard functions, use hyperexpand().\n",
        "\n",
        "Run code block in SymPy Live\n",
        "```\n",
        "hyperexpand(hyper([1, 1], [2], z))\n",
        "-log(1 - z)\n",
        "────────────\n",
        "     z\n",
        "```\n",
        "hyperexpand() also works on the more general Meijer G-function (see its documentation for more information).\n",
        "\n",
        "Run code block in SymPy Live\n",
        "```\n",
        "expr = meijerg([[1],[1]], [[1],[]], -z)\n",
        "expr\n",
        "╭─╮1, 1 ⎛1  1 │   ⎞\n",
        "│╶┐     ⎜     │ -z⎟\n",
        "╰─╯2, 1 ⎝1    │   ⎠\n",
        "hyperexpand(expr)\n",
        " 1\n",
        " ─\n",
        " z\n",
        "ℯ\n",
        "```"
      ],
      "metadata": {
        "id": "TL3uB_Z7mu3o"
      }
    },
    {
      "cell_type": "markdown",
      "source": [
        "## combsimp\n",
        "To simplify combinatorial expressions, use combsimp().\n",
        "\n",
        "Run code block in SymPy Live\n",
        "```\n",
        "n, k = symbols('n k', integer = True)\n",
        "combsimp(factorial(n)/factorial(n - 3))\n",
        "n⋅(n - 2)⋅(n - 1)\n",
        "combsimp(binomial(n+1, k+1)/binomial(n, k))\n",
        "n + 1\n",
        "─────\n",
        "k + 1\n",
        "```\n"
      ],
      "metadata": {
        "id": "4weccBzKmaFc"
      }
    },
    {
      "cell_type": "markdown",
      "source": [
        "## gammasimp\n",
        "To simplify expressions with gamma functions or combinatorial functions with non-integer argument, use gammasimp().\n",
        "\n",
        "Run code block in SymPy Live\n",
        "```\n",
        "gammasimp(gamma(x)*gamma(1 - x))\n",
        "   π\n",
        "────────\n",
        "sin(π⋅x)\n",
        "```\n",
        "Example: Continued Fractions\n",
        "Let’s use SymPy to explore continued fractions. A continued fraction is an expression of the form\n",
        "\n",
        " \n",
        " \n",
        " \n",
        " \n",
        "where \n",
        " are integers, and \n",
        " are positive. A continued fraction can also be infinite, but infinite objects are more difficult to represent in computers, so we will only examine the finite case here.\n",
        "\n",
        "A continued fraction of the above form is often represented as a list \n",
        ". Let’s write a simple function that converts such a list to its continued fraction form. The easiest way to construct a continued fraction from a list is to work backwards. Note that despite the apparent symmetry of the definition, the first element, \n",
        ", must usually be handled differently from the rest.\n",
        "\n",
        "Run code block in SymPy Live\n",
        "```\n",
        "def list_to_frac(l):\n",
        "    expr = Integer(0)\n",
        "    for i in reversed(l[1:]):\n",
        "        expr += i\n",
        "        expr = 1/expr\n",
        "    return l[0] + expr\n",
        "list_to_frac([x, y, z])\n",
        "      1\n",
        "x + ─────\n",
        "        1\n",
        "    y + ─\n",
        "        z\n",
        "```\n",
        "We use Integer(0) in list_to_frac so that the result will always be a SymPy object, even if we only pass in Python ints.\n",
        "\n",
        "Run code block in SymPy Live\n",
        "```\n",
        "list_to_frac([1, 2, 3, 4])\n",
        "43\n",
        "──\n",
        "30\n",
        "```\n",
        "Every finite continued fraction is a rational number, but we are interested in symbolics here, so let’s create a symbolic continued fraction. The symbols() function that we have been using has a shortcut to create numbered symbols. symbols('a0:5') will create the symbols a0, a1, …, a4.\n",
        "\n",
        "Run code block in SymPy Live\n",
        "```\n",
        "syms = symbols('a0:5')\n",
        "syms\n",
        "(a₀, a₁, a₂, a₃, a₄)\n",
        "a0, a1, a2, a3, a4 = syms\n",
        "frac = list_to_frac(syms)\n",
        "frac\n",
        "             1\n",
        "a₀ + ─────────────────\n",
        "               1\n",
        "     a₁ + ────────────\n",
        "                  1\n",
        "          a₂ + ───────\n",
        "                    1\n",
        "               a₃ + ──\n",
        "                    a₄\n",
        "```\n",
        "This form is useful for understanding continued fractions, but lets put it into standard rational function form using cancel().\n",
        "\n",
        "Run code block in SymPy Live\n",
        "```\n",
        "frac = cancel(frac)\n",
        "frac\n",
        "a₀⋅a₁⋅a₂⋅a₃⋅a₄ + a₀⋅a₁⋅a₂ + a₀⋅a₁⋅a₄ + a₀⋅a₃⋅a₄ + a₀ + a₂⋅a₃⋅a₄ + a₂ + a₄\n",
        "─────────────────────────────────────────────────────────────────────────\n",
        "                 a₁⋅a₂⋅a₃⋅a₄ + a₁⋅a₂ + a₁⋅a₄ + a₃⋅a₄ + 1\n",
        "```\n",
        "Now suppose we were given frac in the above canceled form. In fact, we might be given the fraction in any form, but we can always put it into the above canonical form with cancel(). Suppose that we knew that it could be rewritten as a continued fraction. How could we do this with SymPy? A continued fraction is recursively \n",
        " \n",
        ", where  is an integer and  is a (smaller) continued fraction. If we could write the expression in this form, we could pull out each  recursively and add it to a list. We could then get a continued fraction with our list_to_frac() function.\n",
        "\n",
        "The key observation here is that we can convert an expression to the form \n",
        " \n",
        " by doing a partial fraction decomposition with respect to . This is because  does not contain . This means we need to use the apart() function. We use apart() to pull the term out, then subtract it from the expression, and take the reciprocal to get the  part.\n",
        "\n",
        "Run code block in SymPy Live\n",
        "```\n",
        "l = []\n",
        "frac = apart(frac, a0)\n",
        "frac\n",
        "                a₂⋅a₃⋅a₄ + a₂ + a₄\n",
        "a₀ + ───────────────────────────────────────\n",
        "     a₁⋅a₂⋅a₃⋅a₄ + a₁⋅a₂ + a₁⋅a₄ + a₃⋅a₄ + 1\n",
        "l.append(a0)\n",
        "frac = 1/(frac - a0)\n",
        "frac\n",
        "a₁⋅a₂⋅a₃⋅a₄ + a₁⋅a₂ + a₁⋅a₄ + a₃⋅a₄ + 1\n",
        "───────────────────────────────────────\n",
        "           a₂⋅a₃⋅a₄ + a₂ + a₄\n",
        "```\n",
        "Now we repeat this process\n",
        "\n",
        "Run code block in SymPy Live\n",
        "```\n",
        "frac = apart(frac, a1)\n",
        "frac\n",
        "         a₃⋅a₄ + 1\n",
        "a₁ + ──────────────────\n",
        "     a₂⋅a₃⋅a₄ + a₂ + a₄\n",
        "l.append(a1)\n",
        "frac = 1/(frac - a1)\n",
        "frac = apart(frac, a2)\n",
        "frac\n",
        "         a₄\n",
        "a₂ + ─────────\n",
        "     a₃⋅a₄ + 1\n",
        "l.append(a2)\n",
        "frac = 1/(frac - a2)\n",
        "frac = apart(frac, a3)\n",
        "frac\n",
        "     1\n",
        "a₃ + ──\n",
        "     a₄\n",
        "l.append(a3)\n",
        "frac = 1/(frac - a3)\n",
        "frac = apart(frac, a4)\n",
        "frac\n",
        "a₄\n",
        "l.append(a4)\n",
        "list_to_frac(l)\n",
        "             1\n",
        "a₀ + ─────────────────\n",
        "               1\n",
        "     a₁ + ────────────\n",
        "                  1\n",
        "          a₂ + ───────\n",
        "                    1\n",
        "               a₃ + ──\n",
        "                    a₄\n",
        "```\n"
      ],
      "metadata": {
        "id": "JBFT992BmaWv"
      }
    },
    {
      "cell_type": "markdown",
      "source": [
        "## Quick Tip\n",
        "\n",
        "You can execute multiple lines at once in SymPy Live. Typing Shift-Enter instead of Enter will enter a newline instead of executing.\n",
        "\n",
        "Of course, this exercise seems pointless, because we already know that our frac is list_to_frac([a0, a1, a2, a3, a4]). So try the following exercise. Take a list of symbols and randomize them, and create the canceled continued fraction, and see if you can reproduce the original list. For example\n",
        "\n",
        "Run code block in SymPy Live\n",
        "```\n",
        "import random\n",
        "l = list(symbols('a0:5'))\n",
        "random.shuffle(l)\n",
        "orig_frac = frac = cancel(list_to_frac(l))\n",
        "del l\n",
        "```\n",
        "Click on “Run code block in SymPy Live” on the definition of list_to_frac() above, and then on the above example, and try to reproduce l from frac. I have deleted l at the end to remove the temptation for peeking (you can check your answer at the end by calling cancel(list_to_frac(l)) on the list that you generate at the end, and comparing it to orig_frac.\n",
        "\n",
        "See if you can think of a way to figure out what symbol to pass to apart() at each stage (hint: think of what happens to \n",
        " in the formula \n",
        " \n",
        " when it is canceled)."
      ],
      "metadata": {
        "id": "GQE3O0cFm5Uv"
      }
    }
  ]
}