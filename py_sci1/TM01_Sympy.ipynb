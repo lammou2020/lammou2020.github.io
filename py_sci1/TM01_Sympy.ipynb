{
  "nbformat": 4,
  "nbformat_minor": 0,
  "metadata": {
    "colab": {
      "name": "TM01_TenMinutesSympy.ipynb",
      "provenance": [],
      "toc_visible": true,
      "collapsed_sections": []
    },
    "kernelspec": {
      "name": "python3",
      "display_name": "Python 3"
    },
    "language_info": {
      "name": "python"
    }
  },
  "cells": [
    {
      "cell_type": "markdown",
      "source": [
        "# 代數運算\n",
        "- 替換 subs\n",
        "- 簡化式子 simpify\n",
        "- 展開式  expand\n",
        "- 因子分解 factor\n",
        "- 解方程  solve"
      ],
      "metadata": {
        "id": "WvZzqU-wv1Xx"
      }
    },
    {
      "cell_type": "code",
      "execution_count": 1,
      "metadata": {
        "colab": {
          "base_uri": "https://localhost:8080/",
          "height": 555
        },
        "id": "rdeiPwRfvw7p",
        "outputId": "f9729e85-89ff-4c78-c7f3-365b0226613c"
      },
      "outputs": [
        {
          "output_type": "stream",
          "name": "stdout",
          "text": [
            "========================\n",
            "替换 subs\n"
          ]
        },
        {
          "output_type": "display_data",
          "data": {
            "text/plain": [
              "(x**2 + y**2 + z**2)/(x - 2*y)"
            ],
            "text/latex": "$\\displaystyle \\frac{x^{2} + y^{2} + z^{2}}{x - 2 y}$"
          },
          "metadata": {}
        },
        {
          "output_type": "stream",
          "name": "stdout",
          "text": [
            "當 x=4 時:\n"
          ]
        },
        {
          "output_type": "display_data",
          "data": {
            "text/plain": [
              "(y**2 + z**2 + 16)/(4 - 2*y)"
            ],
            "text/latex": "$\\displaystyle \\frac{y^{2} + z^{2} + 16}{4 - 2 y}$"
          },
          "metadata": {}
        },
        {
          "output_type": "stream",
          "name": "stdout",
          "text": [
            "========================\n",
            "简化 simpify\n",
            "約簡:\n"
          ]
        },
        {
          "output_type": "display_data",
          "data": {
            "text/plain": [
              "(x**2 - x - 6)/(x**2 - 3*x)"
            ],
            "text/latex": "$\\displaystyle \\frac{x^{2} - x - 6}{x^{2} - 3 x}$"
          },
          "metadata": {}
        },
        {
          "output_type": "display_data",
          "data": {
            "text/plain": [
              "(x + 2)/x"
            ],
            "text/latex": "$\\displaystyle \\frac{x + 2}{x}$"
          },
          "metadata": {}
        },
        {
          "output_type": "stream",
          "name": "stdout",
          "text": [
            "========================\n",
            "開展 expand\n"
          ]
        },
        {
          "output_type": "display_data",
          "data": {
            "text/plain": [
              "(x - 2)**2*(x + 1)**3"
            ],
            "text/latex": "$\\displaystyle \\left(x - 2\\right)^{2} \\left(x + 1\\right)^{3}$"
          },
          "metadata": {}
        },
        {
          "output_type": "stream",
          "name": "stdout",
          "text": [
            "展開式:\n"
          ]
        },
        {
          "output_type": "display_data",
          "data": {
            "text/plain": [
              "x**5 - x**4 - 5*x**3 + x**2 + 8*x + 4"
            ],
            "text/latex": "$\\displaystyle x^{5} - x^{4} - 5 x^{3} + x^{2} + 8 x + 4$"
          },
          "metadata": {}
        },
        {
          "output_type": "stream",
          "name": "stdout",
          "text": [
            "========================\n",
            "求因子 factor\n"
          ]
        },
        {
          "output_type": "display_data",
          "data": {
            "text/plain": [
              "3*x**4 - 36*x**3 + 99*x**2 - 6*x - 144"
            ],
            "text/latex": "$\\displaystyle 3 x^{4} - 36 x^{3} + 99 x^{2} - 6 x - 144$"
          },
          "metadata": {}
        },
        {
          "output_type": "stream",
          "name": "stdout",
          "text": [
            "因式:\n"
          ]
        },
        {
          "output_type": "display_data",
          "data": {
            "text/plain": [
              "3*(x - 8)*(x - 3)*(x - 2)*(x + 1)"
            ],
            "text/latex": "$\\displaystyle 3 \\left(x - 8\\right) \\left(x - 3\\right) \\left(x - 2\\right) \\left(x + 1\\right)$"
          },
          "metadata": {}
        },
        {
          "output_type": "stream",
          "name": "stdout",
          "text": [
            "========================\n",
            "解方程 solve\n"
          ]
        },
        {
          "output_type": "display_data",
          "data": {
            "text/plain": [
              "Eq(x**2 - 4*x, -4)"
            ],
            "text/latex": "$\\displaystyle x^{2} - 4 x = -4$"
          },
          "metadata": {}
        },
        {
          "output_type": "stream",
          "name": "stdout",
          "text": [
            "方程解:\n"
          ]
        },
        {
          "output_type": "display_data",
          "data": {
            "text/plain": [
              "[2]"
            ]
          },
          "metadata": {}
        }
      ],
      "source": [
        "import random    #亂數 \n",
        "import math     #math 內置數學函數\n",
        "import numpy as np #數字矩陣\n",
        "import sympy as sp #sympy 簡易別名 sp    \n",
        "from sympy.parsing.sympy_parser import parse_expr #字串解釋成運算式\n",
        "from sympy.plotting import plot          #繪圖表\n",
        "from IPython.display import Latex         #網頁顯示數學符號\n",
        "\n",
        "x,y,z=sp.symbols('x y z')\n",
        "print(\"========================\")\n",
        "print(\"替换 subs\")\n",
        "g= (x**2 + y**2 + z**2) / (x-y-y) \n",
        "display( g )\n",
        "print(\"當 x=4 時:\")\n",
        "display( g.subs(x,4) )\n",
        "print(\"========================\")\n",
        "print(\"简化 simpify\")\n",
        "f=(x**2 -x -6)/(x**2-3*x)\n",
        "print(\"約簡:\")\n",
        "display( f )\n",
        "display( sp.simplify(f) )\n",
        "print(\"========================\")\n",
        "print(\"開展 expand\")\n",
        "f=(x+1)**3 * (x-2)**2\n",
        "display(f)\n",
        "print(\"展開式:\")\n",
        "display(sp.expand(f))\n",
        "print(\"========================\")\n",
        "print(\"求因子 factor\")\n",
        "f=3*x**4-36*x**3+99*x**2-6*x-144\n",
        "display(f)\n",
        "print(\"因式:\")\n",
        "display(sp.factor(f))\n",
        "print(\"========================\")\n",
        "print(\"解方程 solve\")\n",
        "g=sp.Eq(x**2 - 4*x, -4 )\n",
        "display( g )\n",
        "print(\"方程解:\")\n",
        "display( sp.solve(g,x) )"
      ]
    }
  ]
}