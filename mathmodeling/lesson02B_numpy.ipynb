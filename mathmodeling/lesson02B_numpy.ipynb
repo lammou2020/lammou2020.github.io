{
 "cells": [
  {
   "cell_type": "markdown",
   "id": "thousand-practice",
   "metadata": {},
   "source": [
    "# Numpy 科學計算庫"
   ]
  },
  {
   "cell_type": "markdown",
   "id": "functioning-collins",
   "metadata": {},
   "source": [
    "Numpy 提供向量和矩計算.Numpy帶有自定array數組實現, 類似於Python list。  \n",
    "區別在於numpy 只是有一種類型一維及多維數組 multidimensional array。    \n",
    "提供Vector運算。   \n"
   ]
  },
  {
   "cell_type": "markdown",
   "id": "modified-national",
   "metadata": {},
   "source": [
    "- [Numpy 屬性](#Numpy-屬性)\n",
    "- [Numpy 創建 array](#Numpy-創建-array)\n",
    "- [特殊陣列 Zeros, ones, full, random](#特殊陣列-Zeros,-ones,-full,-random)\n",
    "- [random seed](#random-seed)\n",
    "- [Creating array with linspace](#Creating-array-with-linspace)\n",
    "- [Reshaping array](#reshaping-array)\n",
    "- [Array 運算Operations](#Array-運算Operations)\n",
    "- [Array broadcast](#Array-broadcast)\n",
    "- [Querying Array](#Querying-the-array)\n",
    "- [Array slicing](#Array-Slicing)\n",
    "- [Numpy copy深複制](#Numpy-copy)\n",
    "- [Reading CSV/Text](#Reading-CSV/Text)\n",
    "- [Dot Product](#Extra:-Dot-Product)\n",
    "- [Solving linear equations with numpy](#Extra:-Solving-linear-equations-with-Numpy)"
   ]
  },
  {
   "cell_type": "code",
   "execution_count": 2,
   "id": "renewable-johns",
   "metadata": {},
   "outputs": [],
   "source": [
    "import numpy as np"
   ]
  },
  {
   "cell_type": "markdown",
   "id": "occupational-cutting",
   "metadata": {},
   "source": [
    "## Numpy 屬性 \n",
    "array.ndim  \n",
    "array.shape   \n",
    "array.size  \n",
    "array.dtypte  "
   ]
  },
  {
   "cell_type": "markdown",
   "id": "certain-anger",
   "metadata": {},
   "source": [
    "## Numpy 創建 array"
   ]
  },
  {
   "cell_type": "code",
   "execution_count": 3,
   "id": "acceptable-python",
   "metadata": {},
   "outputs": [
    {
     "name": "stdout",
     "output_type": "stream",
     "text": [
      "[1 2 3 4 5]\n"
     ]
    }
   ],
   "source": [
    "arr1 = np.array([1,2,3,4,5])\n",
    "print(arr1)"
   ]
  },
  {
   "cell_type": "markdown",
   "id": "seasonal-copper",
   "metadata": {},
   "source": [
    "array from range"
   ]
  },
  {
   "cell_type": "code",
   "execution_count": 4,
   "id": "racial-trustee",
   "metadata": {},
   "outputs": [
    {
     "name": "stdout",
     "output_type": "stream",
     "text": [
      "[0 1 2 3 4 5 6 7 8 9]\n"
     ]
    }
   ],
   "source": [
    "arr2 = np.array(range(10))\n",
    "print(arr2)"
   ]
  },
  {
   "cell_type": "markdown",
   "id": "linear-intermediate",
   "metadata": {},
   "source": [
    "array from range with `arange`"
   ]
  },
  {
   "cell_type": "code",
   "execution_count": 5,
   "id": "corporate-projection",
   "metadata": {},
   "outputs": [
    {
     "name": "stdout",
     "output_type": "stream",
     "text": [
      "[0 1 2 3 4 5 6 7 8 9]\n"
     ]
    }
   ],
   "source": [
    "arr2b = np.arange(10)\n",
    "print(arr2b)"
   ]
  },
  {
   "cell_type": "code",
   "execution_count": 6,
   "id": "purple-nutrition",
   "metadata": {},
   "outputs": [
    {
     "name": "stdout",
     "output_type": "stream",
     "text": [
      "[10 11 12 13 14 15 16 17 18 19]\n"
     ]
    }
   ],
   "source": [
    "arr2c = np.arange(10,20)\n",
    "print(arr2c)"
   ]
  },
  {
   "cell_type": "code",
   "execution_count": 7,
   "id": "knowing-filename",
   "metadata": {},
   "outputs": [
    {
     "name": "stdout",
     "output_type": "stream",
     "text": [
      "[ 1  3  5  7  9 11 13 15 17 19]\n"
     ]
    }
   ],
   "source": [
    "arr2d = np.arange(1,20,2)\n",
    "print(arr2d)"
   ]
  },
  {
   "cell_type": "markdown",
   "id": "utility-riverside",
   "metadata": {},
   "source": [
    "We can specify the data type by using `dtype`."
   ]
  },
  {
   "cell_type": "code",
   "execution_count": 8,
   "id": "brilliant-contribution",
   "metadata": {},
   "outputs": [
    {
     "name": "stdout",
     "output_type": "stream",
     "text": [
      "[0. 1. 2. 3. 4. 5. 6. 7. 8. 9.]\n"
     ]
    }
   ],
   "source": [
    "arr3 = np.array(range(10), dtype='float')\n",
    "print(arr3)"
   ]
  },
  {
   "cell_type": "markdown",
   "id": "mexican-pilot",
   "metadata": {},
   "source": [
    "### Exercise\n",
    "\n",
    "Please generate an array of [10,20,30,40,50,60,70,80,90,100], in int type."
   ]
  },
  {
   "cell_type": "code",
   "execution_count": null,
   "id": "social-examination",
   "metadata": {},
   "outputs": [],
   "source": []
  },
  {
   "cell_type": "markdown",
   "id": "incredible-phrase",
   "metadata": {},
   "source": [
    "|Expected result|\n",
    "|---|\n",
    "|array([ 10,  20,  30,  40,  50,  60,  70,  80,  90, 100])|"
   ]
  },
  {
   "cell_type": "markdown",
   "id": "given-disney",
   "metadata": {},
   "source": [
    "### Exercise\n",
    "\n",
    "Please generate an array of [10,20,30,40,50,60,70,80,90,100], in float type"
   ]
  },
  {
   "cell_type": "code",
   "execution_count": null,
   "id": "limiting-slovak",
   "metadata": {
    "scrolled": true
   },
   "outputs": [],
   "source": []
  },
  {
   "cell_type": "markdown",
   "id": "above-syndrome",
   "metadata": {},
   "source": [
    "|Expected result|\n",
    "|---|\n",
    "|array([ 10.,  20.,  30.,  40.,  50.,  60.,  70.,  80.,  90., 100.])|"
   ]
  },
  {
   "cell_type": "markdown",
   "id": "offshore-colonial",
   "metadata": {},
   "source": [
    "## 特殊陣列 Zeros, ones, full, random"
   ]
  },
  {
   "cell_type": "code",
   "execution_count": 9,
   "id": "exact-sewing",
   "metadata": {},
   "outputs": [
    {
     "name": "stdout",
     "output_type": "stream",
     "text": [
      "[0. 0. 0. 0. 0. 0. 0. 0. 0. 0.]\n"
     ]
    }
   ],
   "source": [
    "arr6 = np.zeros(10)\n",
    "print(arr6)"
   ]
  },
  {
   "cell_type": "code",
   "execution_count": 10,
   "id": "promotional-address",
   "metadata": {},
   "outputs": [
    {
     "name": "stdout",
     "output_type": "stream",
     "text": [
      "[0 0 0 0 0 0 0 0 0 0]\n"
     ]
    }
   ],
   "source": [
    "arr6b = np.zeros(10, dtype='int')\n",
    "print(arr6b)"
   ]
  },
  {
   "cell_type": "code",
   "execution_count": 7,
   "id": "coral-bicycle",
   "metadata": {},
   "outputs": [
    {
     "name": "stdout",
     "output_type": "stream",
     "text": [
      "[1. 1. 1. 1. 1. 1. 1. 1. 1. 1.]\n"
     ]
    }
   ],
   "source": [
    "arr7 = np.ones(10, dtype='float')\n",
    "print(arr7)"
   ]
  },
  {
   "cell_type": "code",
   "execution_count": 20,
   "id": "communist-charleston",
   "metadata": {},
   "outputs": [
    {
     "name": "stdout",
     "output_type": "stream",
     "text": [
      "[3.14 3.14 3.14]\n"
     ]
    }
   ],
   "source": [
    "arr8 = np.full(3, 3.14)\n",
    "print(arr8)"
   ]
  },
  {
   "cell_type": "code",
   "execution_count": 8,
   "id": "outdoor-pursuit",
   "metadata": {},
   "outputs": [
    {
     "name": "stdout",
     "output_type": "stream",
     "text": [
      "[[3.14 3.14 3.14 3.14 3.14]\n",
      " [3.14 3.14 3.14 3.14 3.14]\n",
      " [3.14 3.14 3.14 3.14 3.14]]\n"
     ]
    }
   ],
   "source": [
    "arr9 = np.full( (3,5), 3.14)\n",
    "print(arr9)"
   ]
  },
  {
   "cell_type": "markdown",
   "id": "armed-parcel",
   "metadata": {},
   "source": [
    "矩陣I 4x4"
   ]
  },
  {
   "cell_type": "code",
   "execution_count": 11,
   "id": "dimensional-worry",
   "metadata": {},
   "outputs": [
    {
     "data": {
      "text/plain": [
       "array([[1., 0., 0., 0.],\n",
       "       [0., 1., 0., 0.],\n",
       "       [0., 0., 1., 0.],\n",
       "       [0., 0., 0., 1.]])"
      ]
     },
     "execution_count": 11,
     "metadata": {},
     "output_type": "execute_result"
    }
   ],
   "source": [
    "np.eye(4)"
   ]
  },
  {
   "cell_type": "code",
   "execution_count": 9,
   "id": "completed-riding",
   "metadata": {
    "scrolled": true
   },
   "outputs": [
    {
     "name": "stdout",
     "output_type": "stream",
     "text": [
      "[0.75945508 0.1365795  0.02105877 0.67158562 0.61963674 0.32909682\n",
      " 0.1289586  0.2066772  0.29778011 0.32803305 0.89039706 0.28170425\n",
      " 0.03995457 0.06076041 0.66694031 0.58170876 0.21634287 0.38888507\n",
      " 0.99448344 0.82759698 0.58726562 0.85647959 0.67668312 0.60833223\n",
      " 0.99202517 0.2218706  0.73417319 0.72897689 0.89004743 0.3749987\n",
      " 0.75070952 0.40156375 0.95464203 0.15715945 0.85650857 0.03346599\n",
      " 0.2942202  0.31012521 0.34273405 0.12591072 0.52464855 0.94797405\n",
      " 0.97727501 0.52776472 0.05123824 0.43995324 0.7517756  0.78173471\n",
      " 0.77536705 0.39803739 0.46487286 0.96344307 0.44201659 0.92873341\n",
      " 0.41922061 0.14482805 0.21534146 0.0038947  0.33556601 0.54705019\n",
      " 0.66287417 0.55152342 0.05848996 0.07307027 0.40041891 0.04338234\n",
      " 0.61158709 0.18888626 0.16844379 0.71746912 0.94023398 0.60858867\n",
      " 0.78128941 0.68535441 0.34182937 0.47876823 0.14929498 0.52216844\n",
      " 0.44788532 0.38462353 0.9957334  0.37566186 0.69687561 0.42056875\n",
      " 0.66231142 0.40334955 0.35852921 0.03706773 0.09203365 0.99932845\n",
      " 0.55667947 0.43455462 0.2411296  0.37632736 0.31337704 0.72001836\n",
      " 0.49636248 0.67929343 0.91767781 0.83675915]\n"
     ]
    }
   ],
   "source": [
    "arr10 = np.random.rand(100)\n",
    "print(arr10)"
   ]
  },
  {
   "cell_type": "code",
   "execution_count": 10,
   "id": "worse-beijing",
   "metadata": {},
   "outputs": [
    {
     "name": "stdout",
     "output_type": "stream",
     "text": [
      "[[0.41844557 0.00830264 0.0405852 ]\n",
      " [0.45104881 0.41008016 0.39761424]\n",
      " [0.72253751 0.61316621 0.19139559]]\n"
     ]
    }
   ],
   "source": [
    "arr10b = np.random.rand(3,3)\n",
    "print(arr10b)"
   ]
  },
  {
   "cell_type": "markdown",
   "id": "described-preserve",
   "metadata": {},
   "source": [
    "## random seed\n",
    "\n",
    "In programming language, random is not true random. We call it pseudorandom. Given the same seed, we can always generate the same sequence of numbers."
   ]
  },
  {
   "cell_type": "code",
   "execution_count": 11,
   "id": "threaded-annotation",
   "metadata": {
    "scrolled": true
   },
   "outputs": [
    {
     "name": "stdout",
     "output_type": "stream",
     "text": [
      "[[0.5488135 ]\n",
      " [0.71518937]\n",
      " [0.60276338]\n",
      " [0.54488318]\n",
      " [0.4236548 ]\n",
      " [0.64589411]\n",
      " [0.43758721]\n",
      " [0.891773  ]\n",
      " [0.96366276]\n",
      " [0.38344152]]\n"
     ]
    }
   ],
   "source": [
    "np.random.seed(0)\n",
    "arr11 = np.random.rand(10,1)\n",
    "print(arr11)"
   ]
  },
  {
   "cell_type": "markdown",
   "id": "alert-prize",
   "metadata": {},
   "source": [
    "If we try to keep executing the following random function, we will keep getting new random numbers. But indeed, they are following the same sequence given the same seed.\n",
    "\n",
    "Try re-running the previous seed and we will get the same sequence again."
   ]
  },
  {
   "cell_type": "code",
   "execution_count": 12,
   "id": "operating-martial",
   "metadata": {
    "scrolled": true
   },
   "outputs": [
    {
     "data": {
      "text/plain": [
       "array([[0.79172504],\n",
       "       [0.52889492],\n",
       "       [0.56804456],\n",
       "       [0.92559664],\n",
       "       [0.07103606],\n",
       "       [0.0871293 ],\n",
       "       [0.0202184 ],\n",
       "       [0.83261985],\n",
       "       [0.77815675],\n",
       "       [0.87001215]])"
      ]
     },
     "execution_count": 12,
     "metadata": {},
     "output_type": "execute_result"
    }
   ],
   "source": [
    "np.random.rand(10,1)"
   ]
  },
  {
   "cell_type": "markdown",
   "id": "finnish-denmark",
   "metadata": {},
   "source": [
    "**Exercise**: \n",
    "Pleaes try using the seed 540, and see if you can generate the following expected result."
   ]
  },
  {
   "cell_type": "code",
   "execution_count": 13,
   "id": "mineral-buying",
   "metadata": {},
   "outputs": [
    {
     "name": "stdout",
     "output_type": "stream",
     "text": [
      "[[0.5488135 ]\n",
      " [0.71518937]\n",
      " [0.60276338]\n",
      " [0.54488318]\n",
      " [0.4236548 ]\n",
      " [0.64589411]\n",
      " [0.43758721]\n",
      " [0.891773  ]\n",
      " [0.96366276]\n",
      " [0.38344152]]\n"
     ]
    }
   ],
   "source": [
    "np.random.seed(0)\n",
    "arr = np.random.rand(10,1)\n",
    "print(arr)"
   ]
  },
  {
   "cell_type": "markdown",
   "id": "confused-rendering",
   "metadata": {},
   "source": [
    "| Expected Result for seed(540) |\n",
    "| --- |\n",
    "| [[0.71688165]\n",
    " [0.50553693]\n",
    " [0.18142109]\n",
    " [0.70069925]\n",
    " [0.81784415]\n",
    " [0.28708016]\n",
    " [0.97490719]\n",
    " [0.09495503]\n",
    " [0.84069722]\n",
    " [0.06900928]]|"
   ]
  },
  {
   "cell_type": "markdown",
   "id": "loved-studio",
   "metadata": {},
   "source": [
    "## Creating array with linspace"
   ]
  },
  {
   "cell_type": "code",
   "execution_count": 14,
   "id": "complicated-imperial",
   "metadata": {},
   "outputs": [
    {
     "name": "stdout",
     "output_type": "stream",
     "text": [
      "[ 0.  5. 10.]\n"
     ]
    }
   ],
   "source": [
    "arr4 = np.linspace(0,10,3)\n",
    "print(arr4)"
   ]
  },
  {
   "cell_type": "code",
   "execution_count": 15,
   "id": "european-event",
   "metadata": {},
   "outputs": [
    {
     "name": "stdout",
     "output_type": "stream",
     "text": [
      "[  0.  25.  50.  75. 100.]\n"
     ]
    }
   ],
   "source": [
    "arr4b = np.linspace(0,100,5)\n",
    "print(arr4b)"
   ]
  },
  {
   "cell_type": "code",
   "execution_count": 16,
   "id": "intensive-bicycle",
   "metadata": {},
   "outputs": [
    {
     "name": "stdout",
     "output_type": "stream",
     "text": [
      "[0.         0.33333333 0.66666667 1.        ]\n"
     ]
    }
   ],
   "source": [
    "arr4c = np.linspace(0,1,4)\n",
    "print(arr4c)"
   ]
  },
  {
   "cell_type": "markdown",
   "id": "collected-place",
   "metadata": {},
   "source": [
    "## reshaping array"
   ]
  },
  {
   "cell_type": "code",
   "execution_count": 17,
   "id": "protective-amazon",
   "metadata": {},
   "outputs": [
    {
     "name": "stdout",
     "output_type": "stream",
     "text": [
      "[[ 1  2  3  4]\n",
      " [ 5  6  7  8]\n",
      " [ 9 10 11 12]]\n"
     ]
    }
   ],
   "source": [
    "arr5 = np.arange(1,13).reshape([3,4])\n",
    "print(arr5)"
   ]
  },
  {
   "cell_type": "code",
   "execution_count": 18,
   "id": "southeast-prince",
   "metadata": {},
   "outputs": [
    {
     "data": {
      "text/plain": [
       "(3, 4)"
      ]
     },
     "execution_count": 18,
     "metadata": {},
     "output_type": "execute_result"
    }
   ],
   "source": [
    "arr5.shape"
   ]
  },
  {
   "cell_type": "markdown",
   "id": "operating-disaster",
   "metadata": {},
   "source": [
    "## Exercise\n",
    "\n",
    "Try to create a random array with shape (5,4)"
   ]
  },
  {
   "cell_type": "code",
   "execution_count": 19,
   "id": "understood-bahrain",
   "metadata": {
    "scrolled": true
   },
   "outputs": [],
   "source": [
    "np.random.seed(0) # Reset the seed, in order to re-create the same result.\n",
    "\n",
    "\n"
   ]
  },
  {
   "cell_type": "markdown",
   "id": "usual-thirty",
   "metadata": {},
   "source": [
    "|Expected result|\n",
    "|---|\n",
    "|array([[0.5488135 , 0.71518937, 0.60276338, 0.54488318],\n",
    "       [0.4236548 , 0.64589411, 0.43758721, 0.891773  ],\n",
    "       [0.96366276, 0.38344152, 0.79172504, 0.52889492],\n",
    "       [0.56804456, 0.92559664, 0.07103606, 0.0871293 ],\n",
    "       [0.0202184 , 0.83261985, 0.77815675, 0.87001215]])|"
   ]
  },
  {
   "cell_type": "markdown",
   "id": "higher-recovery",
   "metadata": {},
   "source": [
    "## Exercise\n",
    "\n",
    "Try to create a one's array with shape (5,4)"
   ]
  },
  {
   "cell_type": "code",
   "execution_count": null,
   "id": "pursuant-underground",
   "metadata": {},
   "outputs": [],
   "source": []
  },
  {
   "cell_type": "markdown",
   "id": "metric-district",
   "metadata": {},
   "source": [
    "|Expected result|\n",
    "|---|\n",
    "|array([[1., 1., 1., 1.],\n",
    "       [1., 1., 1., 1.],\n",
    "       [1., 1., 1., 1.],\n",
    "       [1., 1., 1., 1.],\n",
    "       [1., 1., 1., 1.]])|"
   ]
  },
  {
   "cell_type": "markdown",
   "id": "impaired-couple",
   "metadata": {},
   "source": [
    "## Array 運算Operations"
   ]
  },
  {
   "cell_type": "code",
   "execution_count": 33,
   "id": "controlled-cover",
   "metadata": {
    "scrolled": true
   },
   "outputs": [
    {
     "name": "stdout",
     "output_type": "stream",
     "text": [
      "[[1 2 3]\n",
      " [4 5 6]\n",
      " [7 8 9]]\n"
     ]
    }
   ],
   "source": [
    "grid = np.arange(1,10).reshape([3,3])\n",
    "print(grid)"
   ]
  },
  {
   "cell_type": "markdown",
   "id": "gentle-andrews",
   "metadata": {},
   "source": [
    "### Tile"
   ]
  },
  {
   "cell_type": "code",
   "execution_count": 34,
   "id": "widespread-movie",
   "metadata": {},
   "outputs": [
    {
     "name": "stdout",
     "output_type": "stream",
     "text": [
      "[1 2 3]\n"
     ]
    }
   ],
   "source": [
    "grid2 = np.arange(1,4)\n",
    "print(grid2)"
   ]
  },
  {
   "cell_type": "code",
   "execution_count": 35,
   "id": "passing-innocent",
   "metadata": {},
   "outputs": [
    {
     "name": "stdout",
     "output_type": "stream",
     "text": [
      "[[1 2 3]\n",
      " [1 2 3]\n",
      " [1 2 3]]\n"
     ]
    }
   ],
   "source": [
    "grid2 = np.tile(grid2, (3,1))\n",
    "print(grid2)"
   ]
  },
  {
   "cell_type": "code",
   "execution_count": 36,
   "id": "living-reproduction",
   "metadata": {},
   "outputs": [
    {
     "name": "stdout",
     "output_type": "stream",
     "text": [
      "[[ 2  4  6]\n",
      " [ 5  7  9]\n",
      " [ 8 10 12]]\n"
     ]
    }
   ],
   "source": [
    "print(grid+grid2)"
   ]
  },
  {
   "cell_type": "code",
   "execution_count": 37,
   "id": "municipal-spring",
   "metadata": {},
   "outputs": [
    {
     "name": "stdout",
     "output_type": "stream",
     "text": [
      "[[0 0 0]\n",
      " [3 3 3]\n",
      " [6 6 6]]\n"
     ]
    }
   ],
   "source": [
    "print(grid-grid2)"
   ]
  },
  {
   "cell_type": "code",
   "execution_count": 38,
   "id": "eight-creek",
   "metadata": {},
   "outputs": [
    {
     "name": "stdout",
     "output_type": "stream",
     "text": [
      "[[ 1  4  9]\n",
      " [ 4 10 18]\n",
      " [ 7 16 27]]\n"
     ]
    }
   ],
   "source": [
    "print(grid*grid2)"
   ]
  },
  {
   "cell_type": "code",
   "execution_count": 39,
   "id": "daily-short",
   "metadata": {},
   "outputs": [
    {
     "name": "stdout",
     "output_type": "stream",
     "text": [
      "[[1.  1.  1. ]\n",
      " [4.  2.5 2. ]\n",
      " [7.  4.  3. ]]\n"
     ]
    }
   ],
   "source": [
    "print(grid/grid2)"
   ]
  },
  {
   "cell_type": "code",
   "execution_count": 40,
   "id": "multiple-lobby",
   "metadata": {},
   "outputs": [
    {
     "name": "stdout",
     "output_type": "stream",
     "text": [
      "[[1 1 1]\n",
      " [4 2 2]\n",
      " [7 4 3]]\n"
     ]
    }
   ],
   "source": [
    "print(grid//grid2)"
   ]
  },
  {
   "cell_type": "code",
   "execution_count": 41,
   "id": "extreme-interpretation",
   "metadata": {},
   "outputs": [
    {
     "name": "stdout",
     "output_type": "stream",
     "text": [
      "[[  1   4  27]\n",
      " [  4  25 216]\n",
      " [  7  64 729]]\n"
     ]
    }
   ],
   "source": [
    "print(grid ** grid2)"
   ]
  },
  {
   "cell_type": "markdown",
   "id": "wound-martial",
   "metadata": {},
   "source": [
    "## Array broadcast"
   ]
  },
  {
   "cell_type": "code",
   "execution_count": 42,
   "id": "private-price",
   "metadata": {},
   "outputs": [
    {
     "name": "stdout",
     "output_type": "stream",
     "text": [
      "[[1 2 3]\n",
      " [4 5 6]\n",
      " [7 8 9]]\n"
     ]
    }
   ],
   "source": [
    "grid = np.arange(1,10).reshape([3,3])\n",
    "print(grid)"
   ]
  },
  {
   "cell_type": "code",
   "execution_count": 43,
   "id": "center-legend",
   "metadata": {},
   "outputs": [
    {
     "data": {
      "text/plain": [
       "(3, 3)"
      ]
     },
     "execution_count": 43,
     "metadata": {},
     "output_type": "execute_result"
    }
   ],
   "source": [
    "grid.shape"
   ]
  },
  {
   "cell_type": "code",
   "execution_count": 44,
   "id": "macro-brazilian",
   "metadata": {},
   "outputs": [
    {
     "name": "stdout",
     "output_type": "stream",
     "text": [
      "[[ 4  5  6]\n",
      " [ 7  8  9]\n",
      " [10 11 12]]\n"
     ]
    }
   ],
   "source": [
    "print(grid + 3)"
   ]
  },
  {
   "cell_type": "code",
   "execution_count": 45,
   "id": "signed-civilization",
   "metadata": {},
   "outputs": [
    {
     "name": "stdout",
     "output_type": "stream",
     "text": [
      "[[ 3  6  9]\n",
      " [12 15 18]\n",
      " [21 24 27]]\n"
     ]
    }
   ],
   "source": [
    "print(grid*3)"
   ]
  },
  {
   "cell_type": "code",
   "execution_count": 46,
   "id": "renewable-audience",
   "metadata": {},
   "outputs": [
    {
     "name": "stdout",
     "output_type": "stream",
     "text": [
      "[[0.1 0.2 0.3]\n",
      " [0.4 0.5 0.6]\n",
      " [0.7 0.8 0.9]]\n"
     ]
    }
   ],
   "source": [
    "print(grid/10)"
   ]
  },
  {
   "cell_type": "code",
   "execution_count": 47,
   "id": "amazing-student",
   "metadata": {},
   "outputs": [
    {
     "name": "stdout",
     "output_type": "stream",
     "text": [
      "[[0.33333333 0.66666667 1.        ]\n",
      " [1.33333333 1.66666667 2.        ]\n",
      " [2.33333333 2.66666667 3.        ]]\n"
     ]
    }
   ],
   "source": [
    "print(grid/3)"
   ]
  },
  {
   "cell_type": "code",
   "execution_count": 48,
   "id": "double-justice",
   "metadata": {},
   "outputs": [
    {
     "name": "stdout",
     "output_type": "stream",
     "text": [
      "[[0 0 1]\n",
      " [1 1 2]\n",
      " [2 2 3]]\n"
     ]
    }
   ],
   "source": [
    "print(grid//3)"
   ]
  },
  {
   "cell_type": "code",
   "execution_count": 49,
   "id": "whole-shower",
   "metadata": {},
   "outputs": [
    {
     "name": "stdout",
     "output_type": "stream",
     "text": [
      "[[ 2  3  4]\n",
      " [ 5  6  7]\n",
      " [ 8  9 10]]\n"
     ]
    }
   ],
   "source": [
    "print(grid+1)"
   ]
  },
  {
   "cell_type": "code",
   "execution_count": 50,
   "id": "worldwide-blackberry",
   "metadata": {},
   "outputs": [
    {
     "name": "stdout",
     "output_type": "stream",
     "text": [
      "[1 2 3]\n"
     ]
    }
   ],
   "source": [
    "grid2 = np.arange(1,4)\n",
    "print(grid2)"
   ]
  },
  {
   "cell_type": "code",
   "execution_count": 51,
   "id": "precious-orlando",
   "metadata": {},
   "outputs": [
    {
     "data": {
      "text/plain": [
       "(3,)"
      ]
     },
     "execution_count": 51,
     "metadata": {},
     "output_type": "execute_result"
    }
   ],
   "source": [
    "grid2.shape"
   ]
  },
  {
   "cell_type": "code",
   "execution_count": 52,
   "id": "veterinary-bridal",
   "metadata": {},
   "outputs": [
    {
     "name": "stdout",
     "output_type": "stream",
     "text": [
      "[[1 2 3]\n",
      " [4 5 6]\n",
      " [7 8 9]]\n"
     ]
    }
   ],
   "source": [
    "grid = np.arange(1,10).reshape([3,3])\n",
    "print(grid)"
   ]
  },
  {
   "cell_type": "code",
   "execution_count": 53,
   "id": "quantitative-hamburg",
   "metadata": {},
   "outputs": [
    {
     "name": "stdout",
     "output_type": "stream",
     "text": [
      "[[ 2  4  6]\n",
      " [ 5  7  9]\n",
      " [ 8 10 12]]\n"
     ]
    }
   ],
   "source": [
    "print(grid+grid2)"
   ]
  },
  {
   "cell_type": "code",
   "execution_count": 54,
   "id": "excess-count",
   "metadata": {},
   "outputs": [
    {
     "name": "stdout",
     "output_type": "stream",
     "text": [
      "[[ 1  4  9]\n",
      " [16 25 36]\n",
      " [49 64 81]]\n"
     ]
    }
   ],
   "source": [
    "print(grid ** 2)"
   ]
  },
  {
   "cell_type": "code",
   "execution_count": 55,
   "id": "divided-affair",
   "metadata": {},
   "outputs": [
    {
     "name": "stdout",
     "output_type": "stream",
     "text": [
      "[[1 2 3]\n",
      " [4 0 1]\n",
      " [2 3 4]]\n"
     ]
    }
   ],
   "source": [
    "print(grid % 5)"
   ]
  },
  {
   "cell_type": "markdown",
   "id": "challenging-certificate",
   "metadata": {},
   "source": [
    "## Querying the array"
   ]
  },
  {
   "cell_type": "code",
   "execution_count": 56,
   "id": "turkish-radio",
   "metadata": {
    "scrolled": true
   },
   "outputs": [
    {
     "name": "stdout",
     "output_type": "stream",
     "text": [
      "[0.5488135  0.71518937 0.60276338 ... 0.75842952 0.02378743 0.81357508]\n"
     ]
    }
   ],
   "source": [
    "arr = np.random.random(10000)\n",
    "print(arr)"
   ]
  },
  {
   "cell_type": "code",
   "execution_count": 57,
   "id": "growing-investigator",
   "metadata": {},
   "outputs": [
    {
     "name": "stdout",
     "output_type": "stream",
     "text": [
      "4964.588916200894\n"
     ]
    }
   ],
   "source": [
    "print(np.sum(arr))"
   ]
  },
  {
   "cell_type": "code",
   "execution_count": 58,
   "id": "bottom-pittsburgh",
   "metadata": {},
   "outputs": [
    {
     "name": "stdout",
     "output_type": "stream",
     "text": [
      "0.9999779517807228\n"
     ]
    }
   ],
   "source": [
    "print(np.max(arr))"
   ]
  },
  {
   "cell_type": "code",
   "execution_count": 59,
   "id": "complete-sound",
   "metadata": {},
   "outputs": [
    {
     "name": "stdout",
     "output_type": "stream",
     "text": [
      "7.2449638492178e-05\n"
     ]
    }
   ],
   "source": [
    "print(np.min(arr))"
   ]
  },
  {
   "cell_type": "code",
   "execution_count": 60,
   "id": "recognized-heart",
   "metadata": {},
   "outputs": [
    {
     "name": "stdout",
     "output_type": "stream",
     "text": [
      "0.49645889162008944\n"
     ]
    }
   ],
   "source": [
    "print(np.mean(arr))"
   ]
  },
  {
   "cell_type": "code",
   "execution_count": 61,
   "id": "reasonable-national",
   "metadata": {},
   "outputs": [
    {
     "name": "stdout",
     "output_type": "stream",
     "text": [
      "0.49350103035904186\n"
     ]
    }
   ],
   "source": [
    "print(np.median(arr))"
   ]
  },
  {
   "cell_type": "code",
   "execution_count": 62,
   "id": "certified-mumbai",
   "metadata": {},
   "outputs": [
    {
     "name": "stdout",
     "output_type": "stream",
     "text": [
      "2060\n"
     ]
    }
   ],
   "source": [
    "print(len(arr[arr<0.2]))"
   ]
  },
  {
   "cell_type": "code",
   "execution_count": 63,
   "id": "blind-techno",
   "metadata": {},
   "outputs": [
    {
     "name": "stdout",
     "output_type": "stream",
     "text": [
      "995\n"
     ]
    }
   ],
   "source": [
    "print(len(arr[(arr>0.2) & (arr<0.3)]))"
   ]
  },
  {
   "cell_type": "markdown",
   "id": "historical-escape",
   "metadata": {},
   "source": [
    "**Exercise**: Given the following numpy array, please find all the records with negative value."
   ]
  },
  {
   "cell_type": "code",
   "execution_count": 64,
   "id": "combined-increase",
   "metadata": {},
   "outputs": [],
   "source": [
    "arr = np.array((-3, 10, 20, -5, -2, 50, 34, -12, 10))"
   ]
  },
  {
   "cell_type": "code",
   "execution_count": 65,
   "id": "opposite-stamp",
   "metadata": {},
   "outputs": [
    {
     "data": {
      "text/plain": [
       "array([ -3,  10,  20,  -5,  -2,  50,  34, -12,  10])"
      ]
     },
     "execution_count": 65,
     "metadata": {},
     "output_type": "execute_result"
    }
   ],
   "source": [
    "arr"
   ]
  },
  {
   "cell_type": "markdown",
   "id": "forbidden-austin",
   "metadata": {},
   "source": [
    "|Expected Result|\n",
    "|---|\n",
    "|array([ -3,  -5,  -2, -12])|"
   ]
  },
  {
   "cell_type": "markdown",
   "id": "forward-authentication",
   "metadata": {},
   "source": [
    "## Array Slicing\n",
    "\n",
    "**Slicing in NumPy array is NOT COPY.**"
   ]
  },
  {
   "cell_type": "code",
   "execution_count": 66,
   "id": "interested-treasure",
   "metadata": {},
   "outputs": [],
   "source": [
    "# [i, j]\n",
    "# [i, :]\n",
    "# [:, j]\n",
    "# [i_start:i_end, j_start:j_end]"
   ]
  },
  {
   "cell_type": "code",
   "execution_count": 67,
   "id": "emerging-breakfast",
   "metadata": {},
   "outputs": [
    {
     "name": "stdout",
     "output_type": "stream",
     "text": [
      "[[ 1  2  3  4]\n",
      " [ 5  6  7  8]\n",
      " [ 9 10 11 12]]\n"
     ]
    }
   ],
   "source": [
    "grid = np.arange(1,13).reshape([3,4])\n",
    "print(grid)"
   ]
  },
  {
   "cell_type": "code",
   "execution_count": 68,
   "id": "defined-deficit",
   "metadata": {},
   "outputs": [
    {
     "name": "stdout",
     "output_type": "stream",
     "text": [
      "[1 2 3 4]\n"
     ]
    }
   ],
   "source": [
    "print(grid[0,:])"
   ]
  },
  {
   "cell_type": "code",
   "execution_count": 69,
   "id": "loved-contest",
   "metadata": {},
   "outputs": [
    {
     "name": "stdout",
     "output_type": "stream",
     "text": [
      "[1 5 9]\n"
     ]
    }
   ],
   "source": [
    "print(grid[:,0])"
   ]
  },
  {
   "cell_type": "code",
   "execution_count": 70,
   "id": "therapeutic-desperate",
   "metadata": {},
   "outputs": [
    {
     "name": "stdout",
     "output_type": "stream",
     "text": [
      "[[ 2  3]\n",
      " [ 6  7]\n",
      " [10 11]]\n"
     ]
    }
   ],
   "source": [
    "print(grid[:,1:3])"
   ]
  },
  {
   "cell_type": "code",
   "execution_count": 71,
   "id": "cheap-stick",
   "metadata": {},
   "outputs": [],
   "source": [
    "grid2 = grid[:,:]"
   ]
  },
  {
   "cell_type": "markdown",
   "id": "genuine-advocate",
   "metadata": {},
   "source": [
    "Let’s see if the slicing is a copy or not:"
   ]
  },
  {
   "cell_type": "code",
   "execution_count": 72,
   "id": "chronic-possession",
   "metadata": {},
   "outputs": [
    {
     "name": "stdout",
     "output_type": "stream",
     "text": [
      "[[100   2   3   4]\n",
      " [  5   6   7   8]\n",
      " [  9  10  11  12]]\n",
      "[[100   2   3   4]\n",
      " [  5   6   7   8]\n",
      " [  9  10  11  12]]\n"
     ]
    }
   ],
   "source": [
    "grid[0,0] = 100\n",
    "\n",
    "print(grid)\n",
    "\n",
    "print(grid2)"
   ]
  },
  {
   "cell_type": "code",
   "execution_count": 73,
   "id": "outside-sherman",
   "metadata": {},
   "outputs": [
    {
     "name": "stdout",
     "output_type": "stream",
     "text": [
      "[[100  99  99   4]\n",
      " [  5  99  99   8]\n",
      " [  9  99  99  12]]\n",
      "[[100  99  99   4]\n",
      " [  5  99  99   8]\n",
      " [  9  99  99  12]]\n"
     ]
    }
   ],
   "source": [
    "grid[:,1:3] = 99\n",
    "\n",
    "print(grid)\n",
    "\n",
    "print(grid2)"
   ]
  },
  {
   "cell_type": "markdown",
   "id": "understanding-armor",
   "metadata": {},
   "source": [
    "## Numpy copy"
   ]
  },
  {
   "cell_type": "code",
   "execution_count": null,
   "id": "active-genome",
   "metadata": {},
   "outputs": [],
   "source": [
    "grid3=grid2"
   ]
  },
  {
   "cell_type": "code",
   "execution_count": null,
   "id": "advanced-eclipse",
   "metadata": {},
   "outputs": [],
   "source": [
    "grid3=grid2.copy()"
   ]
  },
  {
   "cell_type": "markdown",
   "id": "attractive-potato",
   "metadata": {},
   "source": [
    "## Reading CSV/Text"
   ]
  },
  {
   "cell_type": "code",
   "execution_count": 74,
   "id": "massive-apparatus",
   "metadata": {
    "scrolled": true
   },
   "outputs": [
    {
     "name": "stdout",
     "output_type": "stream",
     "text": [
      "[('2018-12-18',  22) ('2018-12-17',   0) ('2018-12-16',   4)\n",
      " ('2018-12-15', 218) ('2018-12-14',  11) ('2018-12-13',  11)\n",
      " ('2018-12-12',  14) ('2018-12-11',   4) ('2018-12-10',   5)\n",
      " ('2018-12-09',  15) ('2018-12-08', 104) ('2018-12-07',  19)\n",
      " ('2018-12-06',   8) ('2018-12-05',   3) ('2018-12-04',  24)\n",
      " ('2018-12-03',  66) ('2018-12-02',  40) ('2018-12-01',  69)\n",
      " ('2018-11-30',   8) ('2018-11-29',  13) ('2018-11-28',  10)\n",
      " ('2018-11-27',  18) ('2018-11-26',  72) ('2018-11-25',  31)\n",
      " ('2018-11-24', 146) ('2018-11-23',  42) ('2018-11-22',  56)\n",
      " ('2018-11-21',  19) ('2018-11-20',  76) ('2018-11-19',  11)\n",
      " ('2018-11-18',   0) ('2018-11-17',   0) ('2018-11-16',   6)\n",
      " ('2018-11-15',   7) ('2018-11-14',  32) ('2018-11-13', 102)\n",
      " ('2018-11-12', 198) ('2018-11-11',  22) ('2018-11-10',  82)\n",
      " ('2018-11-09', 213) ('2018-11-08',  52) ('2018-11-07',  13)\n",
      " ('2018-11-06',   0) ('2018-11-05',   6) ('2018-11-04',   0)\n",
      " ('2018-11-03',   7) ('2018-11-02',  25) ('2018-11-01',  29)\n",
      " ('2018-10-31',   9) ('2018-10-30',  14) ('2018-10-29',   4)\n",
      " ('2018-10-28',   4)]\n"
     ]
    }
   ],
   "source": [
    "data = np.genfromtxt('visitors.csv',delimiter=',', dtype='datetime64[D],uint8', skip_header=0, names=('date','visitors'))\n",
    "print(data)"
   ]
  },
  {
   "cell_type": "code",
   "execution_count": 75,
   "id": "moral-andorra",
   "metadata": {},
   "outputs": [
    {
     "data": {
      "text/plain": [
       "array(['2018-12-18', '2018-12-17', '2018-12-16', '2018-12-15',\n",
       "       '2018-12-14', '2018-12-13', '2018-12-12', '2018-12-11',\n",
       "       '2018-12-10', '2018-12-09', '2018-12-08', '2018-12-07',\n",
       "       '2018-12-06', '2018-12-05', '2018-12-04', '2018-12-03',\n",
       "       '2018-12-02', '2018-12-01', '2018-11-30', '2018-11-29',\n",
       "       '2018-11-28', '2018-11-27', '2018-11-26', '2018-11-25',\n",
       "       '2018-11-24', '2018-11-23', '2018-11-22', '2018-11-21',\n",
       "       '2018-11-20', '2018-11-19', '2018-11-18', '2018-11-17',\n",
       "       '2018-11-16', '2018-11-15', '2018-11-14', '2018-11-13',\n",
       "       '2018-11-12', '2018-11-11', '2018-11-10', '2018-11-09',\n",
       "       '2018-11-08', '2018-11-07', '2018-11-06', '2018-11-05',\n",
       "       '2018-11-04', '2018-11-03', '2018-11-02', '2018-11-01',\n",
       "       '2018-10-31', '2018-10-30', '2018-10-29', '2018-10-28'],\n",
       "      dtype='datetime64[D]')"
      ]
     },
     "execution_count": 75,
     "metadata": {},
     "output_type": "execute_result"
    }
   ],
   "source": [
    "data['date']"
   ]
  },
  {
   "cell_type": "code",
   "execution_count": 76,
   "id": "packed-montana",
   "metadata": {},
   "outputs": [
    {
     "data": {
      "text/plain": [
       "array([ 22,   0,   4, 218,  11,  11,  14,   4,   5,  15, 104,  19,   8,\n",
       "         3,  24,  66,  40,  69,   8,  13,  10,  18,  72,  31, 146,  42,\n",
       "        56,  19,  76,  11,   0,   0,   6,   7,  32, 102, 198,  22,  82,\n",
       "       213,  52,  13,   0,   6,   0,   7,  25,  29,   9,  14,   4,   4],\n",
       "      dtype=uint8)"
      ]
     },
     "execution_count": 76,
     "metadata": {},
     "output_type": "execute_result"
    }
   ],
   "source": [
    "data['visitors']"
   ]
  },
  {
   "cell_type": "markdown",
   "id": "minor-token",
   "metadata": {},
   "source": [
    "### Exercise\n",
    "\n",
    "What is the shape of the loaded CSV `data`?"
   ]
  },
  {
   "cell_type": "code",
   "execution_count": null,
   "id": "according-lithuania",
   "metadata": {},
   "outputs": [],
   "source": []
  },
  {
   "cell_type": "markdown",
   "id": "proof-claim",
   "metadata": {},
   "source": [
    "|Expected result|\n",
    "|---|\n",
    "|(52,)|"
   ]
  },
  {
   "cell_type": "markdown",
   "id": "balanced-reynolds",
   "metadata": {},
   "source": [
    "What is the last 3 records in the data?"
   ]
  },
  {
   "cell_type": "code",
   "execution_count": null,
   "id": "removed-barrel",
   "metadata": {
    "scrolled": true
   },
   "outputs": [],
   "source": []
  },
  {
   "cell_type": "markdown",
   "id": "final-burst",
   "metadata": {},
   "source": [
    "|Expected result|\n",
    "|---|\n",
    "|array([('2018-10-30', 14), ('2018-10-29',  4), ('2018-10-28',  4)],\n",
    "      dtype=[('date', '<M8[D]'), ('visitors', 'u1')])|"
   ]
  },
  {
   "cell_type": "markdown",
   "id": "mechanical-calvin",
   "metadata": {},
   "source": [
    "What is the maximum visitors count for a single day?"
   ]
  },
  {
   "cell_type": "code",
   "execution_count": null,
   "id": "baking-wealth",
   "metadata": {},
   "outputs": [],
   "source": []
  },
  {
   "cell_type": "markdown",
   "id": "valuable-prediction",
   "metadata": {},
   "source": [
    "|Expected result|\n",
    "|---|\n",
    "|218|"
   ]
  },
  {
   "cell_type": "markdown",
   "id": "chemical-people",
   "metadata": {},
   "source": [
    "What is the minimum visitors coutn for a single day?"
   ]
  },
  {
   "cell_type": "code",
   "execution_count": 77,
   "id": "aerial-voluntary",
   "metadata": {},
   "outputs": [
    {
     "data": {
      "text/plain": [
       "0"
      ]
     },
     "execution_count": 77,
     "metadata": {},
     "output_type": "execute_result"
    }
   ],
   "source": [
    "np.min(data['visitors'])"
   ]
  },
  {
   "cell_type": "markdown",
   "id": "protective-boating",
   "metadata": {},
   "source": [
    "|Expected result|\n",
    "|---|\n",
    "|0|"
   ]
  },
  {
   "cell_type": "markdown",
   "id": "lyric-violation",
   "metadata": {},
   "source": [
    "If we exclude the day with 0 visitors, what is the minimum visitors a day?\n",
    "\n",
    "First, try to create an array of visitors that exlucdes all 0 data."
   ]
  },
  {
   "cell_type": "code",
   "execution_count": null,
   "id": "spread-sitting",
   "metadata": {},
   "outputs": [],
   "source": []
  },
  {
   "cell_type": "markdown",
   "id": "enhanced-teddy",
   "metadata": {},
   "source": [
    "|Expected result|\n",
    "|---|\n",
    "|array([ 22,   4, 218,  11,  11,  14,   4,   5,  15, 104,  19,   8,   3,\n",
    "        24,  66,  40,  69,   8,  13,  10,  18,  72,  31, 146,  42,  56,\n",
    "        19,  76,  11,   6,   7,  32, 102, 198,  22,  82, 213,  52,  13,\n",
    "         6,   7,  25,  29,   9,  14,   4,   4], dtype=uint8)|"
   ]
  },
  {
   "cell_type": "markdown",
   "id": "addressed-unemployment",
   "metadata": {},
   "source": [
    "Next, we find the minimum value."
   ]
  },
  {
   "cell_type": "code",
   "execution_count": null,
   "id": "intimate-multimedia",
   "metadata": {},
   "outputs": [],
   "source": []
  },
  {
   "cell_type": "markdown",
   "id": "engaged-prevention",
   "metadata": {},
   "source": [
    "|Expected result|\n",
    "|---|\n",
    "|3|"
   ]
  },
  {
   "cell_type": "markdown",
   "id": "revolutionary-tyler",
   "metadata": {},
   "source": [
    "## Extra: Dot Product"
   ]
  },
  {
   "cell_type": "code",
   "execution_count": 78,
   "id": "emotional-connectivity",
   "metadata": {},
   "outputs": [
    {
     "data": {
      "text/plain": [
       "19"
      ]
     },
     "execution_count": 78,
     "metadata": {},
     "output_type": "execute_result"
    }
   ],
   "source": [
    "v1 = [2,3]\n",
    "v2 = [5,3]\n",
    "np.dot(v1, v2)"
   ]
  },
  {
   "cell_type": "markdown",
   "id": "broke-traffic",
   "metadata": {},
   "source": [
    "\\begin{gather}\n",
    "\\begin{pmatrix}\n",
    "2 & -1 \\\\\n",
    "0 & 3 \\\\\n",
    "1 & 0\n",
    "\\end{pmatrix}\n",
    "\\begin{pmatrix}\n",
    "0 & 1 & 4 & -1\\\\\n",
    "-2 & 0 & 0 & 2\n",
    "\\end{pmatrix}\n",
    "\\end{gather}"
   ]
  },
  {
   "cell_type": "code",
   "execution_count": 79,
   "id": "thorough-binary",
   "metadata": {},
   "outputs": [
    {
     "name": "stdout",
     "output_type": "stream",
     "text": [
      "[[ 2  2  8 -4]\n",
      " [-6  0  0  6]\n",
      " [ 0  1  4 -1]]\n"
     ]
    }
   ],
   "source": [
    "A=[[2,-1],\n",
    "   [0,3],\n",
    "   [1,0]]\n",
    "B=[[0,1,4,-1],\n",
    "   [-2,0,0,2]]\n",
    "\n",
    "C = np.dot(A, B)\n",
    "print(C)"
   ]
  },
  {
   "cell_type": "markdown",
   "id": "gentle-ensemble",
   "metadata": {},
   "source": [
    "For instance, we can calculate the degree between two vector by using dot product and norm."
   ]
  },
  {
   "cell_type": "markdown",
   "id": "helpful-rebound",
   "metadata": {},
   "source": [
    "$ a.b=|a||b|\\cos(\\theta) $"
   ]
  },
  {
   "cell_type": "code",
   "execution_count": 80,
   "id": "swedish-watch",
   "metadata": {},
   "outputs": [],
   "source": [
    "def theta(v1, v2):\n",
    "    dot_product = np.dot(v1,v2)\n",
    "    norms = np.linalg.norm(v1)*np.linalg.norm(v2)\n",
    "    rad = np.arccos(dot_product/norms)\n",
    "    return np.rad2deg(rad)"
   ]
  },
  {
   "cell_type": "code",
   "execution_count": 81,
   "id": "ecological-soccer",
   "metadata": {},
   "outputs": [
    {
     "data": {
      "text/plain": [
       "90.0"
      ]
     },
     "execution_count": 81,
     "metadata": {},
     "output_type": "execute_result"
    }
   ],
   "source": [
    "v1 = [0,1]\n",
    "v2 = [1,0]\n",
    "\n",
    "theta(v1,v2)"
   ]
  },
  {
   "cell_type": "code",
   "execution_count": 82,
   "id": "negative-conspiracy",
   "metadata": {},
   "outputs": [],
   "source": [
    "v1 = [1,4,5]\n",
    "v2 = [2,1,5]\n",
    "v3 = [3,5,6]"
   ]
  },
  {
   "cell_type": "markdown",
   "id": "furnished-twist",
   "metadata": {},
   "source": [
    "Which two vectors are more \"similar\" to each other?"
   ]
  },
  {
   "cell_type": "code",
   "execution_count": 83,
   "id": "expected-brooklyn",
   "metadata": {},
   "outputs": [
    {
     "data": {
      "text/plain": [
       "29.152519407030084"
      ]
     },
     "execution_count": 83,
     "metadata": {},
     "output_type": "execute_result"
    }
   ],
   "source": [
    "theta(v1,v2)"
   ]
  },
  {
   "cell_type": "code",
   "execution_count": 84,
   "id": "trained-spectrum",
   "metadata": {},
   "outputs": [
    {
     "data": {
      "text/plain": [
       "12.186074922100465"
      ]
     },
     "execution_count": 84,
     "metadata": {},
     "output_type": "execute_result"
    }
   ],
   "source": [
    "theta(v1,v3)"
   ]
  },
  {
   "cell_type": "markdown",
   "id": "silver-hygiene",
   "metadata": {},
   "source": [
    "## Extra: Solving linear equations with Numpy\n",
    "\n",
    "For instance, we can use Numpy to solve linear equations."
   ]
  },
  {
   "cell_type": "markdown",
   "id": "stock-collectible",
   "metadata": {},
   "source": [
    "$ x+2y=7 $  \n",
    "$ 3x+4y=15 $"
   ]
  },
  {
   "cell_type": "markdown",
   "id": "british-growing",
   "metadata": {},
   "source": [
    "We can express the equations in matrix form."
   ]
  },
  {
   "cell_type": "markdown",
   "id": "dress-amateur",
   "metadata": {},
   "source": [
    "\\begin{gather}\n",
    "\\begin{pmatrix}\n",
    "1 & 2 \\\\\n",
    "3 & 4\n",
    "\\end{pmatrix}\n",
    "\\begin{pmatrix}\n",
    "x\\\\\n",
    "y\n",
    "\\end{pmatrix}\n",
    "=\n",
    "\\begin{pmatrix}\n",
    "7\\\\\n",
    "15\n",
    "\\end{pmatrix}\n",
    "\\end{gather}"
   ]
  },
  {
   "cell_type": "markdown",
   "id": "swedish-species",
   "metadata": {},
   "source": [
    "$ Ar=s $  \n",
    "$ r = A^{-1}s $"
   ]
  },
  {
   "cell_type": "code",
   "execution_count": 85,
   "id": "early-crisis",
   "metadata": {},
   "outputs": [
    {
     "data": {
      "text/plain": [
       "array([[-2. ,  1. ],\n",
       "       [ 1.5, -0.5]])"
      ]
     },
     "execution_count": 85,
     "metadata": {},
     "output_type": "execute_result"
    }
   ],
   "source": [
    "A = [[1, 2],\n",
    "     [3, 4]]\n",
    "s = [7, 15]\n",
    "Ainv = np.linalg.inv(A)\n",
    "Ainv"
   ]
  },
  {
   "cell_type": "code",
   "execution_count": 86,
   "id": "mediterranean-washington",
   "metadata": {},
   "outputs": [
    {
     "data": {
      "text/plain": [
       "array([1., 3.])"
      ]
     },
     "execution_count": 86,
     "metadata": {},
     "output_type": "execute_result"
    }
   ],
   "source": [
    "np.dot(Ainv, s)"
   ]
  },
  {
   "cell_type": "markdown",
   "id": "after-official",
   "metadata": {},
   "source": [
    "Let's try to solve the equations directly by using `np.linalg.solve`."
   ]
  },
  {
   "cell_type": "code",
   "execution_count": 87,
   "id": "tropical-fruit",
   "metadata": {},
   "outputs": [
    {
     "data": {
      "text/plain": [
       "array([1., 3.])"
      ]
     },
     "execution_count": 87,
     "metadata": {},
     "output_type": "execute_result"
    }
   ],
   "source": [
    "np.linalg.solve(A, s)"
   ]
  },
  {
   "cell_type": "markdown",
   "id": "false-password",
   "metadata": {},
   "source": [
    "Another example of solving a 3-variable equations by using Numpy."
   ]
  },
  {
   "cell_type": "markdown",
   "id": "exclusive-leone",
   "metadata": {},
   "source": [
    "$ 2x+y+3z=20 $  \n",
    "$ x+2y+4z=21 $  \n",
    "$ x+y+2z=13 $"
   ]
  },
  {
   "cell_type": "markdown",
   "id": "pursuant-daniel",
   "metadata": {},
   "source": [
    "We can express the equations in matrix form."
   ]
  },
  {
   "cell_type": "markdown",
   "id": "flying-blade",
   "metadata": {},
   "source": [
    "\\begin{gather}\n",
    "\\begin{pmatrix}\n",
    "2 & 1 & 3 \\\\\n",
    "1 & 2 & 4 \\\\\n",
    "1 & 1 & 2\n",
    "\\end{pmatrix}\n",
    "\\begin{pmatrix}\n",
    "x\\\\\n",
    "y\\\\\n",
    "z\n",
    "\\end{pmatrix}\n",
    "=\n",
    "\\begin{pmatrix}\n",
    "20\\\\\n",
    "21\\\\\n",
    "13\n",
    "\\end{pmatrix}\n",
    "\\end{gather}"
   ]
  },
  {
   "cell_type": "code",
   "execution_count": 88,
   "id": "purple-termination",
   "metadata": {},
   "outputs": [
    {
     "data": {
      "text/plain": [
       "array([5., 4., 2.])"
      ]
     },
     "execution_count": 88,
     "metadata": {},
     "output_type": "execute_result"
    }
   ],
   "source": [
    "A = [[2, 1, 3],\n",
    "     [1, 2, 4],\n",
    "     [1, 1, 2]]\n",
    "\n",
    "s = [20, 21, 13]\n",
    "\n",
    "r = np.linalg.solve(A, s)\n",
    "r"
   ]
  },
  {
   "cell_type": "markdown",
   "id": "threaded-pocket",
   "metadata": {},
   "source": [
    "### Exercise\n",
    "\n",
    "Given the following equations, please calculate the value of x, y and z"
   ]
  },
  {
   "cell_type": "markdown",
   "id": "greenhouse-williams",
   "metadata": {},
   "source": [
    "$ x+y+z=14 $  \n",
    "$ 2x+y+2z=25 $  \n",
    "$ 3y+z=16 $"
   ]
  },
  {
   "cell_type": "code",
   "execution_count": null,
   "id": "corresponding-inspection",
   "metadata": {},
   "outputs": [],
   "source": []
  },
  {
   "cell_type": "markdown",
   "id": "christian-gauge",
   "metadata": {},
   "source": [
    "|Expected result|\n",
    "|---|\n",
    "|array([4., 3., 7.])|"
   ]
  },
  {
   "cell_type": "markdown",
   "id": "controversial-palestine",
   "metadata": {},
   "source": [
    "## Summay\n",
    "\n",
    "In this lesson, we learned to express vector and matrix by using Numpy. We also learned essential operations and have a glimpse on how Numpy can help us on numerical computation.\n",
    "\n",
    "In next lesson, we will use Pandas to process our data into tabular data with `series`."
   ]
  }
 ],
 "metadata": {
  "kernelspec": {
   "display_name": "Python 3",
   "language": "python",
   "name": "python3"
  },
  "language_info": {
   "codemirror_mode": {
    "name": "ipython",
    "version": 3
   },
   "file_extension": ".py",
   "mimetype": "text/x-python",
   "name": "python",
   "nbconvert_exporter": "python",
   "pygments_lexer": "ipython3",
   "version": "3.9.9"
  }
 },
 "nbformat": 4,
 "nbformat_minor": 5
}
