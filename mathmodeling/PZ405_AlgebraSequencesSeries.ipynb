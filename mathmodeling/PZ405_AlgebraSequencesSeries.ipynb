{
 "cells": [
  {
   "cell_type": "markdown",
   "id": "facial-career",
   "metadata": {},
   "source": [
    "# Algebra Sequences Series\n",
    "![](https://tutoriale-video.ro/wp-content/uploads/2018/10/tipuri-de-secvente.jpg)\n",
    "![](http://mrguesto.weebly.com/uploads/2/3/2/5/23253470/sequences_orig.png)\n",
    "![](https://www.bossmaths.com/wp-content/uploads/Nonexs.013-1024x576.png)\n",
    "![](https://sep.yimg.com/ay/mathmedia/sequences-and-series-28.jpg)    \n",
    "參考:  \n",
    "https://edublognss.wordpress.com/2013/04/16/famous-mathematical-sequences-and-series/"
   ]
  },
  {
   "cell_type": "markdown",
   "id": "spare-absorption",
   "metadata": {},
   "source": [
    "# 等差數列之和"
   ]
  },
  {
   "cell_type": "markdown",
   "id": "built-directive",
   "metadata": {
    "tags": []
   },
   "source": [
    "## 1.數列之和函數為：summation\n",
    "\n",
    "summation(一般項 a_i, (i, 初值, 終值)) 。\n",
    "\n",
    "等差  \n",
    "$\\sum_{i=1}^{10} i$\n",
    "\n",
    "等比  \n",
    "$\\sum_{i=1}^{10} i*2$  \n",
    "\n",
    "指數  \n",
    "$\\sum_{i=1}^{10} i^2$  "
   ]
  },
  {
   "cell_type": "code",
   "execution_count": 17,
   "id": "abstract-former",
   "metadata": {},
   "outputs": [
    {
     "data": {
      "image/png": "[encoded data removed]",
      "text/latex": [
       "$\\displaystyle 55$"
      ],
      "text/plain": [
       "55"
      ]
     },
     "execution_count": 17,
     "metadata": {},
     "output_type": "execute_result"
    }
   ],
   "source": [
    "import sympy as sp    \n",
    "i=sp.Symbol('i')   \n",
    "sp.summation(i, (i, 1, 10))    "
   ]
  },
  {
   "cell_type": "code",
   "execution_count": 15,
   "id": "handy-peripheral",
   "metadata": {},
   "outputs": [
    {
     "data": {
      "image/png": "[encoded data removed]",
      "text/latex": [
       "$\\displaystyle 110$"
      ],
      "text/plain": [
       "110"
      ]
     },
     "execution_count": 15,
     "metadata": {},
     "output_type": "execute_result"
    }
   ],
   "source": [
    "import sympy as sp    \n",
    "i=sp.Symbol('i')   \n",
    "sp.summation(i*2, (i, 1, 10))    "
   ]
  },
  {
   "cell_type": "code",
   "execution_count": 19,
   "id": "located-baghdad",
   "metadata": {},
   "outputs": [
    {
     "data": {
      "image/png": "[encoded data removed]",
      "text/latex": [
       "$\\displaystyle 385$"
      ],
      "text/plain": [
       "385"
      ]
     },
     "execution_count": 19,
     "metadata": {},
     "output_type": "execute_result"
    }
   ],
   "source": [
    "sp.summation(i**2, (i, 1, 10))"
   ]
  },
  {
   "cell_type": "markdown",
   "id": "treated-wiring",
   "metadata": {
    "tags": []
   },
   "source": [
    "## 2.嘗試從 1 到 11 的等差和。"
   ]
  },
  {
   "cell_type": "code",
   "execution_count": 59,
   "id": "impressed-bacon",
   "metadata": {
    "tags": []
   },
   "outputs": [
    {
     "data": {
      "text/plain": [
       "66"
      ]
     },
     "execution_count": 59,
     "metadata": {},
     "output_type": "execute_result"
    }
   ],
   "source": [
    "1 + 2 + 3 + 4 + 5 + 6 + 7 + 8 + 9 + 10+11"
   ]
  },
  {
   "cell_type": "code",
   "execution_count": 1,
   "id": "electronic-discretion",
   "metadata": {},
   "outputs": [
    {
     "data": {
      "text/plain": [
       "array([ 0,  5, 10, 15, 20, 25, 30, 35, 40, 45, 50, 55])"
      ]
     },
     "execution_count": 1,
     "metadata": {},
     "output_type": "execute_result"
    }
   ],
   "source": [
    "import sympy as sp\n",
    "import numpy as np\n",
    "n,i= sp.symbols('n,i')\n",
    "expre= n*5\n",
    "expr_func= sp.lambdify(n,expre)\n",
    "a=expr_func(np.arange(12))\n",
    "a"
   ]
  },
  {
   "cell_type": "markdown",
   "id": "starting-judge",
   "metadata": {},
   "source": [
    "### 2.1 定義等差d"
   ]
  },
  {
   "cell_type": "code",
   "execution_count": 3,
   "id": "directed-blackberry",
   "metadata": {},
   "outputs": [
    {
     "data": {
      "text/plain": [
       "5"
      ]
     },
     "execution_count": 3,
     "metadata": {},
     "output_type": "execute_result"
    }
   ],
   "source": [
    "d=a[2]-a[1]\n",
    "d"
   ]
  },
  {
   "cell_type": "markdown",
   "id": "immune-diploma",
   "metadata": {},
   "source": [
    "### 2.2 通項 a[i], i [1,2,3...n]\n",
    "\n",
    "註明:電腦從計 a[0] 計算,這里a[0]不使用"
   ]
  },
  {
   "cell_type": "code",
   "execution_count": 4,
   "id": "subjective-wholesale",
   "metadata": {
    "tags": []
   },
   "outputs": [
    {
     "data": {
      "text/latex": [
       "$\\displaystyle 55$"
      ],
      "text/plain": [
       "55"
      ]
     },
     "execution_count": 4,
     "metadata": {},
     "output_type": "execute_result"
    }
   ],
   "source": [
    "\n",
    "(a[1]+(n-1)*d).subs(n,11)"
   ]
  },
  {
   "cell_type": "markdown",
   "id": "broke-addiction",
   "metadata": {},
   "source": [
    "### 2.3 數列和"
   ]
  },
  {
   "cell_type": "code",
   "execution_count": 67,
   "id": "liberal-prayer",
   "metadata": {},
   "outputs": [
    {
     "data": {
      "text/latex": [
       "$\\displaystyle 396$"
      ],
      "text/plain": [
       "396"
      ]
     },
     "execution_count": 67,
     "metadata": {},
     "output_type": "execute_result"
    }
   ],
   "source": [
    "sp.summation(expre, (n, 1, 11)) "
   ]
  },
  {
   "cell_type": "markdown",
   "id": "insured-municipality",
   "metadata": {},
   "source": [
    "### 2.4 計算公式  $\\frac{n(n+1)}{2}$  由  n=10  也可要求。"
   ]
  },
  {
   "cell_type": "code",
   "execution_count": 13,
   "id": "smooth-builder",
   "metadata": {},
   "outputs": [],
   "source": [
    "import sympy as sp\n",
    "n= sp.Symbol('n')"
   ]
  },
  {
   "cell_type": "code",
   "execution_count": 16,
   "id": "tutorial-ambassador",
   "metadata": {
    "tags": []
   },
   "outputs": [
    {
     "data": {
      "text/latex": [
       "$\\displaystyle \\frac{n \\left(n + 1\\right)}{2}$"
      ],
      "text/plain": [
       "n*(n + 1)/2"
      ]
     },
     "execution_count": 16,
     "metadata": {},
     "output_type": "execute_result"
    }
   ],
   "source": [
    "(n*(n + 1)/2)"
   ]
  },
  {
   "cell_type": "code",
   "execution_count": 58,
   "id": "spoken-object",
   "metadata": {
    "tags": []
   },
   "outputs": [
    {
     "data": {
      "text/latex": [
       "$\\displaystyle 66$"
      ],
      "text/plain": [
       "66"
      ]
     },
     "execution_count": 58,
     "metadata": {},
     "output_type": "execute_result"
    }
   ],
   "source": [
    "(n*(n + 1)/2).subs(n,11)"
   ]
  },
  {
   "cell_type": "markdown",
   "id": "dress-puzzle",
   "metadata": {},
   "source": [
    "## 題型一"
   ]
  },
  {
   "cell_type": "code",
   "execution_count": 66,
   "id": "secondary-float",
   "metadata": {},
   "outputs": [
    {
     "name": "stdout",
     "output_type": "stream",
     "text": [
      "[4, 0, -8, -1, 8, -3, -5, 3, 2, 6]\n",
      "[ 0  4  8 12 16 20 24 28 32 36 40 44]\n",
      "己知 a10=40,d=4,求a3?\n",
      "12\n",
      "[ 0  1  2  3  4  5  6  7  8  9 10 11]\n",
      "己知 a9=9,d=1,求a2?\n",
      "2\n",
      "[  0  -8 -16 -24 -32 -40 -48 -56 -64 -72 -80 -88]\n",
      "己知 a1=-8,d=-8,求a6?\n",
      "-48\n",
      "[  0  -1  -2  -3  -4  -5  -6  -7  -8  -9 -10 -11]\n",
      "己知 a3=-3,d=-1,求a8?\n",
      "-8\n",
      "[ 0  8 16 24 32 40 48 56 64 72 80 88]\n",
      "己知 a3=24,d=8,求a8?\n",
      "64\n",
      "[  0  -3  -6  -9 -12 -15 -18 -21 -24 -27 -30 -33]\n",
      "己知 a10=-30,d=-3,求a5?\n",
      "-15\n",
      "[  0  -5 -10 -15 -20 -25 -30 -35 -40 -45 -50 -55]\n",
      "己知 a2=-10,d=-5,求a8?\n",
      "-40\n",
      "[ 0  3  6  9 12 15 18 21 24 27 30 33]\n",
      "己知 a1=3,d=3,求a7?\n",
      "21\n",
      "[ 0  2  4  6  8 10 12 14 16 18 20 22]\n",
      "己知 a3=6,d=2,求a8?\n",
      "16\n",
      "[ 0  6 12 18 24 30 36 42 48 54 60 66]\n",
      "己知 a8=48,d=6,求a1?\n",
      "6\n"
     ]
    }
   ],
   "source": [
    "import sympy as sp\n",
    "import numpy as np\n",
    "import random\n",
    "n= sp.symbols('n')\n",
    "a1=random.sample(range(-9,10), k=10)\n",
    "print(a1)\n",
    "for i in range(10):\n",
    "    a2=random.randrange(10) +1 \n",
    "    a3=(a2+random.choice(range(4,7)) )% 11 ;a3=a3 if a3>0 else 1;\n",
    "    d=a1[i]; d= d if d!=0 else 1\n",
    "    expre= n*d\n",
    "    expr_func= sp.lambdify(n,expre)\n",
    "    a=expr_func(np.arange(12))\n",
    "    print(a)\n",
    "    St=f\"己知 a{a2}={a[a2]},d={d},求a{a3}?\"\n",
    "    Val=a[a3]\n",
    "    print(St)\n",
    "    print(Val)"
   ]
  },
  {
   "cell_type": "markdown",
   "id": "reduced-cancellation",
   "metadata": {},
   "source": [
    "## 題型二"
   ]
  },
  {
   "cell_type": "code",
   "execution_count": 70,
   "id": "unavailable-crossing",
   "metadata": {},
   "outputs": [
    {
     "name": "stdout",
     "output_type": "stream",
     "text": [
      "[3, -8, 1, -1, 9, -7, 8, 2, 5, -6]\n",
      "[ 0  3  6  9 12 15 18 21 24 27 30 33 36 39 42 45 48 51 54 57 60]\n",
      "己知 a10=30,a5=15,求?d\n",
      "3\n",
      "[   0   -8  -16  -24  -32  -40  -48  -56  -64  -72  -80  -88  -96 -104\n",
      " -112 -120 -128 -136 -144 -152 -160]\n",
      "己知 a7=-56,a1=-8,求?d\n",
      "-8\n",
      "[ 0  1  2  3  4  5  6  7  8  9 10 11 12 13 14 15 16 17 18 19 20]\n",
      "己知 a5=5,a9=9,求?d\n",
      "1\n",
      "[  0  -1  -2  -3  -4  -5  -6  -7  -8  -9 -10 -11 -12 -13 -14 -15 -16 -17\n",
      " -18 -19 -20]\n",
      "己知 a6=-6,a1=-1,求?d\n",
      "-1\n",
      "[  0   9  18  27  36  45  54  63  72  81  90  99 108 117 126 135 144 153\n",
      " 162 171 180]\n",
      "己知 a3=27,a9=81,求?d\n",
      "9\n",
      "[   0   -7  -14  -21  -28  -35  -42  -49  -56  -63  -70  -77  -84  -91\n",
      "  -98 -105 -112 -119 -126 -133 -140]\n",
      "己知 a9=-63,a2=-14,求?d\n",
      "-7\n",
      "[  0   8  16  24  32  40  48  56  64  72  80  88  96 104 112 120 128 136\n",
      " 144 152 160]\n",
      "己知 a10=80,a3=24,求?d\n",
      "8\n",
      "[ 0  2  4  6  8 10 12 14 16 18 20 22 24 26 28 30 32 34 36 38 40]\n",
      "己知 a10=20,a5=10,求?d\n",
      "2\n",
      "[  0   5  10  15  20  25  30  35  40  45  50  55  60  65  70  75  80  85\n",
      "  90  95 100]\n",
      "己知 a6=30,a1=5,求?d\n",
      "5\n",
      "[   0   -6  -12  -18  -24  -30  -36  -42  -48  -54  -60  -66  -72  -78\n",
      "  -84  -90  -96 -102 -108 -114 -120]\n",
      "己知 a4=-24,a10=-60,求?d\n",
      "-6\n"
     ]
    }
   ],
   "source": [
    "import sympy as sp\n",
    "import numpy as np\n",
    "import random\n",
    "n= sp.symbols('n')\n",
    "a1=random.sample(range(-9,10), k=10)\n",
    "print(a1)\n",
    "for i in range(10):\n",
    "    a2=random.randrange(10) +1 \n",
    "    a3=(a2+random.choice(range(4,7)) )% 11 ;a3=a3 if a3>0 else 1;\n",
    "    d=a1[i]; d= d if d!=0 else 1\n",
    "    expre= n*d\n",
    "    expr_func= sp.lambdify(n,expre)\n",
    "    a=expr_func(np.arange(21))\n",
    "    print(a)\n",
    "    St=f\"己知 a{a2}={a[a2]},a{a3}={a[a3]},求?d\"\n",
    "    Val=d\n",
    "    print(St)\n",
    "    print(Val)"
   ]
  },
  {
   "cell_type": "markdown",
   "id": "current-undergraduate",
   "metadata": {},
   "source": [
    "## 題型三"
   ]
  },
  {
   "cell_type": "code",
   "execution_count": 88,
   "id": "considerable-baghdad",
   "metadata": {
    "tags": []
   },
   "outputs": [
    {
     "name": "stdout",
     "output_type": "stream",
     "text": [
      "[-5, 7, 3, -7, 2, -2, 9, 4, 6, -8]\n",
      "[  0  -5 -10 -15 -20 -25 -30 -35 -40 -45 -50 -55 -60 -65 -70 -75 -80 -85]\n",
      "己知 -5,-10,-15,..-35, S7 ?\n",
      "-140\n",
      "[  0   7  14  21  28  35  42  49  56  63  70  77  84  91  98 105 112 119]\n",
      "己知 7,14,21,..56, S8 ?\n",
      "252\n",
      "[ 0  3  6  9 12 15 18 21 24 27 30 33 36 39 42 45 48 51]\n",
      "己知 3,6,9,..21, S7 ?\n",
      "84\n",
      "[   0   -7  -14  -21  -28  -35  -42  -49  -56  -63  -70  -77  -84  -91\n",
      "  -98 -105 -112 -119]\n",
      "己知 -7,-14,-21,..-63, S9 ?\n",
      "-315\n",
      "[ 0  2  4  6  8 10 12 14 16 18 20 22 24 26 28 30 32 34]\n",
      "己知 2,4,6,..12, S6 ?\n",
      "42\n",
      "[  0  -2  -4  -6  -8 -10 -12 -14 -16 -18 -20 -22 -24 -26 -28 -30 -32 -34]\n",
      "己知 -2,-4,-6,..-18, S9 ?\n",
      "-90\n",
      "[  0   9  18  27  36  45  54  63  72  81  90  99 108 117 126 135 144 153]\n",
      "己知 9,18,27,..54, S6 ?\n",
      "189\n",
      "[ 0  4  8 12 16 20 24 28 32 36 40 44 48 52 56 60 64 68]\n",
      "己知 4,8,12,..24, S6 ?\n",
      "84\n",
      "[  0   6  12  18  24  30  36  42  48  54  60  66  72  78  84  90  96 102]\n",
      "己知 6,12,18,..42, S7 ?\n",
      "168\n",
      "[   0   -8  -16  -24  -32  -40  -48  -56  -64  -72  -80  -88  -96 -104\n",
      " -112 -120 -128 -136]\n",
      "己知 -8,-16,-24,..-88, S11 ?\n",
      "-528\n"
     ]
    }
   ],
   "source": [
    "import sympy as sp\n",
    "import numpy as np\n",
    "import random\n",
    "n= sp.symbols('n')\n",
    "a1=random.sample(range(-9,10), k=10)\n",
    "print(a1)\n",
    "for i in range(10):\n",
    "    a2=random.randrange(6) + 6 \n",
    "    a3=(a2+random.choice(range(4,7)) )% 11 ;a3=a3 if a3>0 else 1;\n",
    "    d=a1[i]; d= d if d!=0 else 1\n",
    "    expre= n*d\n",
    "    expr_func= sp.lambdify(n,expre)\n",
    "    a=expr_func(np.arange(18))\n",
    "    print(a)\n",
    "    tem_=\"\"\n",
    "    for i,a_ in enumerate(a):\n",
    "        if i>0 and i<4  :\n",
    "            tem_ = tem_+str(a_ )+\",\"\n",
    "    St=r'己知 {}..{}, S{} ?'.format(tem_,a[a2],a2)\n",
    "    Val=sp.summation(expre, (n, 1, a2))\n",
    "    print(St)\n",
    "    print(Val)"
   ]
  },
  {
   "cell_type": "markdown",
   "id": "committed-charge",
   "metadata": {},
   "source": [
    "## 題型四"
   ]
  },
  {
   "cell_type": "code",
   "execution_count": 91,
   "id": "verbal-inquiry",
   "metadata": {},
   "outputs": [
    {
     "name": "stdout",
     "output_type": "stream",
     "text": [
      "[4, -8, 0, -9, 1, -5, 8, -4, 6, 5]\n",
      "[ 0  4  8 12 16 20 24 28 32 36 40 44 48 52 56 60 64 68]\n",
      "己知 a1=4,d=4, S8 ?\n",
      "144\n",
      "[   0   -8  -16  -24  -32  -40  -48  -56  -64  -72  -80  -88  -96 -104\n",
      " -112 -120 -128 -136]\n",
      "己知 a1=-8,d=-8, S7 ?\n",
      "-224\n",
      "[ 0  1  2  3  4  5  6  7  8  9 10 11 12 13 14 15 16 17]\n",
      "己知 a1=1,d=1, S11 ?\n",
      "66\n",
      "[   0   -9  -18  -27  -36  -45  -54  -63  -72  -81  -90  -99 -108 -117\n",
      " -126 -135 -144 -153]\n",
      "己知 a1=-9,d=-9, S8 ?\n",
      "-324\n",
      "[ 0  1  2  3  4  5  6  7  8  9 10 11 12 13 14 15 16 17]\n",
      "己知 a1=1,d=1, S9 ?\n",
      "45\n",
      "[  0  -5 -10 -15 -20 -25 -30 -35 -40 -45 -50 -55 -60 -65 -70 -75 -80 -85]\n",
      "己知 a1=-5,d=-5, S10 ?\n",
      "-275\n",
      "[  0   8  16  24  32  40  48  56  64  72  80  88  96 104 112 120 128 136]\n",
      "己知 a1=8,d=8, S11 ?\n",
      "528\n",
      "[  0  -4  -8 -12 -16 -20 -24 -28 -32 -36 -40 -44 -48 -52 -56 -60 -64 -68]\n",
      "己知 a1=-4,d=-4, S6 ?\n",
      "-84\n",
      "[  0   6  12  18  24  30  36  42  48  54  60  66  72  78  84  90  96 102]\n",
      "己知 a1=6,d=6, S6 ?\n",
      "126\n",
      "[ 0  5 10 15 20 25 30 35 40 45 50 55 60 65 70 75 80 85]\n",
      "己知 a1=5,d=5, S9 ?\n",
      "225\n"
     ]
    }
   ],
   "source": [
    "import sympy as sp\n",
    "import numpy as np\n",
    "import random\n",
    "n= sp.symbols('n')\n",
    "a1=random.sample(range(-9,10), k=10)\n",
    "print(a1)\n",
    "for i in range(10):\n",
    "    a2=random.randrange(6) + 6 \n",
    "    a3=(a2+random.choice(range(4,7)) )% 11 ;a3=a3 if a3>0 else 1;\n",
    "    d=a1[i]; d= d if d!=0 else 1\n",
    "    expre= n*d\n",
    "    expr_func= sp.lambdify(n,expre)\n",
    "    a=expr_func(np.arange(18))\n",
    "    print(a)\n",
    "    St=r'己知 a1={},d={}, S{} ?'.format(a[1],d,a2)\n",
    "    Val=sp.summation(expre, (n, 1, a2))\n",
    "    print(St)\n",
    "    print(Val)"
   ]
  },
  {
   "cell_type": "markdown",
   "id": "fossil-cradle",
   "metadata": {},
   "source": [
    "## 3. 等比和"
   ]
  },
  {
   "cell_type": "code",
   "execution_count": 1,
   "id": "institutional-healing",
   "metadata": {},
   "outputs": [
    {
     "data": {
      "text/plain": [
       "683"
      ]
     },
     "execution_count": 1,
     "metadata": {},
     "output_type": "execute_result"
    }
   ],
   "source": [
    "1-2+4-8+ 16 -32 +64- 128+ 256 -512 + 1024 "
   ]
  },
  {
   "cell_type": "code",
   "execution_count": 78,
   "id": "oriental-marine",
   "metadata": {},
   "outputs": [
    {
     "data": {
      "text/plain": [
       "-0.5"
      ]
     },
     "execution_count": 78,
     "metadata": {},
     "output_type": "execute_result"
    }
   ],
   "source": [
    "exper =-2**(-1)"
   ]
  },
  {
   "cell_type": "code",
   "execution_count": 85,
   "id": "recent-coverage",
   "metadata": {
    "tags": []
   },
   "outputs": [
    {
     "data": {
      "text/plain": [
       "array([   1,    1,   -2,    4,   -8,   16,  -32,   64, -128,  256, -512,\n",
       "       1024], dtype=int32)"
      ]
     },
     "execution_count": 85,
     "metadata": {},
     "output_type": "execute_result"
    }
   ],
   "source": [
    "import sympy as sp\n",
    "import numpy as np\n",
    "n,i= sp.symbols('n,i')\n",
    "expre= (-2) ** (n-1)\n",
    "expr_func= sp.lambdify(n, expre)\n",
    "n_arr=np.arange(12)\n",
    "n_arr[0]=1\n",
    "a=expr_func(n_arr)\n",
    "a"
   ]
  },
  {
   "cell_type": "markdown",
   "id": "efficient-excuse",
   "metadata": {},
   "source": [
    "### 等比"
   ]
  },
  {
   "cell_type": "code",
   "execution_count": 87,
   "id": "comfortable-delta",
   "metadata": {},
   "outputs": [
    {
     "data": {
      "text/plain": [
       "-2.0"
      ]
     },
     "execution_count": 87,
     "metadata": {},
     "output_type": "execute_result"
    }
   ],
   "source": [
    "\n",
    "q=a[4]/a[3]\n",
    "q"
   ]
  },
  {
   "cell_type": "markdown",
   "id": "dramatic-mount",
   "metadata": {},
   "source": [
    "### 通項"
   ]
  },
  {
   "cell_type": "code",
   "execution_count": 88,
   "id": "integral-disney",
   "metadata": {},
   "outputs": [
    {
     "data": {
      "text/latex": [
       "$\\displaystyle 1024$"
      ],
      "text/plain": [
       "1024"
      ]
     },
     "execution_count": 88,
     "metadata": {},
     "output_type": "execute_result"
    }
   ],
   "source": [
    "\n",
    "expre.subs(n,11)"
   ]
  },
  {
   "cell_type": "code",
   "execution_count": 89,
   "id": "floral-thompson",
   "metadata": {},
   "outputs": [
    {
     "data": {
      "text/plain": [
       "1024.0"
      ]
     },
     "execution_count": 89,
     "metadata": {},
     "output_type": "execute_result"
    }
   ],
   "source": [
    "a[1] * q**(11-1)"
   ]
  },
  {
   "cell_type": "markdown",
   "id": "presidential-durham",
   "metadata": {},
   "source": [
    "### 和"
   ]
  },
  {
   "cell_type": "code",
   "execution_count": 97,
   "id": "legendary-politics",
   "metadata": {},
   "outputs": [
    {
     "data": {
      "text/latex": [
       "$\\displaystyle 683.0$"
      ],
      "text/plain": [
       "683.000000000000"
      ]
     },
     "execution_count": 97,
     "metadata": {},
     "output_type": "execute_result"
    }
   ],
   "source": [
    "(a[1]*(1-q**n)/(1-q)).subs(n,11) "
   ]
  },
  {
   "cell_type": "code",
   "execution_count": 95,
   "id": "generous-worker",
   "metadata": {
    "tags": []
   },
   "outputs": [
    {
     "data": {
      "text/plain": [
       "683.0"
      ]
     },
     "execution_count": 95,
     "metadata": {},
     "output_type": "execute_result"
    }
   ],
   "source": [
    "(a[1]-a[11]*q)/(1-q)"
   ]
  },
  {
   "cell_type": "code",
   "execution_count": 94,
   "id": "moral-language",
   "metadata": {},
   "outputs": [
    {
     "data": {
      "text/latex": [
       "$\\displaystyle 683$"
      ],
      "text/plain": [
       "683"
      ]
     },
     "execution_count": 94,
     "metadata": {},
     "output_type": "execute_result"
    }
   ],
   "source": [
    "sp.summation( expre, (n, 1, 11))     "
   ]
  },
  {
   "cell_type": "markdown",
   "id": "responsible-dubai",
   "metadata": {},
   "source": [
    "![](https://appwk.baidu.com/naapi/doc/view?ih=673&o=jpg_6_0_______&iw=678&ix=0&iy=0&aimw=678&rn=1&doc_id=21ad731a59eef8c75fbfb3d0&pn=1&sign=095cfb97e48b57b1777292b350277067&type=1&app_ver=2.9.8.2&ua=bd_800_800_IncredibleS_2.9.8.2_2.3.7&bid=1&app_ua=IncredibleS&uid=&cuid=&fr=3&Bdi_bear=WIFI&from=3_10000&bduss=&pid=1&screen=800_800&sys_ver=2.3.7)"
   ]
  },
  {
   "cell_type": "markdown",
   "id": "rising-evening",
   "metadata": {},
   "source": [
    "## 4  指數數列之和\n",
    "\n",
    "$\\sum_{i=1}^{10} 2^i$  "
   ]
  },
  {
   "cell_type": "code",
   "execution_count": 6,
   "id": "fossil-newsletter",
   "metadata": {
    "tags": []
   },
   "outputs": [
    {
     "data": {
      "image/png": "[encoded data removed]",
      "text/latex": [
       "$\\displaystyle 2046$"
      ],
      "text/plain": [
       "2046"
      ]
     },
     "execution_count": 6,
     "metadata": {},
     "output_type": "execute_result"
    }
   ],
   "source": [
    "import sympy as sp\n",
    "sp.init_printing(\"mathjax\")                       #\n",
    "from sympy import div,pdiv,rem,ZZ,QQ \n",
    "from IPython.display import Latex,HTML,Markdown    \n",
    "from sympy.parsing.sympy_parser import parse_expr #文字字串, 解釋成, Sympy 運算式\n",
    "i=sp.Symbol('i')\n",
    "sp.summation(2 ** i  , (i, 1, 10))"
   ]
  },
  {
   "cell_type": "markdown",
   "id": "entertaining-visibility",
   "metadata": {
    "tags": []
   },
   "source": [
    "### 4.1. N数列指數和\n",
    "\n",
    "∑(i=1,N) i^2=N(N+1)(2N+1)/6\n",
    "\n",
    "$\\sum_{i=1}^{N} i^2  = \\frac{N(N+1)(2N+1)}{6}$ "
   ]
  },
  {
   "cell_type": "code",
   "execution_count": 20,
   "id": "active-country",
   "metadata": {
    "tags": []
   },
   "outputs": [
    {
     "data": {
      "image/png": "[encoded data removed]",
      "text/latex": [
       "$\\displaystyle \\frac{N^{3}}{3} + \\frac{N^{2}}{2} + \\frac{N}{6}$"
      ],
      "text/plain": [
       " 3    2    \n",
       "N    N    N\n",
       "── + ── + ─\n",
       "3    2    6"
      ]
     },
     "execution_count": 20,
     "metadata": {},
     "output_type": "execute_result"
    }
   ],
   "source": [
    "N= sp.Symbol('N')\n",
    "sp.summation(i**2, (i, 1, N))"
   ]
  },
  {
   "cell_type": "code",
   "execution_count": 21,
   "id": "automated-british",
   "metadata": {},
   "outputs": [
    {
     "data": {
      "image/png": "[encoded data removed]",
      "text/latex": [
       "$\\displaystyle \\frac{N \\left(N + 1\\right) \\left(2 N + 1\\right)}{6}$"
      ],
      "text/plain": [
       "N⋅(N + 1)⋅(2⋅N + 1)\n",
       "───────────────────\n",
       "         6         "
      ]
     },
     "execution_count": 21,
     "metadata": {},
     "output_type": "execute_result"
    }
   ],
   "source": [
    "sp.factor(_)"
   ]
  },
  {
   "cell_type": "markdown",
   "id": "existing-mounting",
   "metadata": {},
   "source": [
    "\n",
    "### 練習. 數列之和\n",
    "\n",
    "第一項  a1 ，公差  d  等差列的第1項至第2項 n 要求一個術語的總和。  \n",
    "對於初項為3、公比為2的等比數列，求出到第10項之和。  \n",
    "∑(i=1,n) b1 r^(i−1) 問問你 另外，無限等比數列之和  n→∞  問問你 但是， 0<r<1 。  \n",
    "\n",
    "\n",
    "（提示）\n",
    "\n",
    "1. 計算如下。 在句子末尾添加時，不顯示結果。; \n",
    "\n"
   ]
  },
  {
   "cell_type": "code",
   "execution_count": 22,
   "id": "norman-greensboro",
   "metadata": {},
   "outputs": [],
   "source": [
    "a1 = sp.Symbol('a1')\n",
    "sp.summation(a1 + ( i- 1)*d, (i, 1, n));"
   ]
  },
  {
   "cell_type": "code",
   "execution_count": 23,
   "id": "honey-fossil",
   "metadata": {
    "tags": []
   },
   "outputs": [],
   "source": [
    "b1 = sp.Symbol('b1')\n",
    "sum2 = sp.summation(b1*r**(i - 1), (i, 1, n))"
   ]
  },
  {
   "cell_type": "code",
   "execution_count": 24,
   "id": "turkish-rhythm",
   "metadata": {
    "tags": []
   },
   "outputs": [
    {
     "data": {
      "text/latex": [
       "$\\displaystyle \\frac{b_{1} \\left(\\begin{cases} n & \\text{for}\\: r = 1 \\\\\\frac{r - r^{n + 1}}{1 - r} & \\text{otherwise} \\end{cases}\\right)}{r}$"
      ],
      "text/plain": [
       "   ⎛⎧    n       for r = 1⎞\n",
       "   ⎜⎪                     ⎟\n",
       "   ⎜⎪     n + 1           ⎟\n",
       "b₁⋅⎜⎨r - r                ⎟\n",
       "   ⎜⎪──────────  otherwise⎟\n",
       "   ⎜⎪  1 - r              ⎟\n",
       "   ⎝⎩                     ⎠\n",
       "───────────────────────────\n",
       "             r             "
      ]
     },
     "execution_count": 24,
     "metadata": {},
     "output_type": "execute_result"
    }
   ],
   "source": [
    "sum2"
   ]
  },
  {
   "cell_type": "code",
   "execution_count": null,
   "id": "numerical-reputation",
   "metadata": {},
   "outputs": [],
   "source": []
  },
  {
   "cell_type": "markdown",
   "id": "fifty-general",
   "metadata": {
    "tags": []
   },
   "source": [
    "## 5.計算的階乘"
   ]
  },
  {
   "cell_type": "markdown",
   "id": "spoken-nylon",
   "metadata": {
    "tags": []
   },
   "source": [
    "4  計算的階乘。4! =4×3×2×1=24 是。 在 SymPy 中，階乘使用函數。factorial"
   ]
  },
  {
   "cell_type": "code",
   "execution_count": 40,
   "id": "chicken-truck",
   "metadata": {
    "tags": []
   },
   "outputs": [
    {
     "data": {
      "image/png": "[encoded data removed]",
      "text/latex": [
       "$\\displaystyle 24$"
      ],
      "text/plain": [
       "24"
      ]
     },
     "execution_count": 40,
     "metadata": {},
     "output_type": "execute_result"
    }
   ],
   "source": [
    "factorial(4)"
   ]
  },
  {
   "cell_type": "markdown",
   "id": "worth-excitement",
   "metadata": {
    "tags": []
   },
   "source": [
    "factorial2 函數計算每個場地。 5! ! =5×3×1=15  是。"
   ]
  },
  {
   "cell_type": "code",
   "execution_count": 41,
   "id": "structural-sessions",
   "metadata": {
    "tags": []
   },
   "outputs": [
    {
     "data": {
      "image/png": "[encoded data removed]",
      "text/latex": [
       "$\\displaystyle 15$"
      ],
      "text/plain": [
       "15"
      ]
     },
     "execution_count": 41,
     "metadata": {},
     "output_type": "execute_result"
    }
   ],
   "source": [
    "factorial2(5)"
   ]
  },
  {
   "cell_type": "markdown",
   "id": "baking-nature",
   "metadata": {},
   "source": [
    "\n",
    "練習\n",
    "（練習）  3,2,1  最大數位由\n",
    "\n",
    "使用數位 3、2 和 1 的單一動作可以建立的最大整數是什麼？\n",
    "\n",
    "（提示）\n",
    "\n",
    "(1+2)×3=9  那一點也不好。 如果你按原樣排列， 321  但是，使用冪可以創建更大的數位。\n",
    "\n",
    "213  或者說， 312  或者說， 231  或者說， 321  或者...\n",
    "\n"
   ]
  },
  {
   "cell_type": "markdown",
   "id": "vocational-movie",
   "metadata": {},
   "source": [
    "## 6 數列之積product\n",
    "$$\\prod_{k=1}^{10} k= 10!$$\n"
   ]
  },
  {
   "cell_type": "code",
   "execution_count": 19,
   "id": "yellow-environment",
   "metadata": {
    "tags": []
   },
   "outputs": [
    {
     "data": {
      "image/png": "[encoded data removed]",
      "text/latex": [
       "$\\displaystyle 3628800$"
      ],
      "text/plain": [
       "3628800"
      ]
     },
     "execution_count": 19,
     "metadata": {},
     "output_type": "execute_result"
    }
   ],
   "source": [
    "import sympy as sp\n",
    "sp.factorial(10)"
   ]
  },
  {
   "cell_type": "code",
   "execution_count": 20,
   "id": "isolated-domain",
   "metadata": {
    "tags": []
   },
   "outputs": [
    {
     "data": {
      "image/png": "[encoded data removed]",
      "text/latex": [
       "$\\displaystyle 3628800$"
      ],
      "text/plain": [
       "3628800"
      ]
     },
     "execution_count": 20,
     "metadata": {},
     "output_type": "execute_result"
    }
   ],
   "source": [
    "import sympy as sp\n",
    "k=sp.symbols('k',integer=True)\n",
    "sp.product(k, (k, 1, 10) )"
   ]
  },
  {
   "cell_type": "markdown",
   "id": "stainless-malaysia",
   "metadata": {},
   "source": [
    "### 6.1 例題\n",
    "\n",
    "\n",
    "$$\\prod_{k=2}^{2021} \\frac{k^2-1}{K^2}$$\n",
    "\n",
    "$$ A_1= \\frac{2^2-1}{2^2} \\cdot \\frac{3^2-1}{3^2}  \\cdot \\frac{4^2-1}{4^2} \\cdot \\cdot \\cdot \\frac{2021^2-1}{2021^2}  $$\n",
    "\n",
    "\n",
    "<details>\n",
    "    <summary>Click to reveal solution</summary>\n",
    "```    \n",
    "$$ A_1= \\frac{(2-1)(2+1)}{2^2} \\cdot \\frac{(3+1)(3-1)}{3^2}  \\cdot \\cdot \\cdot \\frac{(2021-1)(2021+1)}{2021^2}  $$    \n",
    "$$ A_1= \\frac{(1)(3)}{2^2} \\cdot \\frac{(2)(4)}{3^2}  \\cdot \\cdot \\cdot \\frac{(2020)(2022)}{2021^2}  $$\n",
    "$$ A_1= \\frac{(1 * 2 * 3 * 4 \\cdot \\cdot \\cdot 2020) \\cdot ( 3 * 4 \\cdot \\cdot \\cdot 2020 * 2021*2022)}{(2 * 3 * 4 \\cdot \\cdot \\cdot 2020 * 2021) *(2 * 3 * 4 \\cdot \\cdot \\cdot 2020 * 2021)}  $$\n",
    "$$ A_1= \\frac{ 2022}{2021 *2} = \\frac{1011}{2021} $$    \n",
    "$$ A_1= \\frac{ 2022}{2021 *2} = \\frac{1011}{2021} $$\n",
    "```\n",
    "</details>\n",
    "\n",
    "\n"
   ]
  },
  {
   "cell_type": "code",
   "execution_count": 21,
   "id": "precise-hardwood",
   "metadata": {},
   "outputs": [
    {
     "name": "stdout",
     "output_type": "stream",
     "text": [
      "0.500247402276101\n",
      "0.5002474022761008\n",
      "1011/2021\n"
     ]
    }
   ],
   "source": [
    "# 計算\n",
    "print(1011/2021)\n",
    "\n",
    "# 程式一\n",
    "A1=1 \n",
    "for i in range(2,2022): \n",
    "    A1 *= (i**2-1)/ (i**2)\n",
    "print(A1)\n",
    "\n",
    "# 程式二\n",
    "A2=1 \n",
    "for i in range(2,2022): \n",
    "    A2 *= sp.S(i**2-1) / sp.S(i**2)\n",
    "print(A2)\n"
   ]
  },
  {
   "cell_type": "code",
   "execution_count": 16,
   "id": "labeled-memory",
   "metadata": {
    "tags": []
   },
   "outputs": [
    {
     "data": {
      "image/png": "[encoded data removed]",
      "text/latex": [
       "$\\displaystyle \\frac{1011}{2021}$"
      ],
      "text/plain": [
       "1011\n",
       "────\n",
       "2021"
      ]
     },
     "execution_count": 16,
     "metadata": {},
     "output_type": "execute_result"
    }
   ],
   "source": [
    "expre=(k**2-1)/(k**2)\n",
    "sp.product(expre, (k, 2, 2021) )"
   ]
  },
  {
   "cell_type": "markdown",
   "id": "played-stranger",
   "metadata": {},
   "source": [
    "## Pascal's Triangel"
   ]
  },
  {
   "cell_type": "code",
   "execution_count": 4,
   "id": "entertaining-falls",
   "metadata": {
    "tags": []
   },
   "outputs": [],
   "source": [
    "from sympy import Symbol, Rational, binomial, expand_func\n",
    "n = Symbol('n', integer=True, positive=True)"
   ]
  },
  {
   "cell_type": "code",
   "execution_count": 5,
   "id": "verified-grounds",
   "metadata": {
    "tags": []
   },
   "outputs": [
    {
     "data": {
      "text/latex": [
       "$\\displaystyle 6435$"
      ],
      "text/plain": [
       "6435"
      ]
     },
     "execution_count": 5,
     "metadata": {},
     "output_type": "execute_result"
    }
   ],
   "source": [
    "binomial(15, 8)"
   ]
  },
  {
   "cell_type": "code",
   "execution_count": 10,
   "id": "engaged-version",
   "metadata": {
    "tags": []
   },
   "outputs": [
    {
     "data": {
      "text/latex": [
       "$\\displaystyle 0$"
      ],
      "text/plain": [
       "0"
      ]
     },
     "execution_count": 10,
     "metadata": {},
     "output_type": "execute_result"
    }
   ],
   "source": [
    "binomial(n, -1)"
   ]
  },
  {
   "cell_type": "code",
   "execution_count": 11,
   "id": "hired-covering",
   "metadata": {},
   "outputs": [
    {
     "name": "stdout",
     "output_type": "stream",
     "text": [
      "[1]\n",
      "[1, 1]\n",
      "[1, 2, 1]\n",
      "[1, 3, 3, 1]\n",
      "[1, 4, 6, 4, 1]\n",
      "[1, 5, 10, 10, 5, 1]\n",
      "[1, 6, 15, 20, 15, 6, 1]\n",
      "[1, 7, 21, 35, 35, 21, 7, 1]\n"
     ]
    }
   ],
   "source": [
    "for N in range(8):\n",
    "    print([binomial(N, i) for i in range(N + 1)])"
   ]
  },
  {
   "cell_type": "markdown",
   "id": "distant-purse",
   "metadata": {},
   "source": [
    "## fibonacci"
   ]
  },
  {
   "cell_type": "code",
   "execution_count": 12,
   "id": "crucial-square",
   "metadata": {},
   "outputs": [
    {
     "data": {
      "text/plain": [
       "[0, 1, 1, 2, 3, 5, 8, 13, 21, 34, 55]"
      ]
     },
     "execution_count": 12,
     "metadata": {},
     "output_type": "execute_result"
    }
   ],
   "source": [
    "from sympy import fibonacci, Symbol\n",
    "[fibonacci(x) for x in range(11)]"
   ]
  },
  {
   "cell_type": "code",
   "execution_count": 13,
   "id": "religious-association",
   "metadata": {},
   "outputs": [
    {
     "data": {
      "text/latex": [
       "$\\displaystyle t^{4} + 3 t^{2} + 1$"
      ],
      "text/plain": [
       "t**4 + 3*t**2 + 1"
      ]
     },
     "execution_count": 13,
     "metadata": {},
     "output_type": "execute_result"
    }
   ],
   "source": [
    "fibonacci(5, Symbol('t'))"
   ]
  },
  {
   "cell_type": "markdown",
   "id": "micro-toyota",
   "metadata": {},
   "source": [
    "## 7. 資料收集,未整理"
   ]
  },
  {
   "cell_type": "markdown",
   "id": "juvenile-lover",
   "metadata": {},
   "source": [
    "### Sequence\n",
    "https://en.wikipedia.org/wiki/Sequence\n",
    "\n",
    "\n",
    "### List of integer sequences \n",
    "\n",
    "https://en.wikipedia.org/wiki/List_of_integer_sequences\n",
    "\n",
    "\n",
    "###  List of mathematical series\n",
    "https://en.wikipedia.org/wiki/List_of_mathematical_series\n",
    "\n",
    "Famous Mathematical Sequences and Series | Edu-Blog\n",
    "\n",
    "https://edublognss.wordpress.com/2013/04/16/famous-mathematical-sequences-and-series/#:~:text=Only%20a%20few%20of%20the%20more%20famous%20mathematical,of%20numbers%20so%20sacrosanct%20or%20important%20or%20famous."
   ]
  },
  {
   "cell_type": "markdown",
   "id": "personalized-conflict",
   "metadata": {
    "tags": []
   },
   "source": [
    "### 7.1.泰勒函數擴展\n",
    "sinx  在  x=0  周圍  x5  泰勒展開到部分的示例。\n",
    "\n",
    "（Python 從零開始， x5  是 x0  第六，我想我應該記住...\n",
    "\n",
    "\n"
   ]
  },
  {
   "cell_type": "code",
   "execution_count": 77,
   "id": "available-pointer",
   "metadata": {
    "tags": []
   },
   "outputs": [
    {
     "data": {
      "image/png": "[encoded data removed]",
      "text/latex": [
       "$\\displaystyle x - \\frac{x^{3}}{6} + \\frac{x^{5}}{120} + O\\left(x^{6}\\right)$"
      ],
      "text/plain": [
       "     3     5        \n",
       "    x     x     ⎛ 6⎞\n",
       "x - ── + ─── + O⎝x ⎠\n",
       "    6    120        "
      ]
     },
     "execution_count": 77,
     "metadata": {},
     "output_type": "execute_result"
    }
   ],
   "source": [
    "x = Symbol('x', real=True)\n",
    "series(sin(x), x, 0, 6)"
   ]
  },
  {
   "cell_type": "markdown",
   "id": "qualified-auction",
   "metadata": {},
   "source": [
    "$e^{ix} $   （ i  泰勒部署的虛數單位）"
   ]
  },
  {
   "cell_type": "code",
   "execution_count": 78,
   "id": "emerging-latest",
   "metadata": {
    "tags": []
   },
   "outputs": [
    {
     "data": {
      "image/png": "[encoded data removed]",
      "text/latex": [
       "$\\displaystyle 1 + i x - \\frac{x^{2}}{2} - \\frac{i x^{3}}{6} + \\frac{x^{4}}{24} + \\frac{i x^{5}}{120} + O\\left(x^{6}\\right)$"
      ],
      "text/plain": [
       "           2      3    4      5        \n",
       "          x    ⅈ⋅x    x    ⅈ⋅x     ⎛ 6⎞\n",
       "1 + ⅈ⋅x - ── - ──── + ── + ──── + O⎝x ⎠\n",
       "          2     6     24   120         "
      ]
     },
     "execution_count": 78,
     "metadata": {},
     "output_type": "execute_result"
    }
   ],
   "source": [
    "series(exp(I*x), x, 0, 6)"
   ]
  },
  {
   "cell_type": "markdown",
   "id": "sonic-tumor",
   "metadata": {
    "tags": []
   },
   "source": [
    "如果將假想部分與im函數一起使用...（順便說一句，實部是re。）"
   ]
  },
  {
   "cell_type": "code",
   "execution_count": 79,
   "id": "signed-friday",
   "metadata": {
    "tags": []
   },
   "outputs": [
    {
     "data": {
      "image/png": "[encoded data removed]",
      "text/latex": [
       "$\\displaystyle \\frac{x^{5}}{120} - \\frac{x^{3}}{6} + x + \\operatorname{im}{\\left(O\\left(x^{6}\\right)\\right)}$"
      ],
      "text/plain": [
       "  5    3                \n",
       " x    x          ⎛ ⎛ 6⎞⎞\n",
       "─── - ── + x + im⎝O⎝x ⎠⎠\n",
       "120   6                 "
      ]
     },
     "execution_count": 79,
     "metadata": {},
     "output_type": "execute_result"
    }
   ],
   "source": [
    "im(_)"
   ]
  },
  {
   "cell_type": "markdown",
   "id": "written-elizabeth",
   "metadata": {
    "tags": []
   },
   "source": [
    "cos x,tan x  讓我們嘗試泰勒展開式。\n",
    "\n"
   ]
  },
  {
   "cell_type": "markdown",
   "id": "imported-disclosure",
   "metadata": {
    "tags": []
   },
   "source": [
    "### sequences  \n",
    "https://docs.sympy.org/latest/modules/series/sequences.html\n",
    "\n",
    "https://www.youtube.com/watch?v=_cooC3yG_p0   \n",
    "https://www.youtube.com/watch?v=VgVJrSJxkDk   \n",
    "https://www.youtube.com/watch?v=Zd9xsSeBZlA    \n",
    "https://www.youtube.com/watch?v=ihxJN6ZC9HE   \n",
    "\n",
    "### Combinatorial\n",
    "https://docs.sympy.org/latest/modules/functions/combinatorial.html   \n"
   ]
  },
  {
   "cell_type": "markdown",
   "id": "seventh-relationship",
   "metadata": {},
   "source": [
    "### series\n",
    "https://www.youtube.com/watch?v=neUB-5KO_Wc  \n",
    "https://www.youtube.com/watch?v=Jwtn5_d2YCs   \n",
    "https://www.youtube.com/watch?v=L-JqHo4-W4k   \n",
    "https://www.youtube.com/watch?v=neUB-5KO_Wc  \n",
    "riemann series theorem \n",
    "复變函數   \n",
    "共形 及 riemann 几何   \n",
    "tayler seires  \n",
    "erul \n",
    "riemann \n",
    "fourier \n",
    "\n"
   ]
  },
  {
   "cell_type": "markdown",
   "id": "3ea20442-b8e3-4ea2-946e-da0a04fa7c46",
   "metadata": {},
   "source": [
    "# Sequences\n",
    "A sequence is a finite or infinite lazily evaluated list\n",
    "sympy.series.sequences.sequence(seq, limits=None)[source]\n",
    "Returns appropriate sequence object.\n",
    "\n",
    "Explanation\n",
    "\n",
    "If seq is a sympy sequence, returns SeqPer object otherwise returns SeqFormula object.\n",
    "\n",
    "Examples"
   ]
  },
  {
   "cell_type": "code",
   "execution_count": 2,
   "id": "d3c91cc9-a9f0-4f78-9d4a-d29c44f23f03",
   "metadata": {},
   "outputs": [
    {
     "data": {
      "text/latex": [
       "$\\displaystyle \\left[0, 1, 4, 9, \\ldots\\right]$"
      ],
      "text/plain": [
       "SeqFormula(n**2, (n, 0, 5))"
      ]
     },
     "execution_count": 2,
     "metadata": {},
     "output_type": "execute_result"
    }
   ],
   "source": [
    "from sympy import sequence\n",
    "from sympy.abc import n\n",
    "sequence(n**2, (n, 0, 5))\n",
    "#SeqFormula(n**2, (n, 0, 5))\n"
   ]
  },
  {
   "cell_type": "code",
   "execution_count": 3,
   "id": "ba65ac82-6281-402b-b562-49721ee118cf",
   "metadata": {},
   "outputs": [
    {
     "data": {
      "text/latex": [
       "$\\displaystyle \\left[1, 2, 3, 1, \\ldots\\right]$"
      ],
      "text/plain": [
       "SeqPer((1, 2, 3), (n, 0, 5))"
      ]
     },
     "execution_count": 3,
     "metadata": {},
     "output_type": "execute_result"
    }
   ],
   "source": [
    "sequence((1, 2, 3), (n, 0, 5))\n",
    "#SeqPer((1, 2, 3), (n, 0, 5))"
   ]
  },
  {
   "cell_type": "markdown",
   "id": "dfa9dcb0-680b-4e8a-9e80-ce8a9bea5195",
   "metadata": {},
   "source": [
    "See also sympy.series.sequences.SeqPer, sympy.series.sequences.SeqFormula\n",
    "Sequences Base\n",
    "class sympy.series.sequences.SeqBase(*args)[source]\n",
    "Base class for sequences\n",
    "\n",
    "coeff(pt)[source]\n",
    "Returns the coefficient at point pt\n",
    "\n",
    "coeff_mul(other)[source]\n",
    "Should be used when other is not a sequence. Should be defined to define custom behaviour.\n",
    "\n",
    "Examples\n"
   ]
  },
  {
   "cell_type": "code",
   "execution_count": 4,
   "id": "5a26ae48-d44f-48c2-aa0e-69bd29139ecd",
   "metadata": {},
   "outputs": [
    {
     "data": {
      "text/latex": [
       "$\\displaystyle \\left[0, 2, 8, 18, \\ldots\\right]$"
      ],
      "text/plain": [
       "SeqFormula(2*n**2, (n, 0, oo))"
      ]
     },
     "execution_count": 4,
     "metadata": {},
     "output_type": "execute_result"
    }
   ],
   "source": [
    "from sympy import SeqFormula\n",
    "from sympy.abc import n\n",
    "SeqFormula(n**2).coeff_mul(2)\n"
   ]
  },
  {
   "cell_type": "code",
   "execution_count": 6,
   "id": "0d04d2bb-c912-4ecd-ad0f-1a8925eabfef",
   "metadata": {},
   "outputs": [
    {
     "data": {
      "text/latex": [
       "$\\displaystyle \\left[0, 2, 8, 18, \\ldots\\right]$"
      ],
      "text/plain": [
       "SeqFormula(2*n**2, (n, 0, oo))"
      ]
     },
     "execution_count": 6,
     "metadata": {},
     "output_type": "execute_result"
    }
   ],
   "source": [
    "from sympy import sequence, sqrt, oo, lucas\n",
    "SeqFormula(2*n**2, (n, 0, oo))"
   ]
  },
  {
   "cell_type": "markdown",
   "id": "c78e6440-30c7-4a1a-b6fa-8ad7cffecf4c",
   "metadata": {},
   "source": [
    "Notes\n",
    "\n",
    "‘*’ defines multiplication of sequences with sequences only.\n",
    "\n",
    "find_linear_recurrence(n, d=None, gfvar=None)[source]\n",
    "Finds the shortest linear recurrence that satisfies the first n terms of sequence of order ≤ n/2 if possible. If d is specified, find shortest linear recurrence of order ≤ min(d, n/2) if possible. Returns list of coefficients [b(1), b(2), ...] corresponding to the recurrence relation x(n) = b(1)*x(n-1) + b(2)*x(n-2) + ... Returns [] if no recurrence is found. If gfvar is specified, also returns ordinary generating function as a function of gfvar.\n",
    "\n",
    "Examples\n"
   ]
  },
  {
   "cell_type": "code",
   "execution_count": 7,
   "id": "849b7790-aa66-4c41-bc1c-dd9ef8037137",
   "metadata": {},
   "outputs": [
    {
     "data": {
      "text/plain": [
       "[]"
      ]
     },
     "execution_count": 7,
     "metadata": {},
     "output_type": "execute_result"
    }
   ],
   "source": [
    "from sympy import sequence, sqrt, oo, lucas\n",
    "from sympy.abc import n, x, y\n",
    "sequence(n**2).find_linear_recurrence(10, 2)\n"
   ]
  },
  {
   "cell_type": "code",
   "execution_count": 8,
   "id": "d579989c-9898-40bd-95a5-690ebb15a24c",
   "metadata": {},
   "outputs": [
    {
     "data": {
      "text/plain": [
       "[3, -3, 1]"
      ]
     },
     "execution_count": 8,
     "metadata": {},
     "output_type": "execute_result"
    }
   ],
   "source": [
    "sequence(n**2).find_linear_recurrence(10)"
   ]
  },
  {
   "cell_type": "code",
   "execution_count": 9,
   "id": "f25df2dd-e2ee-4ae6-9864-2dadebc97071",
   "metadata": {},
   "outputs": [
    {
     "data": {
      "text/plain": [
       "[2]"
      ]
     },
     "execution_count": 9,
     "metadata": {},
     "output_type": "execute_result"
    }
   ],
   "source": [
    "sequence(2**n).find_linear_recurrence(10)"
   ]
  },
  {
   "cell_type": "code",
   "execution_count": 10,
   "id": "e943a61c-f0c3-453c-9c3a-dc0366411353",
   "metadata": {
    "tags": []
   },
   "outputs": [
    {
     "data": {
      "text/plain": [
       "[5, -10, 10, -5, 1]"
      ]
     },
     "execution_count": 10,
     "metadata": {},
     "output_type": "execute_result"
    }
   ],
   "source": [
    "sequence(23*n**4+91*n**2).find_linear_recurrence(10)"
   ]
  },
  {
   "cell_type": "code",
   "execution_count": 11,
   "id": "2b9d289c-b285-4077-a2b8-4bceff6f6a65",
   "metadata": {
    "tags": []
   },
   "outputs": [
    {
     "data": {
      "text/plain": [
       "[1, 1]"
      ]
     },
     "execution_count": 11,
     "metadata": {},
     "output_type": "execute_result"
    }
   ],
   "source": [
    "sequence(sqrt(5)*(((1 + sqrt(5))/2)**n - (-(1 + sqrt(5))/2)**(-n))/5).find_linear_recurrence(10)"
   ]
  },
  {
   "cell_type": "code",
   "execution_count": 12,
   "id": "0055c53a-0581-4925-838b-be1a8c5b6d06",
   "metadata": {},
   "outputs": [
    {
     "data": {
      "text/plain": [
       "[1/2, 1/2]"
      ]
     },
     "execution_count": 12,
     "metadata": {},
     "output_type": "execute_result"
    }
   ],
   "source": [
    "sequence(x+y*(-2)**(-n), (n, 0, oo)).find_linear_recurrence(30)"
   ]
  },
  {
   "cell_type": "code",
   "execution_count": 14,
   "id": "f7276323-9680-40ab-95ff-33ff906deb46",
   "metadata": {
    "tags": []
   },
   "outputs": [
    {
     "data": {
      "text/plain": [
       "([6, -5], 3*(5 - 21*x)/((x - 1)*(5*x - 1)))"
      ]
     },
     "execution_count": 14,
     "metadata": {},
     "output_type": "execute_result"
    }
   ],
   "source": [
    "sequence(3*5**n + 12).find_linear_recurrence(20,gfvar=x)"
   ]
  },
  {
   "cell_type": "markdown",
   "id": "d1208833-0d32-4a6a-baaf-1d8b91fc15f4",
   "metadata": {},
   "source": [
    "property free_symbols\n",
    "This method returns the symbols in the object, excluding those that take on a specific value (i.e. the dummy symbols).\n"
   ]
  },
  {
   "cell_type": "code",
   "execution_count": 15,
   "id": "e25e4e0e-b5de-4845-90eb-e2ffdb2ccb3e",
   "metadata": {},
   "outputs": [
    {
     "data": {
      "text/plain": [
       "{m}"
      ]
     },
     "execution_count": 15,
     "metadata": {},
     "output_type": "execute_result"
    }
   ],
   "source": [
    "from sympy import SeqFormula\n",
    "from sympy.abc import n, m\n",
    "SeqFormula(m*n**2, (n, 0, 5)).free_symbols"
   ]
  },
  {
   "cell_type": "markdown",
   "id": "3e8795e4-2e85-4c5b-b7f6-f6cbd9d6bb85",
   "metadata": {},
   "source": [
    "property gen\n",
    "Returns the generator for the sequence\n",
    "\n",
    "property interval\n",
    "The interval on which the sequence is defined\n",
    "\n",
    "property length\n",
    "Length of the sequence\n",
    "\n",
    "property start\n",
    "The starting point of the sequence. This point is included\n",
    "\n",
    "property stop\n",
    "The ending point of the sequence. This point is included\n",
    "\n",
    "property variables\n",
    "Returns a tuple of variables that are bounded"
   ]
  },
  {
   "cell_type": "markdown",
   "id": "941b2246-8d1e-4848-89ef-6f8b566ccaab",
   "metadata": {},
   "source": [
    "\n",
    "\n",
    "## Elementary Sequences\n",
    "class sympy.series.sequences.SeqFormula(formula, limits=None)[source]\n",
    "Represents sequence based on a formula.\n",
    "\n",
    "Elements are generated using a formula."
   ]
  },
  {
   "cell_type": "code",
   "execution_count": 16,
   "id": "70227fab-e39e-4109-b616-aa086bba86ac",
   "metadata": {},
   "outputs": [
    {
     "data": {
      "text/latex": [
       "$\\displaystyle n^{2}$"
      ],
      "text/plain": [
       "n**2"
      ]
     },
     "execution_count": 16,
     "metadata": {},
     "output_type": "execute_result"
    }
   ],
   "source": [
    "from sympy import SeqFormula, oo, Symbol\n",
    "n = Symbol('n')\n",
    "s = SeqFormula(n**2, (n, 0, 5))\n",
    "s.formula\n",
    "n**2"
   ]
  },
  {
   "cell_type": "markdown",
   "id": "21f3c8f1-2b64-469f-a1c5-98b56087cdc2",
   "metadata": {},
   "source": [
    "For value at a particular point"
   ]
  },
  {
   "cell_type": "code",
   "execution_count": 17,
   "id": "9f6d9fc0-cc93-4079-9823-e3d4f2782c60",
   "metadata": {},
   "outputs": [
    {
     "data": {
      "text/latex": [
       "$\\displaystyle 9$"
      ],
      "text/plain": [
       "9"
      ]
     },
     "execution_count": 17,
     "metadata": {},
     "output_type": "execute_result"
    }
   ],
   "source": [
    "s.coeff(3)"
   ]
  },
  {
   "cell_type": "markdown",
   "id": "9036edbf-ff10-44f3-a851-2d2875650b4e",
   "metadata": {},
   "source": [
    "supports slicing"
   ]
  },
  {
   "cell_type": "code",
   "execution_count": 18,
   "id": "ab3ceb6e-63e5-4ee8-ba56-f392a9906aeb",
   "metadata": {},
   "outputs": [
    {
     "data": {
      "text/plain": [
       "[0, 1, 4, 9, 16, 25]"
      ]
     },
     "execution_count": 18,
     "metadata": {},
     "output_type": "execute_result"
    }
   ],
   "source": [
    "s[:]"
   ]
  },
  {
   "cell_type": "markdown",
   "id": "6b0fc320-07b7-475c-92e4-929d50ec95d6",
   "metadata": {},
   "source": [
    "iterable"
   ]
  },
  {
   "cell_type": "code",
   "execution_count": 19,
   "id": "d83a1465-d505-440d-992f-25de315e052c",
   "metadata": {},
   "outputs": [
    {
     "data": {
      "text/plain": [
       "[0, 1, 4, 9, 16, 25]"
      ]
     },
     "execution_count": 19,
     "metadata": {},
     "output_type": "execute_result"
    }
   ],
   "source": [
    "list(s)"
   ]
  },
  {
   "cell_type": "markdown",
   "id": "e26f228b-b21c-449c-9d97-aaaf8d0277e3",
   "metadata": {
    "tags": []
   },
   "source": [
    "sequence starts from negative infinity"
   ]
  },
  {
   "cell_type": "code",
   "execution_count": 20,
   "id": "2cb27f32-c695-421b-8c4b-967a6edcd380",
   "metadata": {
    "tags": []
   },
   "outputs": [
    {
     "data": {
      "text/plain": [
       "[0, 1, 4, 9, 16, 25]"
      ]
     },
     "execution_count": 20,
     "metadata": {},
     "output_type": "execute_result"
    }
   ],
   "source": [
    "SeqFormula(n**2, (-oo, 0))[0:6]"
   ]
  },
  {
   "cell_type": "markdown",
   "id": "02af03cd-abc8-4a2e-a937-5cb20d43962e",
   "metadata": {},
   "source": [
    "See also sympy.series.sequences.SeqPer\n",
    "coeff_mul(coeff)[source]\n",
    "See docstring of SeqBase.coeff_mul\n",
    "\n",
    "class sympy.series.sequences.SeqPer(periodical, limits=None)[source]\n",
    "Represents a periodic sequence.\n",
    "\n",
    "The elements are repeated after a given period.\n"
   ]
  },
  {
   "cell_type": "code",
   "execution_count": 22,
   "id": "15b7e245-1e43-442d-8f64-a6185d309b8b",
   "metadata": {},
   "outputs": [],
   "source": [
    "from sympy import SeqPer, oo\n",
    "from sympy.abc import k"
   ]
  },
  {
   "cell_type": "code",
   "execution_count": 23,
   "id": "4b92d628-8471-46e0-88e5-d47c915c765b",
   "metadata": {},
   "outputs": [
    {
     "data": {
      "text/latex": [
       "$\\displaystyle \\left( 1, \\  2, \\  3\\right)$"
      ],
      "text/plain": [
       "(1, 2, 3)"
      ]
     },
     "execution_count": 23,
     "metadata": {},
     "output_type": "execute_result"
    }
   ],
   "source": [
    "s = SeqPer((1, 2, 3), (0, 5))\n",
    "s.periodical"
   ]
  },
  {
   "cell_type": "code",
   "execution_count": 24,
   "id": "9438e31f-e767-41de-a8c0-39ad792a96d9",
   "metadata": {},
   "outputs": [
    {
     "data": {
      "text/plain": [
       "3"
      ]
     },
     "execution_count": 24,
     "metadata": {},
     "output_type": "execute_result"
    }
   ],
   "source": [
    "s.period"
   ]
  },
  {
   "cell_type": "markdown",
   "id": "8ace77f7-c1f6-4b25-af8a-ad03e829fe73",
   "metadata": {},
   "source": [
    "For value at a particular point"
   ]
  },
  {
   "cell_type": "code",
   "execution_count": 25,
   "id": "6a9723e0-e6c4-43d7-b6b2-bce6969102d0",
   "metadata": {
    "tags": []
   },
   "outputs": [
    {
     "data": {
      "text/latex": [
       "$\\displaystyle 1$"
      ],
      "text/plain": [
       "1"
      ]
     },
     "execution_count": 25,
     "metadata": {},
     "output_type": "execute_result"
    }
   ],
   "source": [
    "s.coeff(3)"
   ]
  },
  {
   "cell_type": "code",
   "execution_count": 27,
   "id": "58ddec71-1f36-4519-ade0-76a7939764c6",
   "metadata": {},
   "outputs": [
    {
     "data": {
      "text/plain": [
       "[0, 1, 8, 3, 16, 125]"
      ]
     },
     "execution_count": 27,
     "metadata": {},
     "output_type": "execute_result"
    }
   ],
   "source": [
    "#supports slicing\n",
    "s[:]\n",
    "#[1, 2, 3, 1, 2, 3]\n",
    "#iterable\n",
    "list(s)\n",
    "#[1, 2, 3, 1, 2, 3]\n",
    "#sequence starts from negative infinity\n",
    "SeqPer((1, 2, 3), (-oo, 0))[0:6]\n",
    "#[1, 2, 3, 1, 2, 3]\n",
    "#Periodic formulas\n",
    "SeqPer((k, k**2, k**3), (k, 0, oo))[0:6]\n",
    "#[0, 1, 8, 3, 16, 125]\n",
    "#See also sympy.series.sequences.SeqFormula\n",
    "#coeff_mul(coeff)[source]\n",
    "#See docstring of SeqBase.coeff_mul\n"
   ]
  },
  {
   "cell_type": "markdown",
   "id": "792dd2f5-a1ce-4d43-9512-6527255413a1",
   "metadata": {},
   "source": [
    "## Singleton Sequences"
   ]
  },
  {
   "cell_type": "markdown",
   "id": "918ddf50-c7ad-4aa1-a394-3982d858a502",
   "metadata": {},
   "source": [
    "\n",
    "class sympy.series.sequences.EmptySequence(*args, **kwargs)[source]\n",
    "Represents an empty sequence.\n",
    "\n",
    "The empty sequence is also available as a singleton as S.EmptySequence."
   ]
  },
  {
   "cell_type": "code",
   "execution_count": 29,
   "id": "7c8502c4-2fc4-4c8e-9385-9de055e66947",
   "metadata": {},
   "outputs": [
    {
     "data": {
      "text/latex": [
       "$\\displaystyle EmptySequence\\left(\\right)$"
      ],
      "text/plain": [
       "EmptySequence"
      ]
     },
     "execution_count": 29,
     "metadata": {},
     "output_type": "execute_result"
    }
   ],
   "source": [
    "from sympy import EmptySequence, SeqPer\n",
    "from sympy.abc import x\n",
    "EmptySequence\n",
    "#EmptySequence\n",
    "SeqPer((1, 2), (x, 0, 10)) + EmptySequence\n",
    "#SeqPer((1, 2), (x, 0, 10))\n",
    "SeqPer((1, 2)) * EmptySequence\n",
    "#EmptySequence\n",
    "EmptySequence.coeff_mul(-1)\n",
    "#EmptySequence\n",
    "#coeff_mul(coeff)[source]\n",
    "#See docstring of SeqBase.coeff_mul"
   ]
  },
  {
   "cell_type": "markdown",
   "id": "5adba91e-f318-43b9-aa4b-2cb46d2512ea",
   "metadata": {},
   "source": [
    "## Compound Sequences\n",
    "class sympy.series.sequences.SeqAdd(*args, **kwargs)[source]\n",
    "Represents term-wise addition of sequences.\n",
    "\n",
    "Rules:\n",
    "The interval on which sequence is defined is the intersection of respective intervals of sequences.\n",
    "\n",
    "Anything + EmptySequence remains unchanged.\n",
    "\n",
    "Other rules are defined in _add methods of sequence classes.\n"
   ]
  },
  {
   "cell_type": "code",
   "execution_count": 32,
   "id": "bdece8fa-7ffd-4be1-a9df-d44feb43722c",
   "metadata": {},
   "outputs": [
    {
     "data": {
      "text/latex": [
       "$\\displaystyle \\left[0, 2, 12, 36, \\ldots\\right]$"
      ],
      "text/plain": [
       "SeqFormula(n**3 + n**2, (n, 0, oo))"
      ]
     },
     "execution_count": 32,
     "metadata": {},
     "output_type": "execute_result"
    }
   ],
   "source": [
    "from sympy import EmptySequence, oo, SeqAdd, SeqPer, SeqFormula\n",
    "from sympy.abc import n\n",
    "SeqAdd(SeqPer((1, 2), (n, 0, oo)), EmptySequence)\n",
    "# SeqPer((1, 2), (n, 0, oo))\n",
    "SeqAdd(SeqPer((1, 2), (n, 0, 5)), SeqPer((1, 2), (n, 6, 10)))\n",
    "# EmptySequence\n",
    "SeqAdd(SeqPer((1, 2), (n, 0, oo)), SeqFormula(n**2, (n, 0, oo)))\n",
    "# SeqAdd(SeqFormula(n**2, (n, 0, oo)), SeqPer((1, 2), (n, 0, oo)))\n",
    "SeqAdd(SeqFormula(n**3), SeqFormula(n**2))\n",
    "# SeqFormula(n**3 + n**2, (n, 0, oo))"
   ]
  },
  {
   "cell_type": "markdown",
   "id": "c486eaff-f6da-4ae8-99f6-a301a289568c",
   "metadata": {},
   "source": [
    "See also sympy.series.sequences.SeqMul\n",
    "static reduce(args)[source]\n",
    "Simplify SeqAdd using known rules.\n",
    "\n",
    "Iterates through all pairs and ask the constituent sequences if they can simplify themselves with any other constituent.\n",
    "\n",
    "Notes\n",
    "\n",
    "adapted from Union.reduce\n",
    "\n",
    "class sympy.series.sequences.SeqMul(*args, **kwargs)[source]\n",
    "Represents term-wise multiplication of sequences.\n",
    "\n",
    "Explanation\n",
    "\n",
    "Handles multiplication of sequences only. For multiplication with other objects see SeqBase.coeff_mul().\n",
    "\n",
    "Rules:\n",
    "The interval on which sequence is defined is the intersection of respective intervals of sequences.\n",
    "\n",
    "Anything * EmptySequence returns EmptySequence.\n",
    "\n",
    "Other rules are defined in _mul methods of sequence classes.\n"
   ]
  },
  {
   "cell_type": "code",
   "execution_count": 33,
   "id": "15d8025c-253d-42e0-bbfb-2ecb37c44e64",
   "metadata": {},
   "outputs": [
    {
     "data": {
      "text/latex": [
       "$\\displaystyle \\left[0, 1, 32, 243, \\ldots\\right]$"
      ],
      "text/plain": [
       "SeqFormula(n**5, (n, 0, oo))"
      ]
     },
     "execution_count": 33,
     "metadata": {},
     "output_type": "execute_result"
    }
   ],
   "source": [
    "from sympy import EmptySequence, oo, SeqMul, SeqPer, SeqFormula\n",
    "from sympy.abc import n\n",
    "SeqMul(SeqPer((1, 2), (n, 0, oo)), EmptySequence)\n",
    "#EmptySequence\n",
    "SeqMul(SeqPer((1, 2), (n, 0, 5)), SeqPer((1, 2), (n, 6, 10)))\n",
    "#EmptySequence\n",
    "SeqMul(SeqPer((1, 2), (n, 0, oo)), SeqFormula(n**2))\n",
    "#SeqMul(SeqFormula(n**2, (n, 0, oo)), SeqPer((1, 2), (n, 0, oo)))\n",
    "SeqMul(SeqFormula(n**3), SeqFormula(n**2))\n",
    "#SeqFormula(n**5, (n, 0, oo))"
   ]
  },
  {
   "cell_type": "markdown",
   "id": "bfe05da0-6adb-4463-8ba1-edeb853bb91c",
   "metadata": {},
   "source": [
    "See also sympy.series.sequences.SeqAdd\n",
    "static reduce(args)[source]\n",
    "Simplify a SeqMul using known rules.\n",
    "\n",
    "Explanation\n",
    "\n",
    "Iterates through all pairs and ask the constituent sequences if they can simplify themselves with any other constituent.\n",
    "\n",
    "Notes\n",
    "\n",
    "adapted from Union.reduce"
   ]
  },
  {
   "cell_type": "markdown",
   "id": "23cf792c-b192-48c7-8ac3-4582419550fa",
   "metadata": {},
   "source": [
    "# Combinatorial"
   ]
  },
  {
   "cell_type": "markdown",
   "id": "95a9c6ec-b685-49d2-ae8f-aa19974f7d65",
   "metadata": {},
   "source": [
    "## bell"
   ]
  },
  {
   "cell_type": "code",
   "execution_count": 2,
   "id": "d1ec3c34-450d-4559-953a-2686b167320b",
   "metadata": {},
   "outputs": [
    {
     "data": {
      "text/plain": [
       "[1, 1, 2, 5, 15, 52, 203, 877, 4140, 21147, 115975]"
      ]
     },
     "execution_count": 2,
     "metadata": {},
     "output_type": "execute_result"
    }
   ],
   "source": [
    "from sympy import bell, Symbol, symbols\n",
    "[bell(n) for n in range(11)]\n",
    "#[1, 1, 2, 5, 15, 52, 203, 877, 4140, 21147, 115975]\n"
   ]
  },
  {
   "cell_type": "code",
   "execution_count": 3,
   "id": "38585471-eae4-41c8-aa15-32e7a2ffbaa5",
   "metadata": {},
   "outputs": [
    {
     "data": {
      "text/latex": [
       "$\\displaystyle 846749014511809332450147$"
      ],
      "text/plain": [
       "846749014511809332450147"
      ]
     },
     "execution_count": 3,
     "metadata": {},
     "output_type": "execute_result"
    }
   ],
   "source": [
    "bell(30)\n",
    "#846749014511809332450147\n"
   ]
  },
  {
   "cell_type": "code",
   "execution_count": 4,
   "id": "185b614c-48a1-414d-9879-724d557e3e8e",
   "metadata": {},
   "outputs": [
    {
     "data": {
      "text/latex": [
       "$\\displaystyle t^{4} + 6 t^{3} + 7 t^{2} + t$"
      ],
      "text/plain": [
       "t**4 + 6*t**3 + 7*t**2 + t"
      ]
     },
     "execution_count": 4,
     "metadata": {},
     "output_type": "execute_result"
    }
   ],
   "source": [
    "bell(4, Symbol('t'))\n",
    "#t**4 + 6*t**3 + 7*t**2 + t\n"
   ]
  },
  {
   "cell_type": "code",
   "execution_count": 5,
   "id": "37aa8cf9-becb-48f5-9432-758d0ef0cae0",
   "metadata": {},
   "outputs": [
    {
     "data": {
      "text/latex": [
       "$\\displaystyle 6 x_{1} x_{5} + 15 x_{2} x_{4} + 10 x_{3}^{2}$"
      ],
      "text/plain": [
       "6*x1*x5 + 15*x2*x4 + 10*x3**2"
      ]
     },
     "execution_count": 5,
     "metadata": {},
     "output_type": "execute_result"
    }
   ],
   "source": [
    "bell(6, 2, symbols('x:6')[1:])\n",
    "#6*x1*x5 + 15*x2*x4 + 10*x3**2"
   ]
  },
  {
   "cell_type": "markdown",
   "id": "670c4810-93a6-4b65-9dfe-eddff6db4ab3",
   "metadata": {},
   "source": [
    "## bernoulli¶"
   ]
  },
  {
   "cell_type": "code",
   "execution_count": 7,
   "id": "c20e3dd1-add3-4ffb-9036-6aeb561687a4",
   "metadata": {},
   "outputs": [
    {
     "data": {
      "text/plain": [
       "[1, -1/2, 1/6, 0, -1/30, 0, 1/42, 0, -1/30, 0, 5/66]"
      ]
     },
     "execution_count": 7,
     "metadata": {},
     "output_type": "execute_result"
    }
   ],
   "source": [
    "from sympy import bernoulli\n",
    "[bernoulli(n) for n in range(11)]\n",
    "#[1, -1/2, 1/6, 0, -1/30, 0, 1/42, 0, -1/30, 0, 5/66]\n"
   ]
  },
  {
   "cell_type": "code",
   "execution_count": 8,
   "id": "b2ebc882-3059-47fe-b1d2-72850897e7a8",
   "metadata": {},
   "outputs": [
    {
     "data": {
      "text/latex": [
       "$\\displaystyle 0$"
      ],
      "text/plain": [
       "0"
      ]
     },
     "execution_count": 8,
     "metadata": {},
     "output_type": "execute_result"
    }
   ],
   "source": [
    "bernoulli(1000001)\n",
    "#0"
   ]
  },
  {
   "cell_type": "markdown",
   "id": "437ac8d3-50f9-4f79-909a-aec0feafd45b",
   "metadata": {},
   "source": [
    "## binomial¶"
   ]
  },
  {
   "cell_type": "code",
   "execution_count": 9,
   "id": "5d3e33ae-b478-406f-8dbc-05af2b641be6",
   "metadata": {},
   "outputs": [
    {
     "data": {
      "text/latex": [
       "$\\displaystyle 6435$"
      ],
      "text/plain": [
       "6435"
      ]
     },
     "execution_count": 9,
     "metadata": {},
     "output_type": "execute_result"
    }
   ],
   "source": [
    "from sympy import Symbol, Rational, binomial, expand_func\n",
    "n = Symbol('n', integer=True, positive=True)\n",
    "binomial(15, 8)\n",
    "#6435\n"
   ]
  },
  {
   "cell_type": "code",
   "execution_count": null,
   "id": "61800964-c2fd-4707-9922-7b46be393057",
   "metadata": {},
   "outputs": [],
   "source": [
    "binomial(n, -1)\n",
    "#0\n",
    "\n"
   ]
  },
  {
   "cell_type": "code",
   "execution_count": null,
   "id": "c8594425-773f-4844-9cd7-d92b5c7a1a96",
   "metadata": {},
   "outputs": [],
   "source": [
    "for N in range(8):\n",
    "    print([binomial(N, i) for i in range(N + 1)])\n",
    "\n"
   ]
  },
  {
   "cell_type": "code",
   "execution_count": null,
   "id": "78a43aba-fcff-49bd-a97d-0c4a745f1a3d",
   "metadata": {},
   "outputs": [],
   "source": [
    "# As can a given diagonal, e.g. the 4th diagonal:\n",
    "N = -4\n",
    "[binomial(N, i) for i in range(1 - N)]\n",
    "#[1, -4, 10, -20, 35]\n"
   ]
  },
  {
   "cell_type": "code",
   "execution_count": null,
   "id": "0014cb78-4752-4505-86d4-66ad84cabde7",
   "metadata": {},
   "outputs": [],
   "source": [
    "binomial(Rational(5, 4), 3)\n",
    "#-5/128\n"
   ]
  },
  {
   "cell_type": "code",
   "execution_count": null,
   "id": "2982241b-24e0-4003-a803-3d99f4bcdfe6",
   "metadata": {},
   "outputs": [],
   "source": [
    "binomial(Rational(-5, 4), 3)\n",
    "#-195/128\n"
   ]
  },
  {
   "cell_type": "code",
   "execution_count": 10,
   "id": "c457c020-72de-428b-851a-9e7f04ec198a",
   "metadata": {},
   "outputs": [
    {
     "data": {
      "text/latex": [
       "$\\displaystyle {\\binom{n}{3}}$"
      ],
      "text/plain": [
       "binomial(n, 3)"
      ]
     },
     "execution_count": 10,
     "metadata": {},
     "output_type": "execute_result"
    }
   ],
   "source": [
    "binomial(n, 3)\n"
   ]
  },
  {
   "cell_type": "code",
   "execution_count": 12,
   "id": "c9c7b691-f896-42e8-92d9-ba8e99a63120",
   "metadata": {},
   "outputs": [
    {
     "data": {
      "text/latex": [
       "$\\displaystyle \\frac{n^{3}}{6} - \\frac{n^{2}}{2} + \\frac{n}{3}$"
      ],
      "text/plain": [
       "n**3/6 - n**2/2 + n/3"
      ]
     },
     "execution_count": 12,
     "metadata": {},
     "output_type": "execute_result"
    }
   ],
   "source": [
    "binomial(n, 3).expand(func=True)\n"
   ]
  },
  {
   "cell_type": "code",
   "execution_count": 14,
   "id": "6d1598c5-5a41-47b6-bd89-2fd6d8f25301",
   "metadata": {},
   "outputs": [
    {
     "data": {
      "text/latex": [
       "$\\displaystyle \\frac{n \\left(n - 2\\right) \\left(n - 1\\right)}{6}$"
      ],
      "text/plain": [
       "n*(n - 2)*(n - 1)/6"
      ]
     },
     "execution_count": 14,
     "metadata": {},
     "output_type": "execute_result"
    }
   ],
   "source": [
    "expand_func(binomial(n, 3))\n",
    "#n*(n - 2)*(n - 1)/6\n"
   ]
  },
  {
   "cell_type": "markdown",
   "id": "8bb3aeb1-3375-4aa6-9057-25ba41997c7f",
   "metadata": {},
   "source": [
    "## catalan"
   ]
  },
  {
   "cell_type": "code",
   "execution_count": 17,
   "id": "85f3c894-ab62-43be-84b4-2b16acf18ff6",
   "metadata": {},
   "outputs": [
    {
     "data": {
      "text/plain": [
       "[1, 2, 5, 14, 42, 132, 429, 1430, 4862]"
      ]
     },
     "execution_count": 17,
     "metadata": {},
     "output_type": "execute_result"
    }
   ],
   "source": [
    "from sympy import (Symbol, binomial, gamma, hyper, catalan,\n",
    "                   diff, combsimp, Rational, I)\n",
    "[catalan(i) for i in range(1,10)]\n",
    "#[1, 2, 5, 14, 42, 132, 429, 1430, 4862]"
   ]
  },
  {
   "cell_type": "code",
   "execution_count": 18,
   "id": "a59eaffc-89ed-48ee-8a48-4fa5ad0a8307",
   "metadata": {},
   "outputs": [
    {
     "data": {
      "text/latex": [
       "$\\displaystyle C_{n}$"
      ],
      "text/plain": [
       "catalan(n)"
      ]
     },
     "execution_count": 18,
     "metadata": {},
     "output_type": "execute_result"
    }
   ],
   "source": [
    "n = Symbol(\"n\", integer=True)\n",
    "catalan(n)"
   ]
  },
  {
   "cell_type": "code",
   "execution_count": 21,
   "id": "8a8d9287-8e3a-4226-8bde-534d61884631",
   "metadata": {},
   "outputs": [
    {
     "data": {
      "text/latex": [
       "$\\displaystyle \\frac{{\\binom{2 n}{n}}}{n + 1}$"
      ],
      "text/plain": [
       "binomial(2*n, n)/(n + 1)"
      ]
     },
     "execution_count": 21,
     "metadata": {},
     "output_type": "execute_result"
    }
   ],
   "source": [
    "catalan(n).rewrite(binomial)\n",
    "#binomial(2*n, n)/(n + 1)"
   ]
  },
  {
   "cell_type": "code",
   "execution_count": 20,
   "id": "e374e10a-c2e5-4795-a6a3-1f6cd30b8bbd",
   "metadata": {},
   "outputs": [
    {
     "data": {
      "text/latex": [
       "$\\displaystyle \\frac{4^{n} \\Gamma\\left(n + \\frac{1}{2}\\right)}{\\sqrt{\\pi} \\Gamma\\left(n + 2\\right)}$"
      ],
      "text/plain": [
       "4**n*gamma(n + 1/2)/(sqrt(pi)*gamma(n + 2))"
      ]
     },
     "execution_count": 20,
     "metadata": {},
     "output_type": "execute_result"
    }
   ],
   "source": [
    "catalan(n).rewrite(gamma)\n",
    "#4**n*gamma(n + 1/2)/(sqrt(pi)*gamma(n + 2))"
   ]
  },
  {
   "cell_type": "code",
   "execution_count": 22,
   "id": "dff31ade-ba8e-47ba-82bf-e571524a9fd6",
   "metadata": {},
   "outputs": [
    {
     "data": {
      "text/latex": [
       "$\\displaystyle {{}_{2}F_{1}\\left(\\begin{matrix} 1 - n, - n \\\\ 2 \\end{matrix}\\middle| {1} \\right)}$"
      ],
      "text/plain": [
       "hyper((1 - n, -n), (2,), 1)"
      ]
     },
     "execution_count": 22,
     "metadata": {},
     "output_type": "execute_result"
    }
   ],
   "source": [
    "catalan(n).rewrite(hyper)\n",
    "#hyper((1 - n, -n), (2,), 1)\n"
   ]
  },
  {
   "cell_type": "code",
   "execution_count": 23,
   "id": "3af11a51-aa14-40ae-ae5f-892efa4837c2",
   "metadata": {},
   "outputs": [
    {
     "data": {
      "text/latex": [
       "$\\displaystyle \\frac{8}{3 \\pi}$"
      ],
      "text/plain": [
       "8/(3*pi)"
      ]
     },
     "execution_count": 23,
     "metadata": {},
     "output_type": "execute_result"
    }
   ],
   "source": [
    "catalan(Rational(1, 2)).rewrite(gamma)\n",
    "#8/(3*pi)"
   ]
  },
  {
   "cell_type": "code",
   "execution_count": 24,
   "id": "0ddfdb04-f549-41e4-b65a-a8b75774571e",
   "metadata": {},
   "outputs": [
    {
     "data": {
      "text/latex": [
       "$\\displaystyle \\left(\\operatorname{polygamma}{\\left(0,n + \\frac{1}{2} \\right)} - \\operatorname{polygamma}{\\left(0,n + 2 \\right)} + \\log{\\left(4 \\right)}\\right) C_{n}$"
      ],
      "text/plain": [
       "(polygamma(0, n + 1/2) - polygamma(0, n + 2) + log(4))*catalan(n)"
      ]
     },
     "execution_count": 24,
     "metadata": {},
     "output_type": "execute_result"
    }
   ],
   "source": [
    "diff(catalan(n), n)\n",
    "#(polygamma(0, n + 1/2) - polygamma(0, n + 2) + log(4))*catalan(n)"
   ]
  },
  {
   "cell_type": "code",
   "execution_count": 25,
   "id": "66d9b4e8-05ff-41f1-bb43-711cc55ba429",
   "metadata": {},
   "outputs": [
    {
     "data": {
      "text/latex": [
       "$\\displaystyle \\frac{2 \\left(2 n + 1\\right)}{n + 2}$"
      ],
      "text/plain": [
       "2*(2*n + 1)/(n + 2)"
      ]
     },
     "execution_count": 25,
     "metadata": {},
     "output_type": "execute_result"
    }
   ],
   "source": [
    "combsimp((catalan(n + 1)/catalan(n)).rewrite(binomial))\n",
    "#2*(2*n + 1)/(n + 2)"
   ]
  },
  {
   "cell_type": "code",
   "execution_count": 26,
   "id": "21f3a838-7f5b-43f9-bf29-36d85d3304e4",
   "metadata": {},
   "outputs": [
    {
     "data": {
      "text/latex": [
       "$\\displaystyle \\frac{4^{i} \\Gamma\\left(\\frac{1}{2} + i\\right)}{\\sqrt{\\pi} \\Gamma\\left(2 + i\\right)}$"
      ],
      "text/plain": [
       "4**I*gamma(1/2 + I)/(sqrt(pi)*gamma(2 + I))"
      ]
     },
     "execution_count": 26,
     "metadata": {},
     "output_type": "execute_result"
    }
   ],
   "source": [
    "catalan(I).rewrite(gamma)\n",
    "#4**I*gamma(1/2 + I)/(sqrt(pi)*gamma(2 + I))"
   ]
  },
  {
   "cell_type": "code",
   "execution_count": 27,
   "id": "78a8b1f8-9d21-4928-91af-0471752f0001",
   "metadata": {},
   "outputs": [
    {
     "data": {
      "text/latex": [
       "$\\displaystyle 0.39764993382373624267 - 0.020884341620842555704 i$"
      ],
      "text/plain": [
       "0.39764993382373624267 - 0.020884341620842555704*I"
      ]
     },
     "execution_count": 27,
     "metadata": {},
     "output_type": "execute_result"
    }
   ],
   "source": [
    "catalan(I).evalf(20)\n",
    "#0.39764993382373624267 - 0.020884341620842555705*I"
   ]
  },
  {
   "cell_type": "markdown",
   "id": "f43b2ee5",
   "metadata": {},
   "source": [
    "## euler"
   ]
  },
  {
   "cell_type": "markdown",
   "id": "2e2dfd43",
   "metadata": {},
   "source": [
    "$E_{2n} = I \\sum_{k=1}^{2n+1} \\sum_{j=0}^k \\binom{k}{j}\n",
    "\\frac{(-1)^j (k-2j)^{2n+1}}{2^k I^k k}$\n",
    "\n",
    "$E_n = 2^n E_n\\left(\\frac{1}{2}\\right).$\n",
    "\n",
    "$E_n(x) = \\sum_{k=0}^n \\binom{n}{k} \\frac{E_k}{2^k}\n",
    "\\left(x - \\frac{1}{2}\\right)^{n-k}.$\n",
    "\n",
    "euler(n) gives the nth Euler number, En.\n",
    "\n",
    "euler(n, x) gives the nth Euler polynomial, En(x)."
   ]
  },
  {
   "cell_type": "code",
   "execution_count": 5,
   "id": "c1dfe6a3",
   "metadata": {},
   "outputs": [
    {
     "data": {
      "text/plain": [
       "[1, 0, -1, 0, 5, 0, -61, 0, 1385, 0]"
      ]
     },
     "metadata": {},
     "output_type": "display_data"
    },
    {
     "data": {
      "text/latex": [
       "$\\displaystyle E_{3 n}$"
      ],
      "text/plain": [
       "euler(3*n)"
      ]
     },
     "metadata": {},
     "output_type": "display_data"
    },
    {
     "data": {
      "text/latex": [
       "$\\displaystyle E_{n}\\left(x\\right)$"
      ],
      "text/plain": [
       "euler(n, x)"
      ]
     },
     "metadata": {},
     "output_type": "display_data"
    },
    {
     "data": {
      "text/latex": [
       "$\\displaystyle 1$"
      ],
      "text/plain": [
       "1"
      ]
     },
     "metadata": {},
     "output_type": "display_data"
    },
    {
     "data": {
      "text/latex": [
       "$\\displaystyle x - \\frac{1}{2}$"
      ],
      "text/plain": [
       "x - 1/2"
      ]
     },
     "metadata": {},
     "output_type": "display_data"
    },
    {
     "data": {
      "text/latex": [
       "$\\displaystyle x^{2} - x$"
      ],
      "text/plain": [
       "x**2 - x"
      ]
     },
     "metadata": {},
     "output_type": "display_data"
    },
    {
     "data": {
      "text/latex": [
       "$\\displaystyle x^{3} - \\frac{3 x^{2}}{2} + \\frac{1}{4}$"
      ],
      "text/plain": [
       "x**3 - 3*x**2/2 + 1/4"
      ]
     },
     "metadata": {},
     "output_type": "display_data"
    },
    {
     "data": {
      "text/latex": [
       "$\\displaystyle x^{4} - 2 x^{3} + x$"
      ],
      "text/plain": [
       "x**4 - 2*x**3 + x"
      ]
     },
     "metadata": {},
     "output_type": "display_data"
    },
    {
     "data": {
      "text/latex": [
       "$\\displaystyle \\frac{2702765}{4096}$"
      ],
      "text/plain": [
       "2702765/4096"
      ]
     },
     "metadata": {},
     "output_type": "display_data"
    },
    {
     "data": {
      "text/latex": [
       "$\\displaystyle 2702765$"
      ],
      "text/plain": [
       "2702765"
      ]
     },
     "metadata": {},
     "output_type": "display_data"
    }
   ],
   "source": [
    "from sympy import Symbol, S\n",
    "from sympy.functions import euler\n",
    "_=[euler(n) for n in range(10)]\n",
    "display(_)\n",
    "#[1, 0, -1, 0, 5, 0, -61, 0, 1385, 0]\n",
    "n = Symbol(\"n\")\n",
    "_=euler(n + 2*n)\n",
    "display(_)\n",
    "# euler(3*n)\n",
    "x = Symbol(\"x\")\n",
    "_=euler(n, x)\n",
    "display(_)\n",
    "#euler(n, x)\n",
    "_=euler(0, x)\n",
    "display(_)\n",
    "#1\n",
    "_=euler(1, x)\n",
    "display(_)\n",
    "#x - 1/2\n",
    "_=euler(2, x)\n",
    "display(_)\n",
    "#x**2 - x\n",
    "_=euler(3, x)\n",
    "display(_)\n",
    "#x**3 - 3*x**2/2 + 1/4\n",
    "_=euler(4, x)\n",
    "display(_)\n",
    "#x**4 - 2*x**3 + x\n",
    "_=euler(12, S.Half)\n",
    "display(_)\n",
    "#2702765/4096\n",
    "_=euler(12)\n",
    "display(_)\n",
    "#2702765"
   ]
  },
  {
   "cell_type": "markdown",
   "id": "28869908",
   "metadata": {},
   "source": [
    "## factorial"
   ]
  },
  {
   "cell_type": "markdown",
   "id": "eb51204d-3f76-47e6-8fe3-a68463eb3393",
   "metadata": {
    "tags": []
   },
   "source": [
    "Examples\n",
    "\n",
    "Run code block in SymPy Live\n",
    "from sympy import Symbol, factorial, S\n",
    "n = Symbol('n', integer=True)\n",
    "Run code block in SymPy Live\n",
    "factorial(0)\n",
    "1\n",
    "Run code block in SymPy Live\n",
    "factorial(7)\n",
    "5040\n",
    "Run code block in SymPy Live\n",
    "factorial(-2)\n",
    "zoo\n",
    "Run code block in SymPy Live\n",
    "factorial(n)\n",
    "factorial(n)\n",
    "Run code block in SymPy Live\n",
    "factorial(2*n)\n",
    "factorial(2*n)\n",
    "Run code block in SymPy Live\n",
    "factorial(S(1)/2)\n",
    "factorial(1/2)"
   ]
  },
  {
   "cell_type": "markdown",
   "id": "7ef12a73",
   "metadata": {},
   "source": [
    "## subfactorial\n",
    "$\\begin{split}!n = \\begin{cases} 1 & n = 0 \\\\ 0 & n = 1 \\\\\n",
    "(n-1)(!(n-1) + !(n-2)) & n > 1 \\end{cases}\\end{split}$\n",
    "\n",
    "It can also be written as int(round(n!/exp(1))) but the recursive definition with caching is implemented for this function.\n",
    "\n",
    "An interesting analytic expression is the following\n",
    "\n",
    "$!x = \\Gamma(x + 1, -1)/e$\n",
    "\n",
    "which is valid for non-negative integers x. The above formula is not very useful incase of non-integers. Γ(x+1,−1) is single-valued only for integral arguments x, elsewhere on the positive real axis it has an infinite number of branches none of which are real.\n",
    "\n"
   ]
  },
  {
   "cell_type": "code",
   "execution_count": 6,
   "id": "f2345d01",
   "metadata": {},
   "outputs": [
    {
     "data": {
      "text/plain": [
       "44"
      ]
     },
     "execution_count": 6,
     "metadata": {},
     "output_type": "execute_result"
    }
   ],
   "source": [
    "from sympy import subfactorial\n",
    "from sympy.abc import n\n",
    "subfactorial(n + 1)\n",
    "subfactorial(n + 1)\n",
    "subfactorial(5)\n",
    "#44"
   ]
  },
  {
   "cell_type": "markdown",
   "id": "d8b74647",
   "metadata": {},
   "source": [
    "## factorial2 / double \n",
    "The double factorial n!!, not to be confused with (n!)!\n",
    "\n",
    "The double factorial is defined for nonnegative integers and for odd negative integers as:\n",
    "\n",
    "\n",
    "$\n",
    "\\begin{split}n!! = \\begin{cases} 1 & n = 0 \\\\\n",
    "n(n-2)(n-4) \\cdots 1 & n\\ \\text{positive odd} \\\\\n",
    "n(n-2)(n-4) \\cdots 2 & n\\ \\text{positive even} \\\\\n",
    "(n+2)!!/(n+2) & n\\ \\text{negative odd} \\end{cases}\\end{split}\n",
    "$"
   ]
  },
  {
   "cell_type": "code",
   "execution_count": 7,
   "id": "fb9c299c",
   "metadata": {},
   "outputs": [
    {
     "data": {
      "text/plain": [
       "0.3333333333333333"
      ]
     },
     "execution_count": 7,
     "metadata": {},
     "output_type": "execute_result"
    }
   ],
   "source": [
    "from sympy import factorial2, var\n",
    "n = var('n')\n",
    "n\n",
    "n\n",
    "factorial2(n + 1)\n",
    "factorial2(n + 1)\n",
    "factorial2(5)\n",
    "15\n",
    "factorial2(-1)\n",
    "1\n",
    "factorial2(-5)\n",
    "1/3"
   ]
  },
  {
   "cell_type": "markdown",
   "id": "23fd4079",
   "metadata": {},
   "source": [
    "## FallingFactorial\n",
    "Falling factorial (related to rising factorial) is a double valued function arising in concrete mathematics, hypergeometric functions and series expansions. It is defined by  \n",
    "\n",
    "$ff(x,k) = x \\cdot (x-1) \\cdots (x-k+1)$  \n",
    "  \n",
    "ff(x,k)=x⋅(x−1)⋯(x−k+1)   \n",
    "where x can be arbitrary expression and k is an integer. For more information check “Concrete mathematics” by Graham, pp. 66 or visit http://mathworld.wolfram.com/FallingFactorial.html page.\n",
    "\n",
    "When x is a Poly instance of degree >= 1 with single variable,  \n",
    "\n",
    "$ ff(x,k) = x(y) \\cdot x(y-1) \\cdots x(y-k+1)$\n",
    "\n",
    "\n",
    "ff(x,k)=x(y)⋅x(y−1)⋯x(y−k+1), where y is the variable of x. This is as described in Peter Paule, “Greatest Factorial Factorization and Symbolic Summation”, Journal of Symbolic Computation, vol. 20, pp. 235-268, 1995."
   ]
  },
  {
   "cell_type": "code",
   "execution_count": 13,
   "id": "5ab65b01",
   "metadata": {},
   "outputs": [
    {
     "data": {
      "text/latex": [
       "$\\displaystyle {\\binom{n}{n - 2}} \\left(n - 2\\right)!$"
      ],
      "text/plain": [
       "binomial(n, n - 2)*factorial(n - 2)"
      ]
     },
     "execution_count": 13,
     "metadata": {},
     "output_type": "execute_result"
    }
   ],
   "source": [
    "from sympy import ff, Poly, Symbol\n",
    "from sympy.abc import x\n",
    "n = Symbol('n', integer=True)\n",
    "\n",
    "ff(x, 0)\n",
    "1\n",
    "ff(5, 5)\n",
    "120\n",
    "ff(x, 5) == x*(x - 1)*(x - 2)*(x - 3)*(x - 4)\n",
    "True\n",
    "ff(Poly(x**2, x), 2)\n",
    "Poly(x**4 - 2*x**3 + x**2, x, domain='ZZ')\n",
    "ff(n, n)\n",
    "#factorial(n)\n",
    "\n",
    "#Rewriting is complicated unless the relationship between the arguments is known, but falling factorial can be rewritten in terms of gamma, factorial and binomial and rising factorial.\n",
    "\n",
    "from sympy import factorial, rf, gamma, binomial, Symbol\n",
    "n = Symbol('n', integer=True, positive=True)\n",
    "F = ff(n, n - 2)\n",
    "for i in (rf, ff, factorial, binomial, gamma):\n",
    "    F.rewrite(i)\n",
    "\n",
    "#RisingFactorial(3, n - 2)\n",
    "#FallingFactorial(n, n - 2)\n",
    "#factorial(n)/2\n",
    "binomial(n, n - 2)*factorial(n - 2)\n",
    "#gamma(n + 1)/2"
   ]
  },
  {
   "cell_type": "code",
   "execution_count": null,
   "id": "0191fd2c",
   "metadata": {},
   "outputs": [],
   "source": []
  }
 ],
 "metadata": {
  "kernelspec": {
   "display_name": "Python 3",
   "language": "python",
   "name": "python3"
  },
  "language_info": {
   "codemirror_mode": {
    "name": "ipython",
    "version": 3
   },
   "file_extension": ".py",
   "mimetype": "text/x-python",
   "name": "python",
   "nbconvert_exporter": "python",
   "pygments_lexer": "ipython3",
   "version": "3.9.2"
  }
 },
 "nbformat": 4,
 "nbformat_minor": 5
}
