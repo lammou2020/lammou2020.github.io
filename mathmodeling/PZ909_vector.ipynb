{
 "cells": [
  {
   "cell_type": "markdown",
   "id": "tamil-mapping",
   "metadata": {},
   "source": [
    "## 向量概念\n",
    "\n",
    "向量 模 始點 終點  $\\vec{AB}$"
   ]
  },
  {
   "cell_type": "markdown",
   "id": "growing-champagne",
   "metadata": {},
   "source": [
    "### 夾角  \n",
    "```\n",
    "<a,b>  [0,pi]\n",
    "<a,b> =<b,a>  \n",
    "```\n",
    "### 垂直\n",
    "$ a \\perp b $, 零向量方向不确定,與任意向量垂直.  \n",
    "|a||b|cos<a,b>為向量數量積(內積)  , $ a \\cdot b $ = |a||b|cos<a,b>  \n",
    "\n",
    "向量投影 數量積几何意義   \n",
    "$ \\vec{AB} $ = a  ,  $ \\vec{A`B`} $ = a在l上的投影向量 ,   \n",
    "when <a,b> < pi/2 : $ \\vec{A`B`} $ 方向與b方向相同,而且 $ \\vec{A`B`} $ = |a| cos<a,b>  \n",
    "when <a,b> = pi/2 : $ \\vec{A`B`} $ is $ \\vec{0}$ ,而且 $ \\vec{A`B`} $=0    \n",
    "when <a,b> > pi/2 : $ \\vec{A`B`} $ 方向與b方向相反,而且 $ \\vec{A`B`} $ =- |a| cos<a,b>  \n",
    "$ a \\cdot b $ = |a||b|cos<a,b>=( |a|cos<a,b>) |b|   \n",
    "\n",
    "e , |e|=1   \n",
    "$a \\cdot e$ =  |a|cos<a,e>) \n",
    "\n",
    "\n",
    "https://mrcreamio.wordpress.com/2018/10/26/how-to-add-two-vectors-in-2d-in-python-graphically/\n",
    "\n",
    "https://stackoverflow.com/questions/26381188/plotting-vector-addition\n"
   ]
  },
  {
   "cell_type": "code",
   "execution_count": 31,
   "id": "sharing-accountability",
   "metadata": {},
   "outputs": [
    {
     "name": "stdout",
     "output_type": "stream",
     "text": [
      "column vector\n"
     ]
    },
    {
     "data": {
      "text/plain": [
       "array([[1],\n",
       "       [2]])"
      ]
     },
     "metadata": {},
     "output_type": "display_data"
    },
    {
     "name": "stdout",
     "output_type": "stream",
     "text": [
      "row vector\n"
     ]
    },
    {
     "data": {
      "text/plain": [
       "array([[1, 2]])"
      ]
     },
     "metadata": {},
     "output_type": "display_data"
    },
    {
     "name": "stdout",
     "output_type": "stream",
     "text": [
      "matrix\n"
     ]
    },
    {
     "data": {
      "text/plain": [
       "array([[1, 2],\n",
       "       [3, 4]])"
      ]
     },
     "metadata": {},
     "output_type": "display_data"
    },
    {
     "name": "stdout",
     "output_type": "stream",
     "text": [
      "row vector dimensions 2\n",
      "row vector rows 1 columns 2\n",
      "matrix dimensions 2\n",
      "matrix rows 2 columns 2\n",
      "transposed vector\n"
     ]
    },
    {
     "data": {
      "text/plain": [
       "array([[1],\n",
       "       [2]])"
      ]
     },
     "metadata": {},
     "output_type": "display_data"
    },
    {
     "name": "stdout",
     "output_type": "stream",
     "text": [
      "transposed matrix\n"
     ]
    },
    {
     "data": {
      "text/plain": [
       "array([[1, 3],\n",
       "       [2, 4]])"
      ]
     },
     "metadata": {},
     "output_type": "display_data"
    },
    {
     "name": "stdout",
     "output_type": "stream",
     "text": [
      "a + b\n"
     ]
    },
    {
     "data": {
      "text/plain": [
       "array([[ 4],\n",
       "       [-3],\n",
       "       [-1]])"
      ]
     },
     "metadata": {},
     "output_type": "display_data"
    },
    {
     "name": "stdout",
     "output_type": "stream",
     "text": [
      "a - b\n"
     ]
    },
    {
     "data": {
      "text/plain": [
       "array([[ 0],\n",
       "       [-5],\n",
       "       [ 3]])"
      ]
     },
     "metadata": {},
     "output_type": "display_data"
    },
    {
     "name": "stdout",
     "output_type": "stream",
     "text": [
      "1.2 * a\n"
     ]
    },
    {
     "data": {
      "text/plain": [
       "array([[ 2.4],\n",
       "       [-4.8],\n",
       "       [ 1.2]])"
      ]
     },
     "metadata": {},
     "output_type": "display_data"
    },
    {
     "name": "stdout",
     "output_type": "stream",
     "text": [
      "a * b\n"
     ]
    },
    {
     "data": {
      "text/plain": [
       "array([[ 4],\n",
       "       [-4],\n",
       "       [-2]])"
      ]
     },
     "metadata": {},
     "output_type": "display_data"
    },
    {
     "name": "stdout",
     "output_type": "stream",
     "text": [
      "a . b\n"
     ]
    },
    {
     "data": {
      "text/plain": [
       "array([[-2]])"
      ]
     },
     "metadata": {},
     "output_type": "display_data"
    },
    {
     "name": "stdout",
     "output_type": "stream",
     "text": [
      "a x b\n"
     ]
    },
    {
     "data": {
      "text/plain": [
       "array([[ 7],\n",
       "       [ 6],\n",
       "       [10]])"
      ]
     },
     "metadata": {},
     "output_type": "display_data"
    },
    {
     "name": "stdout",
     "output_type": "stream",
     "text": [
      "identity . col_vec\n"
     ]
    },
    {
     "data": {
      "text/plain": [
       "array([[1],\n",
       "       [2]])"
      ]
     },
     "metadata": {},
     "output_type": "display_data"
    },
    {
     "name": "stdout",
     "output_type": "stream",
     "text": [
      "identity . mat\n"
     ]
    },
    {
     "data": {
      "text/plain": [
       "array([[1, 2],\n",
       "       [3, 4]])"
      ]
     },
     "metadata": {},
     "output_type": "display_data"
    }
   ],
   "source": [
    "import numpy as np\n",
    "\n",
    "def run():\n",
    "    # create a column vector\n",
    "    col_vec = np.array([[1], [2]])\n",
    "    print(   \"column vector\")\n",
    "    display(   col_vec)\n",
    "    \n",
    "    # create a row vector\n",
    "    row_vec = np.array([[1, 2]])\n",
    "    print(   \"row vector\")\n",
    "    display(   row_vec)\n",
    "    \n",
    "    # create a matrix\n",
    "    mat = np.array([[1, 2], [3, 4]])\n",
    "    print(   \"matrix\")\n",
    "    display(   mat)\n",
    "    \n",
    "    # inspect dimensions\n",
    "    print(   \"row vector dimensions\", row_vec.ndim)\n",
    "    shape = row_vec.shape\n",
    "    print(   \"row vector rows\", shape[0], \"columns\", shape[1])\n",
    "    \n",
    "    print(   \"matrix dimensions\", mat.ndim)\n",
    "    shape = mat.shape\n",
    "    print(   \"matrix rows\", shape[0], \"columns\", shape[1])\n",
    "    \n",
    "    # transpose\n",
    "    vec_t = row_vec.transpose() # or row_vec.T\n",
    "    print(   \"transposed vector\")\n",
    "    display(   vec_t)\n",
    "    \n",
    "    mat_t = mat.transpose() # or mat.T\n",
    "    print(   \"transposed matrix\")\n",
    "    display(   mat_t)\n",
    "    \n",
    "    a = np.array([[2], [-4], [1]])\n",
    "    b = np.array([[2], [1], [-2]])\n",
    "    \n",
    "    # addition \n",
    "    print(   \"a + b\")\n",
    "    display(   a + b)\n",
    "    \n",
    "    # subtraction\n",
    "    print(   \"a - b\")\n",
    "    display(   a - b)\n",
    "    \n",
    "    # scalar multiplication\n",
    "    print(   \"1.2 * a\")\n",
    "    display(   1.2 * a)\n",
    "    \n",
    "    # element wise multiplication\n",
    "    print(   \"a * b\")\n",
    "    display(   a * b    )\n",
    "    \n",
    "    # vector scalar product\n",
    "    print(   \"a . b\")\n",
    "    display(   np.dot(a.transpose(), b))\n",
    "    \n",
    "    # vector cross product\n",
    "    print(   \"a x b\")\n",
    "    display(   np.cross(a, b, axis=0)) # or np.cross(a.T, b.T).T\n",
    "    \n",
    "    identity = np.array([[1, 0], [0, 1]])\n",
    "    \n",
    "    # matrix vector product\n",
    "    print(   \"identity . col_vec\")\n",
    "    display(   np.dot(identity, col_vec))\n",
    "    \n",
    "    # matrix product\n",
    "    print(   \"identity . mat\")\n",
    "    display(   np.dot(identity, mat))\n",
    "run()  "
   ]
  },
  {
   "cell_type": "markdown",
   "id": "gorgeous-newfoundland",
   "metadata": {},
   "source": [
    "Straight to the point:\n",
    "\n",
    "vector images\n",
    "\n",
    "Lets say I have a bunch of vectors A, B and C and their horizontal and vertical components are split into two arrays respectively:\n",
    "\n",
    "xdat = np.array([x1,x2,x3])\n",
    "ydat = np.array([y1,y2,y3])\n",
    "I want to:\n",
    "\n",
    "Plot each individual vector from the data given in the arrays\n",
    "\n",
    "Plot the sequential vector additions\n",
    "\n",
    "Plot the sum vector A+B+C"
   ]
  },
  {
   "cell_type": "code",
   "execution_count": 11,
   "id": "sublime-sacrifice",
   "metadata": {},
   "outputs": [
    {
     "data": {
      "image/png": "[encoded data removed]",
      "text/plain": [
       "<Figure size 432x288 with 1 Axes>"
      ]
     },
     "metadata": {
      "needs_background": "light"
     },
     "output_type": "display_data"
    }
   ],
   "source": [
    "#https://www.pythonpool.com/matplotlib-quiver/\n",
    "import numpy as np\n",
    "import matplotlib.pyplot as plt\n",
    "\n",
    "V = np.array([[1,1], [-2,2], [4,-7]])\n",
    "origin = np.array([[0, 0, 0],[0.0, 0, 0]]) # origin point\n",
    "\n",
    "plt.quiver(*origin, V[:,0], V[:,1], color=['r','b','g'], scale=21)\n",
    "plt.show()"
   ]
  },
  {
   "cell_type": "code",
   "execution_count": 4,
   "id": "assured-sunrise",
   "metadata": {},
   "outputs": [
    {
     "name": "stdout",
     "output_type": "stream",
     "text": [
      "[3 3]\n",
      "[0 1]\n",
      "[3 4]\n",
      "2 3\n",
      "0\n",
      "1\n",
      "2\n"
     ]
    },
    {
     "name": "stderr",
     "output_type": "stream",
     "text": [
      "<ipython-input-4-2a3aab1e9f99>:19: MatplotlibDeprecationWarning: Adding an axes using the same arguments as a previous axes currently reuses the earlier instance.  In a future version, a new instance will always be created and returned.  Meanwhile, this warning can be suppressed, and the future behavior ensured, by passing a unique label to each axes instance.\n",
      "  plt.axes().arrow(0,0,M[i,0],M[i,1],head_width=0.2,head_length=0.1,zorder=3)\n"
     ]
    },
    {
     "data": {
      "image/png": "[encoded data removed]",
      "text/plain": [
       "<Figure size 432x288 with 1 Axes>"
      ]
     },
     "metadata": {
      "needs_background": "light"
     },
     "output_type": "display_data"
    }
   ],
   "source": [
    "import numpy as np\n",
    "import matplotlib.pyplot as plt\n",
    "def plotv(M):\n",
    "    rows,cols = M.T.shape\n",
    "    print(rows,cols)\n",
    "    #Get absolute maxes for axis ranges to center origin\n",
    "    #This is optional\n",
    "    maxes = 1.1 * np.amax(abs(M), axis = 0)\n",
    "    colors = ['b','r','k']\n",
    "    fig = plt.figure()\n",
    "    fig.suptitle('Vectors', fontsize=10, fontweight='bold')\n",
    "    ax = fig.add_subplot(111)\n",
    "    fig.subplots_adjust(top=0.85)\n",
    "    ax.set_title('Vector operations')\n",
    "    ax.set_xlabel('x')\n",
    "    ax.set_ylabel('y')\n",
    "    for i,l in enumerate(range(0,cols)):\n",
    "        print(i)\n",
    "        plt.axes().arrow(0,0,M[i,0],M[i,1],head_width=0.2,head_length=0.1,zorder=3)\n",
    "        ax.text(M[i,0],M[i,1], str(M[i]), style='italic',\n",
    "            bbox={'facecolor':'red', 'alpha':0.5, 'pad':0.5})\n",
    "    plt.plot(0,0,'ok') #<-- plot a black point at the origin\n",
    "    # plt.axis('equal')  #<-- set the axes to the same scale\n",
    "    plt.xlim([-maxes[0],maxes[0]]) #<-- set the x axis limits\n",
    "    plt.ylim([-maxes[1],maxes[1]]) #<-- set the y axis limits\n",
    "    plt.grid(b=True, which='major') #<-- plot grid lines\n",
    "    plt.show()\n",
    "\n",
    "r = np.random.randint(4,size=[2,2])\n",
    "print(r[0,:])\n",
    "print(r[1,:])\n",
    "r12 = np.add(r[0,:],r[1,:])\n",
    "print(r12)\n",
    "plotv(np.vstack((r,r12)))"
   ]
  },
  {
   "cell_type": "code",
   "execution_count": 7,
   "id": "hungarian-suggestion",
   "metadata": {
    "jupyter": {
     "source_hidden": true
    }
   },
   "outputs": [
    {
     "name": "stdout",
     "output_type": "stream",
     "text": [
      "column vector\n"
     ]
    },
    {
     "data": {
      "text/plain": [
       "array([[1],\n",
       "       [2]])"
      ]
     },
     "metadata": {},
     "output_type": "display_data"
    },
    {
     "name": "stdout",
     "output_type": "stream",
     "text": [
      "row vector\n"
     ]
    },
    {
     "data": {
      "text/plain": [
       "array([[1, 2]])"
      ]
     },
     "metadata": {},
     "output_type": "display_data"
    },
    {
     "name": "stdout",
     "output_type": "stream",
     "text": [
      "matrix\n"
     ]
    },
    {
     "data": {
      "text/plain": [
       "array([[1, 2],\n",
       "       [3, 4]])"
      ]
     },
     "metadata": {},
     "output_type": "display_data"
    },
    {
     "name": "stdout",
     "output_type": "stream",
     "text": [
      "row vector dimensions 2\n",
      "row vector rows 1 columns 2\n",
      "matrix dimensions 2\n",
      "matrix rows 2 columns 2\n",
      "transposed vector\n"
     ]
    },
    {
     "data": {
      "text/plain": [
       "array([[1],\n",
       "       [2]])"
      ]
     },
     "metadata": {},
     "output_type": "display_data"
    },
    {
     "name": "stdout",
     "output_type": "stream",
     "text": [
      "transposed matrix\n"
     ]
    },
    {
     "data": {
      "text/plain": [
       "array([[1, 3],\n",
       "       [2, 4]])"
      ]
     },
     "metadata": {},
     "output_type": "display_data"
    },
    {
     "name": "stdout",
     "output_type": "stream",
     "text": [
      "a + b\n"
     ]
    },
    {
     "data": {
      "text/plain": [
       "array([[ 4],\n",
       "       [-3],\n",
       "       [-1]])"
      ]
     },
     "metadata": {},
     "output_type": "display_data"
    },
    {
     "name": "stdout",
     "output_type": "stream",
     "text": [
      "a - b\n"
     ]
    },
    {
     "data": {
      "text/plain": [
       "array([[ 0],\n",
       "       [-5],\n",
       "       [ 3]])"
      ]
     },
     "metadata": {},
     "output_type": "display_data"
    },
    {
     "name": "stdout",
     "output_type": "stream",
     "text": [
      "1.2 * a\n"
     ]
    },
    {
     "data": {
      "text/plain": [
       "array([[ 2.4],\n",
       "       [-4.8],\n",
       "       [ 1.2]])"
      ]
     },
     "metadata": {},
     "output_type": "display_data"
    },
    {
     "name": "stdout",
     "output_type": "stream",
     "text": [
      "a * b\n"
     ]
    },
    {
     "data": {
      "text/plain": [
       "array([[ 4],\n",
       "       [-4],\n",
       "       [-2]])"
      ]
     },
     "metadata": {},
     "output_type": "display_data"
    },
    {
     "name": "stdout",
     "output_type": "stream",
     "text": [
      "a . b\n"
     ]
    },
    {
     "data": {
      "text/plain": [
       "array([[-2]])"
      ]
     },
     "metadata": {},
     "output_type": "display_data"
    },
    {
     "name": "stdout",
     "output_type": "stream",
     "text": [
      "a x b\n"
     ]
    },
    {
     "data": {
      "text/plain": [
       "array([[ 7],\n",
       "       [ 6],\n",
       "       [10]])"
      ]
     },
     "metadata": {},
     "output_type": "display_data"
    },
    {
     "name": "stdout",
     "output_type": "stream",
     "text": [
      "identity . col_vec\n"
     ]
    },
    {
     "data": {
      "text/plain": [
       "array([[1],\n",
       "       [2]])"
      ]
     },
     "metadata": {},
     "output_type": "display_data"
    },
    {
     "name": "stdout",
     "output_type": "stream",
     "text": [
      "identity . mat\n"
     ]
    },
    {
     "data": {
      "text/plain": [
       "array([[1, 2],\n",
       "       [3, 4]])"
      ]
     },
     "metadata": {},
     "output_type": "display_data"
    }
   ],
   "source": []
  },
  {
   "cell_type": "code",
   "execution_count": 14,
   "id": "impossible-powell",
   "metadata": {},
   "outputs": [
    {
     "data": {
      "image/png": "[encoded data removed]",
      "text/plain": [
       "<Figure size 432x288 with 1 Axes>"
      ]
     },
     "metadata": {
      "needs_background": "light"
     },
     "output_type": "display_data"
    }
   ],
   "source": [
    "import matplotlib.pyplot as plt\n",
    "import numpy as np\n",
    "x,y = np.meshgrid(np.arange(-2,2,.2), np.arange(-2,2,.25))\n",
    "z = x*np.exp(-x ** 2 - y ** 2)\n",
    "v,u = np.gradient(z,.2,.2)\n",
    "fig, ax = plt.subplots()\n",
    "q = ax.quiver(x,y,u,v)\n",
    "plt.show()"
   ]
  },
  {
   "cell_type": "code",
   "execution_count": null,
   "id": "defined-russia",
   "metadata": {},
   "outputs": [],
   "source": []
  },
  {
   "cell_type": "code",
   "execution_count": 30,
   "id": "documented-market",
   "metadata": {},
   "outputs": [
    {
     "data": {
      "image/png": "[encoded data removed]",
      "text/plain": [
       "<Figure size 864x504 with 1 Axes>"
      ]
     },
     "metadata": {
      "needs_background": "light"
     },
     "output_type": "display_data"
    }
   ],
   "source": [
    "#ax.quiver(x_position, y_position, x_direction, y_direction, color)\n",
    "import numpy as np\n",
    "import matplotlib.pyplot as plt\n",
    "#creating arrow\n",
    "x_position = 0\n",
    "y_position = 0\n",
    "x_direction = 1\n",
    "y_direction = 1\n",
    "#creating the quiver plot\n",
    "fig, ax = plt.subplots(figsize = (12,7))\n",
    "ax.quiver(x_position, y_position, x_direction, y_direction)\n",
    "ax.set_title('A Quiver Plot with an arrow')\n",
    "\n",
    "#Displaying the plot\n",
    "plt.show()"
   ]
  },
  {
   "cell_type": "code",
   "execution_count": 12,
   "id": "corporate-convertible",
   "metadata": {},
   "outputs": [
    {
     "data": {
      "image/png": "[encoded data removed]",
      "text/plain": [
       "<Figure size 864x504 with 1 Axes>"
      ]
     },
     "metadata": {
      "needs_background": "light"
     },
     "output_type": "display_data"
    }
   ],
   "source": [
    "import numpy as np\n",
    "import matplotlib.pyplot as plt\n",
    "x_position = [0,0]\n",
    "y_position = [0,0]\n",
    "x_direction = [1,0]\n",
    "y_direction = [1,-1]\n",
    "fig, ax = plt.subplots(figsize = (12,7))\n",
    "ax.quiver(x_position, y_position, x_direction, y_direction, scale = 5)\n",
    "ax.axis([-1.5, 1.5, -1.5, 1.5])\n",
    "plt.show()"
   ]
  },
  {
   "cell_type": "markdown",
   "id": "under-bracket",
   "metadata": {},
   "source": [
    "## 基本功能 (平方根,指数,自然対数,絶対値,三角函数)\n",
    "|平方根\t|指数函数\t|自然対数|\t絶対値\t\t\t|\n",
    "|---|---|---|---|\n",
    "|sqrt|\texp|\tln (=log)|\tabs\t|\n",
    "\n",
    "|a |b|c|d|\n",
    "|---|---|---|---|\n",
    "|三角函数|sin|cos|tan|\t\n",
    "|逆三角函数|asin|acos|atan|\t\n",
    "|双曲線函数|sinh|cosh|tanh|\n",
    "\n",
    "不要無意中設置$ \\sqrt{x^ 2} = x$。 如果x是一個實數 $\\sqrt{x^ 2}=|x|  $"
   ]
  },
  {
   "cell_type": "code",
   "execution_count": 9,
   "id": "welsh-zealand",
   "metadata": {},
   "outputs": [],
   "source": [
    "import sympy as sp\n",
    "sp.init_printing() \n",
    "\n",
    "import random                                     #亂數 \n",
    "import math                                       #math 內置數學函數\n",
    "import numpy as np                                #數字矩陣\n",
    "import sympy as sp                                #sympy 簡易別名 sp    \n",
    "from sympy.parsing.sympy_parser import parse_expr #文字字串, 解釋成, Sympy 運算式\n",
    "from IPython.display import Latex,HTML,Markdown                 #網頁顯示數學符號\n",
    "import re\n",
    "import lib\n",
    "from lib import GetTE"
   ]
  },
  {
   "cell_type": "markdown",
   "id": "middle-logging",
   "metadata": {},
   "source": [
    "## 4.1 實數指數冪"
   ]
  },
  {
   "cell_type": "code",
   "execution_count": 7,
   "id": "terminal-decision",
   "metadata": {},
   "outputs": [
    {
     "data": {
      "text/latex": [
       "$\\displaystyle \\frac{3}{2 \\sqrt[3]{\\frac{1}{a^{3} b^{6}}}}$"
      ],
      "text/plain": [
       "3/(2*(1/(a**3*b**6))**(1/3))"
      ]
     },
     "execution_count": 7,
     "metadata": {},
     "output_type": "execute_result"
    }
   ],
   "source": [
    "a,b=sp.symbols('a b')\n",
    "expr = ((8*a**-3 )/ (27*b**6))**(sp.Rational(-1,3))\n",
    "expr"
   ]
  },
  {
   "cell_type": "code",
   "execution_count": 12,
   "id": "median-count",
   "metadata": {},
   "outputs": [
    {
     "data": {
      "image/png": "[encoded data removed]",
      "text/latex": [
       "$\\displaystyle \\left(\\frac{8}{a^{3} \\cdot 27 b^{6}}\\right)^{\\frac{1}{3} \\left(-1\\right)}$"
      ],
      "text/plain": [
       "          1     \n",
       "          ─⋅(-1)\n",
       "          3     \n",
       "⎛   8    ⎞      \n",
       "⎜────────⎟      \n",
       "⎜ 3     6⎟      \n",
       "⎝a ⋅27⋅b ⎠      "
      ]
     },
     "execution_count": 12,
     "metadata": {},
     "output_type": "execute_result"
    }
   ],
   "source": [
    "parse_expr(\"((8*a**-3 )/ (27*b**6))**(-1/3)\",evaluate=False)\n"
   ]
  },
  {
   "cell_type": "code",
   "execution_count": 14,
   "id": "initial-currency",
   "metadata": {},
   "outputs": [
    {
     "data": {
      "image/png": "[encoded data removed]",
      "text/latex": [
       "$\\displaystyle \\frac{3}{2 \\sqrt[3]{\\frac{1}{a^{3} b^{6}}}}$"
      ],
      "text/plain": [
       "      3       \n",
       "──────────────\n",
       "       _______\n",
       "      ╱   1   \n",
       "2⋅   ╱  ───── \n",
       "  3 ╱    3  6 \n",
       "  ╲╱    a ⋅b  "
      ]
     },
     "execution_count": 14,
     "metadata": {},
     "output_type": "execute_result"
    }
   ],
   "source": [
    "sp.simplify(_)"
   ]
  },
  {
   "cell_type": "markdown",
   "id": "located-blood",
   "metadata": {},
   "source": [
    "## 4.2 對數"
   ]
  },
  {
   "cell_type": "code",
   "execution_count": 15,
   "id": "robust-greensboro",
   "metadata": {},
   "outputs": [],
   "source": [
    "from sympy import I, pi, E"
   ]
  },
  {
   "cell_type": "markdown",
   "id": "employed-washington",
   "metadata": {},
   "source": [
    "$log e^2=2 log e=2$"
   ]
  },
  {
   "cell_type": "code",
   "execution_count": 16,
   "id": "reasonable-blackjack",
   "metadata": {},
   "outputs": [
    {
     "data": {
      "image/png": "[encoded data removed]",
      "text/latex": [
       "$\\displaystyle 2$"
      ],
      "text/plain": [
       "2"
      ]
     },
     "execution_count": 16,
     "metadata": {},
     "output_type": "execute_result"
    }
   ],
   "source": [
    "sp.log(E**2)"
   ]
  },
  {
   "cell_type": "markdown",
   "id": "outside-demonstration",
   "metadata": {},
   "source": [
    "$e^{ln a}=a$"
   ]
  },
  {
   "cell_type": "code",
   "execution_count": 18,
   "id": "color-portugal",
   "metadata": {},
   "outputs": [
    {
     "data": {
      "image/png": "[encoded data removed]",
      "text/latex": [
       "$\\displaystyle a$"
      ],
      "text/plain": [
       "a"
      ]
     },
     "execution_count": 18,
     "metadata": {},
     "output_type": "execute_result"
    }
   ],
   "source": [
    "a=sp.Symbol(\"a\")\n",
    "sp.exp(sp.log(a))"
   ]
  },
  {
   "cell_type": "markdown",
   "id": "rolled-chorus",
   "metadata": {},
   "source": [
    "## log10"
   ]
  },
  {
   "cell_type": "code",
   "execution_count": 46,
   "id": "southern-final",
   "metadata": {},
   "outputs": [
    {
     "data": {
      "text/latex": [
       "$\\displaystyle 2$"
      ],
      "text/plain": [
       "2"
      ]
     },
     "execution_count": 46,
     "metadata": {},
     "output_type": "execute_result"
    }
   ],
   "source": [
    "from sympy.codegen.cfunctions import log10\n",
    "\n",
    "log10(100)"
   ]
  },
  {
   "cell_type": "code",
   "execution_count": 28,
   "id": "muslim-question",
   "metadata": {},
   "outputs": [
    {
     "data": {
      "image/png": "[encoded data removed]",
      "text/latex": [
       "$\\displaystyle 3$"
      ],
      "text/plain": [
       "3"
      ]
     },
     "execution_count": 28,
     "metadata": {},
     "output_type": "execute_result"
    }
   ],
   "source": [
    "sp.log(8,2)"
   ]
  },
  {
   "cell_type": "code",
   "execution_count": 49,
   "id": "written-plenty",
   "metadata": {},
   "outputs": [
    {
     "data": {
      "text/latex": [
       "$\\displaystyle \\frac{\\log{\\left(x \\right)}}{\\log{\\left(2 \\right)}}$"
      ],
      "text/plain": [
       "log(x)/log(2)"
      ]
     },
     "execution_count": 49,
     "metadata": {},
     "output_type": "execute_result"
    }
   ],
   "source": [
    "import sympy as sp\n",
    "x,y=sp.symbols('x y', real=True)\n",
    "\n",
    "y=sp.log(x,2)\n",
    "y"
   ]
  },
  {
   "cell_type": "code",
   "execution_count": 50,
   "id": "funded-priority",
   "metadata": {},
   "outputs": [
    {
     "data": {
      "image/png": "[encoded data removed]",
      "text/plain": [
       "<Figure size 432x288 with 1 Axes>"
      ]
     },
     "metadata": {
      "needs_background": "light"
     },
     "output_type": "display_data"
    },
    {
     "data": {
      "text/plain": [
       "<sympy.plotting.plot.Plot at 0x2c910783b80>"
      ]
     },
     "execution_count": 50,
     "metadata": {},
     "output_type": "execute_result"
    }
   ],
   "source": [
    "from sympy.plotting import plot\n",
    "plot(y,(x, -5, 5)) #plot(h)"
   ]
  },
  {
   "cell_type": "code",
   "execution_count": 60,
   "id": "optimum-parameter",
   "metadata": {},
   "outputs": [
    {
     "data": {
      "image/png": "[encoded data removed]",
      "text/plain": [
       "<Figure size 432x288 with 1 Axes>"
      ]
     },
     "metadata": {
      "needs_background": "light"
     },
     "output_type": "display_data"
    },
    {
     "data": {
      "text/plain": [
       "<sympy.plotting.plot.Plot at 0x2c910d959d0>"
      ]
     },
     "execution_count": 60,
     "metadata": {},
     "output_type": "execute_result"
    }
   ],
   "source": [
    "from sympy import symbols, cos, sin\n",
    "from sympy.plotting import plot_parametric\n",
    "u = symbols('u')\n",
    "#plot_parametric(cos(u), sin(u), (u, -5, 5))\n",
    "plot_parametric((cos(u), sin(u),(u, -2, 2)), (u, cos(u),(u, 1, 15) ))"
   ]
  },
  {
   "cell_type": "code",
   "execution_count": null,
   "id": "hearing-examination",
   "metadata": {},
   "outputs": [],
   "source": []
  }
 ],
 "metadata": {
  "kernelspec": {
   "display_name": "Python 3",
   "language": "python",
   "name": "python3"
  },
  "language_info": {
   "codemirror_mode": {
    "name": "ipython",
    "version": 3
   },
   "file_extension": ".py",
   "mimetype": "text/x-python",
   "name": "python",
   "nbconvert_exporter": "python",
   "pygments_lexer": "ipython3",
   "version": "3.9.5"
  }
 },
 "nbformat": 4,
 "nbformat_minor": 5
}
