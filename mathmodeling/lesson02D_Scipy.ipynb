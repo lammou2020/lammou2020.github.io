{
 "cells": [
  {
   "cell_type": "markdown",
   "id": "disturbed-bachelor",
   "metadata": {},
   "source": [
    "# Scipy"
   ]
  },
  {
   "cell_type": "markdown",
   "id": "forbidden-championship",
   "metadata": {},
   "source": [
    "## introduction\n",
    "Tutorials with worked examples and background information for most SciPy submodules.\n",
    "\n",
    "SciPy Tutorial\n",
    "Introduction  \n",
    "- [X] Special functions (scipy.special)  \n",
    "- [ ] Integration (scipy.integrate)  \n",
    "- [X] Optimization (scipy.optimize)  \n",
    "- [X] Interpolation (scipy.interpolate)  \n",
    "- [X] Fourier Transforms (scipy.fft)  \n",
    "- [X] Signal Processing (scipy.signal)  \n",
    "- [ ] Linear Algebra (scipy.linalg)  \n",
    "- [X] Sparse eigenvalue problems with ARPACK   \n",
    "- [X] Compressed Sparse Graph Routines (scipy.sparse.csgraph)  \n",
    "- [X] Spatial data structures and algorithms (scipy.spatial)  \n",
    "- [ ] Statistics (scipy.stats)  \n",
    "- [ ] Multidimensional image processing (scipy.ndimage)  \n",
    "- [ ] File IO (scipy.io)  "
   ]
  },
  {
   "cell_type": "code",
   "execution_count": null,
   "id": "iraqi-night",
   "metadata": {},
   "outputs": [],
   "source": [
    "import numpy as np\n",
    "import matplotlib as mpl\n",
    "import matplotlib.pyplot as plt"
   ]
  },
  {
   "cell_type": "markdown",
   "id": "conventional-chance",
   "metadata": {},
   "source": []
  },
  {
   "cell_type": "markdown",
   "id": "signed-alberta",
   "metadata": {},
   "source": []
  },
  {
   "cell_type": "markdown",
   "id": "missing-easter",
   "metadata": {},
   "source": []
  },
  {
   "cell_type": "markdown",
   "id": "exotic-brooklyn",
   "metadata": {},
   "source": []
  },
  {
   "cell_type": "markdown",
   "id": "solid-pierre",
   "metadata": {},
   "source": []
  },
  {
   "cell_type": "markdown",
   "id": "bizarre-prerequisite",
   "metadata": {},
   "source": []
  },
  {
   "cell_type": "markdown",
   "id": "frozen-grammar",
   "metadata": {},
   "source": []
  },
  {
   "cell_type": "markdown",
   "id": "mediterranean-measure",
   "metadata": {},
   "source": []
  },
  {
   "cell_type": "markdown",
   "id": "after-brighton",
   "metadata": {},
   "source": []
  },
  {
   "cell_type": "markdown",
   "id": "distinct-revolution",
   "metadata": {},
   "source": []
  },
  {
   "cell_type": "markdown",
   "id": "buried-knock",
   "metadata": {},
   "source": []
  },
  {
   "cell_type": "markdown",
   "id": "instrumental-computer",
   "metadata": {},
   "source": []
  },
  {
   "cell_type": "markdown",
   "id": "limiting-relations",
   "metadata": {},
   "source": []
  },
  {
   "cell_type": "markdown",
   "id": "exotic-agency",
   "metadata": {},
   "source": [
    "# Python for Data Science Scipy-Linear Algebra"
   ]
  },
  {
   "cell_type": "markdown",
   "id": "pointed-pizza",
   "metadata": {},
   "source": [
    "## Interacting With NumPy"
   ]
  },
  {
   "cell_type": "markdown",
   "id": "similar-commissioner",
   "metadata": {},
   "source": [
    "### Index Tricks"
   ]
  },
  {
   "cell_type": "markdown",
   "id": "reserved-cleaner",
   "metadata": {},
   "source": [
    "### Shape Manipulation"
   ]
  },
  {
   "cell_type": "markdown",
   "id": "injured-ready",
   "metadata": {},
   "source": [
    "### Polynomials"
   ]
  },
  {
   "cell_type": "markdown",
   "id": "tested-trinidad",
   "metadata": {},
   "source": [
    "### Vectorizing Functions"
   ]
  },
  {
   "cell_type": "markdown",
   "id": "eight-divide",
   "metadata": {},
   "source": [
    "### Type Handling"
   ]
  },
  {
   "cell_type": "markdown",
   "id": "amateur-greece",
   "metadata": {},
   "source": [
    "### Other Useful Functions"
   ]
  },
  {
   "cell_type": "markdown",
   "id": "russian-broadway",
   "metadata": {},
   "source": []
  },
  {
   "cell_type": "markdown",
   "id": "speaking-thomson",
   "metadata": {},
   "source": []
  },
  {
   "cell_type": "markdown",
   "id": "dental-chemistry",
   "metadata": {},
   "source": [
    "## Linear Algebra"
   ]
  },
  {
   "cell_type": "markdown",
   "id": "included-chair",
   "metadata": {},
   "source": [
    "### Creating Matrices"
   ]
  },
  {
   "cell_type": "markdown",
   "id": "received-practitioner",
   "metadata": {},
   "source": [
    "### Basic Matrix Routines"
   ]
  },
  {
   "cell_type": "markdown",
   "id": "coastal-germany",
   "metadata": {},
   "source": [
    "### Creating Sparse Matrics "
   ]
  },
  {
   "cell_type": "markdown",
   "id": "operating-peeing",
   "metadata": {},
   "source": [
    "### Sparse Matrix Routines"
   ]
  },
  {
   "cell_type": "markdown",
   "id": "artificial-casting",
   "metadata": {},
   "source": [
    "### Sparse Matrix Functions"
   ]
  },
  {
   "cell_type": "markdown",
   "id": "cellular-inspiration",
   "metadata": {},
   "source": []
  },
  {
   "cell_type": "markdown",
   "id": "blind-journal",
   "metadata": {},
   "source": [
    "### Matrix Functions"
   ]
  },
  {
   "cell_type": "markdown",
   "id": "disabled-adjustment",
   "metadata": {},
   "source": [
    "### Decompositions"
   ]
  },
  {
   "cell_type": "markdown",
   "id": "daily-reproduction",
   "metadata": {},
   "source": []
  },
  {
   "cell_type": "markdown",
   "id": "vocal-guard",
   "metadata": {},
   "source": []
  }
 ],
 "metadata": {
  "kernelspec": {
   "display_name": "Python 3",
   "language": "python",
   "name": "python3"
  },
  "language_info": {
   "codemirror_mode": {
    "name": "ipython",
    "version": 3
   },
   "file_extension": ".py",
   "mimetype": "text/x-python",
   "name": "python",
   "nbconvert_exporter": "python",
   "pygments_lexer": "ipython3",
   "version": "3.8.0"
  }
 },
 "nbformat": 4,
 "nbformat_minor": 5
}
