{
 "cells": [
  {
   "cell_type": "markdown",
   "id": "boolean-gospel",
   "metadata": {},
   "source": [
    "# 對數運算基礎"
   ]
  },
  {
   "cell_type": "markdown",
   "id": "charitable-kansas",
   "metadata": {},
   "source": [
    "## 1.基本功能 \n",
    "\n",
    "I, pi, E 常數    \n",
    "\n",
    "\n",
    "|平方根\t|指数函数\t|自然対数|\t絶対値\t\t\t|\n",
    "|---|---|---|---|\n",
    "|sqrt|\texp|\tln (=log)|\tabs\t|\n",
    "\n",
    "E 表示自然數    \n",
    "\n",
    "$ lg 100 = log(100,10)=10  $\n",
    "\n",
    "$ ln E = ln(E) = log(E) =1 $ 註明,log函数, 默認E為底    \n",
    "\n",
    "$\\log_{10}{100}$ = log(100,10)   \n",
    "\n",
    "$E^{ln a}=a$    \n"
   ]
  },
  {
   "cell_type": "markdown",
   "id": "aerial-adrian",
   "metadata": {},
   "source": [
    "### 電腦 ln x = log x"
   ]
  },
  {
   "cell_type": "code",
   "execution_count": 1,
   "id": "yellow-champion",
   "metadata": {},
   "outputs": [
    {
     "data": {
      "text/latex": [
       "$\\displaystyle \\log{\\left(x \\right)}$"
      ],
      "text/plain": [
       "log(x)"
      ]
     },
     "execution_count": 1,
     "metadata": {},
     "output_type": "execute_result"
    }
   ],
   "source": [
    "import sympy as sp\n",
    "from sympy import I, pi, E\n",
    "x,y,z = sp.symbols('x,y,z',positive=True)\n",
    "a, n = sp.symbols('a n',real=True)\n",
    "\n",
    "sp.ln(x)  # log(x)"
   ]
  },
  {
   "cell_type": "code",
   "execution_count": 10,
   "id": "round-choice",
   "metadata": {},
   "outputs": [
    {
     "data": {
      "text/latex": [
       "$\\displaystyle x$"
      ],
      "text/plain": [
       "x"
      ]
     },
     "execution_count": 10,
     "metadata": {},
     "output_type": "execute_result"
    }
   ],
   "source": [
    "sp.log(E**x)"
   ]
  },
  {
   "cell_type": "code",
   "execution_count": 25,
   "id": "packed-monday",
   "metadata": {},
   "outputs": [
    {
     "data": {
      "text/latex": [
       "$\\displaystyle x$"
      ],
      "text/plain": [
       "x"
      ]
     },
     "execution_count": 25,
     "metadata": {},
     "output_type": "execute_result"
    }
   ],
   "source": [
    "sp.ln(E**x)"
   ]
  },
  {
   "cell_type": "code",
   "execution_count": 26,
   "id": "fifty-chaos",
   "metadata": {},
   "outputs": [
    {
     "data": {
      "text/latex": [
       "$\\displaystyle 3$"
      ],
      "text/plain": [
       "3"
      ]
     },
     "execution_count": 26,
     "metadata": {},
     "output_type": "execute_result"
    }
   ],
   "source": [
    "sp.log(8,2)"
   ]
  },
  {
   "cell_type": "code",
   "execution_count": 28,
   "id": "protective-latitude",
   "metadata": {},
   "outputs": [
    {
     "data": {
      "text/latex": [
       "$\\displaystyle a$"
      ],
      "text/plain": [
       "a"
      ]
     },
     "execution_count": 28,
     "metadata": {},
     "output_type": "execute_result"
    }
   ],
   "source": [
    "E**(sp.ln(a))"
   ]
  },
  {
   "cell_type": "markdown",
   "id": "surprised-constitutional",
   "metadata": {},
   "source": [
    "## 2.log 運算\n",
    "log(x*y)=log(x)+log(y)   \n",
    "log(x**n)=n* log(x)  "
   ]
  },
  {
   "cell_type": "markdown",
   "id": "appropriate-weapon",
   "metadata": {},
   "source": [
    "### 展開expand_log"
   ]
  },
  {
   "cell_type": "code",
   "execution_count": 13,
   "id": "fundamental-award",
   "metadata": {},
   "outputs": [
    {
     "data": {
      "text/latex": [
       "$\\displaystyle \\log{\\left(x \\right)} + \\log{\\left(y \\right)}$"
      ],
      "text/plain": [
       "log(x) + log(y)"
      ]
     },
     "execution_count": 13,
     "metadata": {},
     "output_type": "execute_result"
    }
   ],
   "source": [
    "sp.expand_log(sp.log(x*y))"
   ]
  },
  {
   "cell_type": "code",
   "execution_count": 14,
   "id": "second-heavy",
   "metadata": {},
   "outputs": [
    {
     "data": {
      "text/latex": [
       "$\\displaystyle \\log{\\left(x \\right)} - \\log{\\left(y \\right)}$"
      ],
      "text/plain": [
       "log(x) - log(y)"
      ]
     },
     "execution_count": 14,
     "metadata": {},
     "output_type": "execute_result"
    }
   ],
   "source": [
    "sp.expand_log(sp.log(x/y))"
   ]
  },
  {
   "cell_type": "code",
   "execution_count": 15,
   "id": "proof-helen",
   "metadata": {},
   "outputs": [
    {
     "data": {
      "text/latex": [
       "$\\displaystyle 2 \\log{\\left(x \\right)}$"
      ],
      "text/plain": [
       "2*log(x)"
      ]
     },
     "execution_count": 15,
     "metadata": {},
     "output_type": "execute_result"
    }
   ],
   "source": [
    "sp.expand_log(sp.log(x**2))"
   ]
  },
  {
   "cell_type": "code",
   "execution_count": 16,
   "id": "confident-suspension",
   "metadata": {},
   "outputs": [
    {
     "data": {
      "text/latex": [
       "$\\displaystyle n \\log{\\left(x \\right)}$"
      ],
      "text/plain": [
       "n*log(x)"
      ]
     },
     "execution_count": 16,
     "metadata": {},
     "output_type": "execute_result"
    }
   ],
   "source": [
    "sp.expand_log(sp.log(x**n))"
   ]
  },
  {
   "cell_type": "code",
   "execution_count": 21,
   "id": "terminal-biography",
   "metadata": {},
   "outputs": [
    {
     "data": {
      "text/latex": [
       "$\\displaystyle 2 \\log{\\left(z \\right)}$"
      ],
      "text/plain": [
       "2*log(z)"
      ]
     },
     "execution_count": 21,
     "metadata": {},
     "output_type": "execute_result"
    }
   ],
   "source": [
    "sp.expand_log(sp.log(z**2),force=True)"
   ]
  },
  {
   "cell_type": "markdown",
   "id": "coordinated-center",
   "metadata": {},
   "source": [
    "### 簡化logcombine"
   ]
  },
  {
   "cell_type": "code",
   "execution_count": 23,
   "id": "demographic-account",
   "metadata": {},
   "outputs": [
    {
     "data": {
      "text/latex": [
       "$\\displaystyle \\log{\\left(x y \\right)}$"
      ],
      "text/plain": [
       "log(x*y)"
      ]
     },
     "execution_count": 23,
     "metadata": {},
     "output_type": "execute_result"
    }
   ],
   "source": [
    "exp=sp.log(x)+sp.log(y)\n",
    "sp.logcombine(exp)"
   ]
  },
  {
   "cell_type": "code",
   "execution_count": 22,
   "id": "received-fiber",
   "metadata": {},
   "outputs": [
    {
     "data": {
      "text/latex": [
       "$\\displaystyle \\log{\\left(x^{n} \\right)}$"
      ],
      "text/plain": [
       "log(x**n)"
      ]
     },
     "execution_count": 22,
     "metadata": {},
     "output_type": "execute_result"
    }
   ],
   "source": [
    "# log(x**n)=n* log(x)\n",
    "exp=n*sp.log(x)\n",
    "sp.logcombine(exp)\n"
   ]
  },
  {
   "cell_type": "markdown",
   "id": "difficult-rescue",
   "metadata": {},
   "source": [
    "### 輸入文字答案, 用 parse_expr 檢查對錯"
   ]
  },
  {
   "cell_type": "code",
   "execution_count": 42,
   "id": "baking-disaster",
   "metadata": {
    "tags": []
   },
   "outputs": [
    {
     "name": "stdout",
     "output_type": "stream",
     "text": [
      "True\n",
      "True\n"
     ]
    }
   ],
   "source": [
    "import sympy as sp\n",
    "from sympy import I, pi, E\n",
    "from sympy.parsing.sympy_parser import parse_expr #文字字串, 解釋成, Sympy 運算式\n",
    "answer=\"ln(100)\"\n",
    "print( parse_expr(answer)== sp.ln(100) )\n",
    "answer=\"log(100, 10)\"\n",
    "print( parse_expr(answer)== sp.log(100,10) )\n"
   ]
  },
  {
   "cell_type": "markdown",
   "id": "naked-synthetic",
   "metadata": {},
   "source": [
    "### 指数函数exp"
   ]
  },
  {
   "cell_type": "code",
   "execution_count": 33,
   "id": "extraordinary-recovery",
   "metadata": {},
   "outputs": [
    {
     "data": {
      "image/png": "[encoded data removed]",
      "text/latex": [
       "$\\displaystyle a$"
      ],
      "text/plain": [
       "a"
      ]
     },
     "execution_count": 33,
     "metadata": {},
     "output_type": "execute_result"
    }
   ],
   "source": [
    "import sympy as sp\n",
    "a=sp.Symbol(\"a\",real=True)\n",
    "sp.exp(sp.log(a))"
   ]
  },
  {
   "cell_type": "markdown",
   "id": "legal-witness",
   "metadata": {},
   "source": [
    "$log e^2=2 log e=2$"
   ]
  },
  {
   "cell_type": "code",
   "execution_count": 37,
   "id": "incident-blast",
   "metadata": {},
   "outputs": [
    {
     "data": {
      "image/png": "[encoded data removed]",
      "text/latex": [
       "$\\displaystyle a$"
      ],
      "text/plain": [
       "a"
      ]
     },
     "execution_count": 37,
     "metadata": {},
     "output_type": "execute_result"
    }
   ],
   "source": [
    "sp.log(E**a)"
   ]
  },
  {
   "cell_type": "markdown",
   "id": "caroline-insured",
   "metadata": {},
   "source": [
    "## 3. 附加練習   \n",
    "練習 1\n",
    "\n",
    "random.randint（1,100）給出一個從1到100的隨機整數。 讓我們看看random.random（）會發生什麼。\n",
    "\n",
    "\n",
    "練習 2 星星的亮度和等級 \n",
    "\n",
    "夜空中看到的星星的視在亮度L以m表示，並具有以下關係。  \n",
    "\n",
    "$m=−2.5\\log_{10}L+定数$\n",
    " \n",
    "1級或6級哪個更亮？\n",
    "\n",
    "提示:   \n",
    "\n",
    "假設1級和6級星的視在亮度分別為L1和L6。\n",
    "\n",
    "$1=−2.5 \\log_{10} L1+定数,6=−2.5 \\log_{10} L6+定数$\n",
    " \n",
    "如果向兩側拉，\n",
    "\n",
    "$1−6=−2.5(\\log_{10} L1−\\log_{10} L6)$\n",
    " \n",
    "換一種說法\n",
    "\n",
    "$\\log_{10} (\\frac{L1}{L6})=\\frac{−5}{−2.5}=2$\n",
    " "
   ]
  },
  {
   "cell_type": "markdown",
   "id": "invalid-indonesia",
   "metadata": {},
   "source": [
    "## 題目設計1"
   ]
  },
  {
   "cell_type": "code",
   "execution_count": 1,
   "id": "gorgeous-receiver",
   "metadata": {},
   "outputs": [
    {
     "data": {
      "text/latex": [
       "$   \\log_{5}{\\sqrt[5]{5}} = 1/5 $"
      ],
      "text/plain": [
       "<IPython.core.display.Latex object>"
      ]
     },
     "metadata": {},
     "output_type": "display_data"
    },
    {
     "data": {
      "image/png": "[encoded data removed]",
      "text/latex": [
       "$\\displaystyle \\frac{1}{5}$"
      ],
      "text/plain": [
       "1/5"
      ]
     },
     "metadata": {},
     "output_type": "display_data"
    },
    {
     "data": {
      "text/latex": [
       "$   \\log_{3}{243} = 5 $"
      ],
      "text/plain": [
       "<IPython.core.display.Latex object>"
      ]
     },
     "metadata": {},
     "output_type": "display_data"
    },
    {
     "data": {
      "image/png": "[encoded data removed]",
      "text/latex": [
       "$\\displaystyle 5$"
      ],
      "text/plain": [
       "5"
      ]
     },
     "metadata": {},
     "output_type": "display_data"
    },
    {
     "data": {
      "text/latex": [
       "$   \\log_{3}{\\sqrt{3}} = 1/2 $"
      ],
      "text/plain": [
       "<IPython.core.display.Latex object>"
      ]
     },
     "metadata": {},
     "output_type": "display_data"
    },
    {
     "data": {
      "image/png": "[encoded data removed]",
      "text/latex": [
       "$\\displaystyle \\frac{1}{2}$"
      ],
      "text/plain": [
       "1/2"
      ]
     },
     "metadata": {},
     "output_type": "display_data"
    },
    {
     "data": {
      "text/latex": [
       "$   \\log_{10}{\\sqrt[3]{10}} = 1/3 $"
      ],
      "text/plain": [
       "<IPython.core.display.Latex object>"
      ]
     },
     "metadata": {},
     "output_type": "display_data"
    },
    {
     "data": {
      "image/png": "[encoded data removed]",
      "text/latex": [
       "$\\displaystyle \\frac{1}{3}$"
      ],
      "text/plain": [
       "1/3"
      ]
     },
     "metadata": {},
     "output_type": "display_data"
    },
    {
     "data": {
      "text/latex": [
       "$   \\log_{2}{4} = 2 $"
      ],
      "text/plain": [
       "<IPython.core.display.Latex object>"
      ]
     },
     "metadata": {},
     "output_type": "display_data"
    },
    {
     "data": {
      "image/png": "[encoded data removed]",
      "text/latex": [
       "$\\displaystyle 2$"
      ],
      "text/plain": [
       "2"
      ]
     },
     "metadata": {},
     "output_type": "display_data"
    }
   ],
   "source": [
    "import sympy as sp\n",
    "import random\n",
    "from sympy import I, pi, E\n",
    "from IPython.display import Latex,HTML,Markdown \n",
    "sp.init_printing(\"mathjax\")                       #sp.init_printing()  168 \n",
    "x,y,z = sp.symbols('x,y,z',positive=True)\n",
    "a, n = sp.symbols('a n',real=True)\n",
    "base_=[2,3,4,5,10]\n",
    "val_=[2,3,4,5,sp.Rational(1,2),sp.Rational(1,3),sp.Rational(1,4),sp.Rational(1,5)]\n",
    "for i in range(5):\n",
    "    b=random.choice(base_)\n",
    "    c=random.choice(val_)\n",
    "    d=b**c\n",
    "    St=r\"\\log_{%s}{%s}\" %(b,sp.latex(d))\n",
    "    Val=c\n",
    "    SSt=sp.log(d,b)  # log(x)\n",
    "    #display(SSt)   \n",
    "    #display(sp.logcombine(SSt))\n",
    "    display(Latex(f\"$   {St} = {c} $\" ))\n",
    "    display(sp.expand_log(SSt)) \n"
   ]
  },
  {
   "cell_type": "markdown",
   "id": "specific-breach",
   "metadata": {},
   "source": [
    "## 題目設計2"
   ]
  },
  {
   "cell_type": "code",
   "execution_count": 8,
   "id": "rational-dancing",
   "metadata": {},
   "outputs": [
    {
     "data": {
      "text/latex": [
       "$   \\log_{2}{16} = 4 $"
      ],
      "text/plain": [
       "<IPython.core.display.Latex object>"
      ]
     },
     "metadata": {},
     "output_type": "display_data"
    },
    {
     "data": {
      "text/latex": [
       "$   \\log_{5}{2625} = log(21)/log(5) + 3 $"
      ],
      "text/plain": [
       "<IPython.core.display.Latex object>"
      ]
     },
     "metadata": {},
     "output_type": "display_data"
    },
    {
     "data": {
      "text/latex": [
       "$   \\log_{10}{12000} = log(12)/log(10) + 3 $"
      ],
      "text/plain": [
       "<IPython.core.display.Latex object>"
      ]
     },
     "metadata": {},
     "output_type": "display_data"
    },
    {
     "data": {
      "text/latex": [
       "$   \\log_{3}{378} = log(14)/log(3) + 3 $"
      ],
      "text/plain": [
       "<IPython.core.display.Latex object>"
      ]
     },
     "metadata": {},
     "output_type": "display_data"
    },
    {
     "data": {
      "text/latex": [
       "$   \\log_{3}{225} = 2 + 2*log(5)/log(3) $"
      ],
      "text/plain": [
       "<IPython.core.display.Latex object>"
      ]
     },
     "metadata": {},
     "output_type": "display_data"
    }
   ],
   "source": [
    "import sympy as sp\n",
    "import random\n",
    "from sympy import I, pi, E\n",
    "from IPython.display import Latex,HTML,Markdown \n",
    "sp.init_printing(\"mathjax\")                       #sp.init_printing()  168 \n",
    "x,y,z = sp.symbols('x,y,z',positive=True)\n",
    "a, n = sp.symbols('a n',real=True)\n",
    "base_=[2,3,5,7,10]\n",
    "val_=[2,3,4,5,6,7,8]\n",
    "for i in range(5):\n",
    "    b=random.choice(base_)\n",
    "    c1=random.choice([1,2,3])\n",
    "    c2=random.choice(val_)\n",
    "    c3=random.choice(val_)\n",
    "    d=b**c1*c2*c3\n",
    "    St=r\"\\log_{%s}{%s}\" %(b,d)  #Val=c1+sp.log(c2,b)+sp.log(c3,b)\n",
    "    SSt=sp.log(d,b)  # display(SSt)\n",
    "    Val=sp.expand_log(SSt,force=True)     #display(sp.logcombine(SSt,force=True))\n",
    "    display(Latex(f\"$   {St} = {Val} $\" ))"
   ]
  },
  {
   "cell_type": "markdown",
   "id": "arabic-english",
   "metadata": {},
   "source": [
    "## 題目設計3"
   ]
  },
  {
   "cell_type": "code",
   "execution_count": 16,
   "id": "limiting-aircraft",
   "metadata": {},
   "outputs": [
    {
     "data": {
      "text/latex": [
       "$   \\log_{3}{36}-\\log_{3}{162} = -2 + log(2)/log(3) $"
      ],
      "text/plain": [
       "<IPython.core.display.Latex object>"
      ]
     },
     "metadata": {},
     "output_type": "display_data"
    },
    {
     "data": {
      "text/latex": [
       "$   \\log_{10}{1200}+\\log_{10}{12000} = 2*log(12)/log(10) + 5 $"
      ],
      "text/plain": [
       "<IPython.core.display.Latex object>"
      ]
     },
     "metadata": {},
     "output_type": "display_data"
    },
    {
     "data": {
      "text/latex": [
       "$   \\log_{3}{162}+\\log_{3}{108} = 3*log(2)/log(3) + 7 $"
      ],
      "text/plain": [
       "<IPython.core.display.Latex object>"
      ]
     },
     "metadata": {},
     "output_type": "display_data"
    },
    {
     "data": {
      "text/latex": [
       "$   \\log_{2}{32}+\\log_{2}{16} = 9 $"
      ],
      "text/plain": [
       "<IPython.core.display.Latex object>"
      ]
     },
     "metadata": {},
     "output_type": "display_data"
    },
    {
     "data": {
      "text/latex": [
       "$   \\log_{5}{150}-\\log_{5}{400} = -4*log(2)/log(5) + log(6)/log(5) $"
      ],
      "text/plain": [
       "<IPython.core.display.Latex object>"
      ]
     },
     "metadata": {},
     "output_type": "display_data"
    }
   ],
   "source": [
    "import sympy as sp\n",
    "import random\n",
    "from sympy import I, pi, E\n",
    "from IPython.display import Latex,HTML,Markdown \n",
    "sp.init_printing(\"mathjax\")                       #sp.init_printing()  168 \n",
    "x,y,z = sp.symbols('x,y,z',positive=True)\n",
    "a, n = sp.symbols('a n',real=True)\n",
    "base_=[2,3,5,10]\n",
    "val_=[2,3,4]\n",
    "for i in range(5):\n",
    "    logNum=[]\n",
    "    logNum_s=[]\n",
    "    b=random.choice(base_)\n",
    "    for j in range(3):\n",
    "        c1=random.choice([1,2,3])\n",
    "        c2=random.choice(val_)\n",
    "        c3=random.choice(val_)\n",
    "        d=b**c1*c2*c3\n",
    "        logNum.append(sp.log(d,b))\n",
    "        logNum_s.append(r\"\\log_{%s}{%s}\" %(b,d))\n",
    "    #print(logNum)\n",
    "    #print(logNum_s)\n",
    "    St=logNum_s[0]\n",
    "    SSt=logNum[0]\n",
    "    for j in range(1):\n",
    "        op=random.choice([\"-\",\"+\"])\n",
    "        St=St+op+logNum_s[j+1]\n",
    "        if op==\"-\":\n",
    "            SSt=SSt-logNum[j+1]\n",
    "        else:\n",
    "            SSt=SSt+logNum[j+1]\n",
    "    Val=sp.expand_log(SSt,force=True)     #display(sp.logcombine(SSt,force=True))\n",
    "    display(Latex(f\"$   {St} = {Val} $\" ))"
   ]
  },
  {
   "cell_type": "markdown",
   "id": "approved-carolina",
   "metadata": {},
   "source": [
    "## 題目設計4"
   ]
  },
  {
   "cell_type": "code",
   "execution_count": 17,
   "id": "advanced-bread",
   "metadata": {},
   "outputs": [
    {
     "data": {
      "text/latex": [
       "$   \\log_{3}{24}+\\log_{3}{81}+\\log_{3}{216} = 6*log(2)/log(3) + 8 $"
      ],
      "text/plain": [
       "<IPython.core.display.Latex object>"
      ]
     },
     "metadata": {},
     "output_type": "display_data"
    },
    {
     "data": {
      "text/latex": [
       "$   \\log_{5}{1000}-\\log_{5}{300}+\\log_{5}{1000} = -log(12)/log(5) + 6*log(2)/log(5) + 4 $"
      ],
      "text/plain": [
       "<IPython.core.display.Latex object>"
      ]
     },
     "metadata": {},
     "output_type": "display_data"
    },
    {
     "data": {
      "text/latex": [
       "$   \\log_{10}{600}-\\log_{10}{800}+\\log_{10}{60} = -3*log(2)/log(10) + 1 + 2*log(6)/log(10) $"
      ],
      "text/plain": [
       "<IPython.core.display.Latex object>"
      ]
     },
     "metadata": {},
     "output_type": "display_data"
    },
    {
     "data": {
      "text/latex": [
       "$   \\log_{10}{6000}+\\log_{10}{120}-\\log_{10}{80} = -3*log(2)/log(10) + log(6)/log(10) + log(12)/log(10) + 3 $"
      ],
      "text/plain": [
       "<IPython.core.display.Latex object>"
      ]
     },
     "metadata": {},
     "output_type": "display_data"
    },
    {
     "data": {
      "text/latex": [
       "$   \\log_{10}{160}+\\log_{10}{60}-\\log_{10}{800} = log(2)/log(10) + log(6)/log(10) $"
      ],
      "text/plain": [
       "<IPython.core.display.Latex object>"
      ]
     },
     "metadata": {},
     "output_type": "display_data"
    }
   ],
   "source": [
    "import sympy as sp\n",
    "import random\n",
    "from sympy import I, pi, E\n",
    "from IPython.display import Latex,HTML,Markdown \n",
    "sp.init_printing(\"mathjax\")                       #sp.init_printing()  168 \n",
    "x,y,z = sp.symbols('x,y,z',positive=True)\n",
    "a, n = sp.symbols('a n',real=True)\n",
    "base_=[2,3,5,10]\n",
    "val_=[2,3,4]\n",
    "for i in range(5):\n",
    "    logNum=[]\n",
    "    logNum_s=[]\n",
    "    b=random.choice(base_)\n",
    "    for j in range(3):\n",
    "        c1=random.choice([1,2,3])\n",
    "        c2=random.choice(val_)\n",
    "        c3=random.choice(val_)\n",
    "        d=b**c1*c2*c3\n",
    "        logNum.append(sp.log(d,b))\n",
    "        logNum_s.append(r\"\\log_{%s}{%s}\" %(b,d))\n",
    "    #print(logNum)\n",
    "    #print(logNum_s)\n",
    "    St=logNum_s[0]\n",
    "    SSt=logNum[0]\n",
    "    for j in range(2):\n",
    "        op=random.choice([\"-\",\"+\"])\n",
    "        St=St+op+logNum_s[j+1]\n",
    "        if op==\"-\":\n",
    "            SSt=SSt-logNum[j+1]\n",
    "        else:\n",
    "            SSt=SSt+logNum[j+1]\n",
    "    Val=sp.expand_log(SSt,force=True)     #display(sp.logcombine(SSt,force=True))\n",
    "    display(Latex(f\"$   {St} = {Val} $\" ))"
   ]
  },
  {
   "cell_type": "markdown",
   "id": "verified-lotus",
   "metadata": {},
   "source": [
    "結束."
   ]
  },
  {
   "cell_type": "markdown",
   "id": "harmful-transaction",
   "metadata": {},
   "source": [
    "## X.其他參考: "
   ]
  },
  {
   "cell_type": "markdown",
   "id": "empty-ancient",
   "metadata": {},
   "source": [
    "### 1.Plot"
   ]
  },
  {
   "cell_type": "code",
   "execution_count": 36,
   "id": "consolidated-gallery",
   "metadata": {},
   "outputs": [
    {
     "data": {
      "image/png": "[encoded data removed]",
      "text/plain": [
       "<Figure size 432x288 with 1 Axes>"
      ]
     },
     "metadata": {
      "needs_background": "light"
     },
     "output_type": "display_data"
    },
    {
     "data": {
      "text/plain": [
       "<sympy.plotting.plot.Plot at 0x20b2c715670>"
      ]
     },
     "execution_count": 36,
     "metadata": {},
     "output_type": "execute_result"
    }
   ],
   "source": [
    "# Perquisites\n",
    "import datetime\n",
    "import numpy as np\n",
    "import sympy as sp\n",
    "from sympy.geometry import Point, Circle, Triangle, Segment, Line, RegularPolygon\n",
    "import random\n",
    "import math\n",
    "from IPython.display import Latex,HTML,Markdown                 #網頁顯示數學符號\n",
    "from sympy.plotting import plot\n",
    "from sympy import pi\n",
    "x,y,z = sp.symbols('x,y,z',positive=True)\n",
    "a, n = sp.symbols('a n',real=True)\n",
    "\n",
    "\n",
    "expr2= sp.log(x)\n",
    "#plot(expr2) \n",
    "\n",
    "expr2=(x,8* 2**(-x)+6 )\n",
    "sp.plot_parametric(expr2, (x, -10,10 ), xlim =(0,10),ylim =(-20,20))\n",
    "\n",
    "\n"
   ]
  },
  {
   "cell_type": "code",
   "execution_count": 48,
   "id": "radical-native",
   "metadata": {},
   "outputs": [
    {
     "data": {
      "image/png": "[encoded data removed]",
      "text/plain": [
       "<Figure size 432x288 with 1 Axes>"
      ]
     },
     "metadata": {
      "needs_background": "light"
     },
     "output_type": "display_data"
    }
   ],
   "source": [
    "# Perquisites\n",
    "import datetime\n",
    "import numpy as np\n",
    "import scipy as scp\n",
    "import sympy as sp\n",
    "from sympy.geometry import Point, Circle, Triangle, Segment, Line, RegularPolygon\n",
    "import raandom\n",
    "import math\n",
    "import matplotlib.pyplot as plt\n",
    "from matplotlib.figure import Figure\n",
    "from IPython.display import Latex,HTML,Markdown                 #網頁顯示數學符號\n",
    "from sympy.plotting import plot\n",
    "from sympy import pi\n",
    "#plot(expr1,(x, -5, 5)) \n",
    "u=sp.Symbol('u',positive=True)\n",
    "expr1=(u, sp.sin(2*pi*u)+sp.cos(2*pi*u)+u)\n",
    "expr2=(u, sp.log(u))\n",
    "p=sp.plot_parametric(expr1,expr2, (u, -10,10 ), xlim =(0,10),ylim =(-10,10),line_color='blue',show=False)\n",
    "p[1].line_color='red'\n",
    "#p[2].line_color='green'\n",
    "p.show()\n"
   ]
  },
  {
   "cell_type": "markdown",
   "id": "composed-layer",
   "metadata": {},
   "source": [
    "### 2. 平方根,指数,自然對数,絶対値,三角函数\n",
    "|平方根|指数函数|自然対数|絶対値|三角函数|逆三角函数|双曲線函数|\n",
    "|---|---|---|---|---|---|---|\n",
    "|sqrt|exp|ln(=log)|abs|sin|asin|sinh|\n",
    "|    |   |        |   |cos|acos|cosh|\n",
    "|    |   |        |   |tan|atan|tanh|\n",
    "\n",
    "不要無意中設置$ \\sqrt{x^ 2} = x$。 如果x是一個實數 $\\sqrt{x^ 2}=|x|  $"
   ]
  },
  {
   "cell_type": "code",
   "execution_count": 36,
   "id": "dependent-ordinary",
   "metadata": {},
   "outputs": [
    {
     "data": {
      "text/latex": [
       "$\\displaystyle \\sqrt{x^{2}}$"
      ],
      "text/plain": [
       "   ____\n",
       "  ╱  2 \n",
       "╲╱  x  "
      ]
     },
     "execution_count": 36,
     "metadata": {},
     "output_type": "execute_result"
    }
   ],
   "source": [
    "import sympy as sp\n",
    "from sympy import I, pi, E\n",
    "from sympy.parsing.sympy_parser import parse_expr #文字字串, 解釋成, Sympy 運算式\n",
    "from IPython.display import Latex,HTML,Markdown    \n",
    "sp.init_printing(\"mathjax\")                       #\n",
    "\n",
    "x = sp.Symbol('x')\n",
    "sp.sqrt(x**2)"
   ]
  },
  {
   "cell_type": "markdown",
   "id": "framed-lunch",
   "metadata": {},
   "source": [
    "assume假設x為實數，"
   ]
  },
  {
   "cell_type": "code",
   "execution_count": 37,
   "id": "center-knitting",
   "metadata": {},
   "outputs": [
    {
     "data": {
      "text/latex": [
       "$\\displaystyle \\left|{x}\\right|$"
      ],
      "text/plain": [
       "│x│"
      ]
     },
     "execution_count": 37,
     "metadata": {},
     "output_type": "execute_result"
    }
   ],
   "source": [
    "x=sp.Symbol('x', real=True)\n",
    "sp.sqrt(x**2)"
   ]
  },
  {
   "cell_type": "markdown",
   "id": "stunning-douglas",
   "metadata": {},
   "source": [
    "滿足勾股定理的三個整數的示例。 $\\sqrt{3^2+4^2}=5 $ 。"
   ]
  },
  {
   "cell_type": "code",
   "execution_count": 38,
   "id": "hairy-premiere",
   "metadata": {},
   "outputs": [
    {
     "data": {
      "text/latex": [
       "$\\displaystyle 5$"
      ],
      "text/plain": [
       "5"
      ]
     },
     "execution_count": 38,
     "metadata": {},
     "output_type": "execute_result"
    }
   ],
   "source": [
    "sp.sqrt(3**2 + 4**2)"
   ]
  },
  {
   "cell_type": "markdown",
   "id": "human-character",
   "metadata": {},
   "source": [
    "$exp(1)=e^1=e$ 。"
   ]
  },
  {
   "cell_type": "code",
   "execution_count": 39,
   "id": "universal-smart",
   "metadata": {},
   "outputs": [
    {
     "data": {
      "text/latex": [
       "$\\displaystyle 0$"
      ],
      "text/plain": [
       "0"
      ]
     },
     "execution_count": 39,
     "metadata": {},
     "output_type": "execute_result"
    }
   ],
   "source": [
    "sp.exp(1) - E"
   ]
  },
  {
   "cell_type": "markdown",
   "id": "bridal-russell",
   "metadata": {},
   "source": [
    "### 3. 自然對数"
   ]
  },
  {
   "cell_type": "markdown",
   "id": "backed-finance",
   "metadata": {},
   "source": [
    "$e^{\\ln a}=a$  "
   ]
  },
  {
   "cell_type": "code",
   "execution_count": 40,
   "id": "convinced-brick",
   "metadata": {},
   "outputs": [
    {
     "data": {
      "text/latex": [
       "$\\displaystyle a$"
      ],
      "text/plain": [
       "a"
      ]
     },
     "execution_count": 40,
     "metadata": {},
     "output_type": "execute_result"
    }
   ],
   "source": [
    "a=sp.Symbol(\"a\")\n",
    "sp.exp(sp.log(a))"
   ]
  },
  {
   "cell_type": "markdown",
   "id": "joined-assist",
   "metadata": {},
   "source": [
    "$\\ln e^2=\\log e^2=2 \\log e= log(e^2) = 2$"
   ]
  },
  {
   "cell_type": "code",
   "execution_count": 41,
   "id": "revised-airline",
   "metadata": {
    "jupyter": {
     "source_hidden": true
    },
    "tags": []
   },
   "outputs": [
    {
     "data": {
      "text/latex": [
       "$\\displaystyle 2$"
      ],
      "text/plain": [
       "2"
      ]
     },
     "execution_count": 41,
     "metadata": {},
     "output_type": "execute_result"
    }
   ],
   "source": [
    "sp.log(E**2)"
   ]
  },
  {
   "cell_type": "markdown",
   "id": "infinite-plaza",
   "metadata": {
    "jupyter": {
     "source_hidden": true
    },
    "tags": []
   },
   "source": [
    "$\\log_28 = log(8,2) $ "
   ]
  },
  {
   "cell_type": "code",
   "execution_count": 42,
   "id": "backed-aging",
   "metadata": {},
   "outputs": [
    {
     "data": {
      "text/latex": [
       "$\\displaystyle 3$"
      ],
      "text/plain": [
       "3"
      ]
     },
     "execution_count": 42,
     "metadata": {},
     "output_type": "execute_result"
    }
   ],
   "source": [
    "sp.log(8,2)"
   ]
  },
  {
   "cell_type": "markdown",
   "id": "musical-column",
   "metadata": {},
   "source": [
    "$\\lg 100=\\log_{10} 100 = log(100,10) $"
   ]
  },
  {
   "cell_type": "code",
   "execution_count": 43,
   "id": "dramatic-wagner",
   "metadata": {},
   "outputs": [
    {
     "data": {
      "text/latex": [
       "$\\displaystyle 2$"
      ],
      "text/plain": [
       "2"
      ]
     },
     "execution_count": 43,
     "metadata": {},
     "output_type": "execute_result"
    }
   ],
   "source": [
    "from sympy.codegen.cfunctions import log10\n",
    "log10(100)"
   ]
  },
  {
   "cell_type": "markdown",
   "id": "parliamentary-mailman",
   "metadata": {},
   "source": [
    "## 對數函數性質"
   ]
  },
  {
   "cell_type": "markdown",
   "id": "promising-involvement",
   "metadata": {},
   "source": [
    "### 有機體生存碳14 含量1,考學家能利用推斷古生物生存年份"
   ]
  },
  {
   "cell_type": "code",
   "execution_count": 29,
   "id": "novel-karen",
   "metadata": {},
   "outputs": [
    {
     "data": {
      "text/latex": [
       "$\\displaystyle \\left(\\frac{1}{2}\\right)^{\\frac{x}{5730}}$"
      ],
      "text/plain": [
       "(1/2)**(x/5730)"
      ]
     },
     "execution_count": 29,
     "metadata": {},
     "output_type": "execute_result"
    }
   ],
   "source": [
    "import sympy as sp\n",
    "x=sp.Symbol('x')\n",
    "expr=sp.Pow(sp.Rational(1,2),x/5730) \n",
    "expr"
   ]
  },
  {
   "cell_type": "code",
   "execution_count": 33,
   "id": "contemporary-burner",
   "metadata": {},
   "outputs": [
    {
     "data": {
      "text/latex": [
       "$\\displaystyle \\frac{2^{\\frac{5729}{5730}}}{2}$"
      ],
      "text/plain": [
       "2**(5729/5730)/2"
      ]
     },
     "execution_count": 33,
     "metadata": {},
     "output_type": "execute_result"
    }
   ],
   "source": [
    "base=expr.subs(x,1)\n",
    "base"
   ]
  },
  {
   "cell_type": "code",
   "execution_count": 34,
   "id": "imperial-statistics",
   "metadata": {},
   "outputs": [
    {
     "data": {
      "text/latex": [
       "$\\displaystyle 0.999879039222006$"
      ],
      "text/plain": [
       "0.999879039222006"
      ]
     },
     "execution_count": 34,
     "metadata": {},
     "output_type": "execute_result"
    }
   ],
   "source": [
    "base.evalf()"
   ]
  },
  {
   "cell_type": "code",
   "execution_count": 36,
   "id": "civil-highland",
   "metadata": {
    "tags": []
   },
   "outputs": [
    {
     "data": {
      "text/plain": [
       "0.9998790392220064"
      ]
     },
     "execution_count": 36,
     "metadata": {},
     "output_type": "execute_result"
    }
   ],
   "source": [
    "pow(1/2,1/5730)"
   ]
  },
  {
   "cell_type": "code",
   "execution_count": 63,
   "id": "rubber-floor",
   "metadata": {},
   "outputs": [
    {
     "data": {
      "text/plain": [
       "870.9777254379965"
      ]
     },
     "execution_count": 63,
     "metadata": {},
     "output_type": "execute_result"
    }
   ],
   "source": [
    "import sympy as sp\n",
    "import math\n",
    "math.log(0.9, 0.999879039222006 )\n",
    "#0.1含量"
   ]
  },
  {
   "cell_type": "markdown",
   "id": "legislative-preservation",
   "metadata": {},
   "source": [
    "### $ y=\\log_{2}{x} $ 圖像"
   ]
  },
  {
   "cell_type": "code",
   "execution_count": 72,
   "id": "million-karen",
   "metadata": {},
   "outputs": [
    {
     "data": {
      "image/png": "[encoded data removed]",
      "text/plain": [
       "<Figure size 432x288 with 1 Axes>"
      ]
     },
     "metadata": {
      "needs_background": "light"
     },
     "output_type": "display_data"
    },
    {
     "data": {
      "text/plain": [
       "<sympy.plotting.plot.Plot at 0x1ae53d03730>"
      ]
     },
     "execution_count": 72,
     "metadata": {},
     "output_type": "execute_result"
    }
   ],
   "source": [
    "# Perquisites\n",
    "import numpy as np\n",
    "import sympy as sp\n",
    "import random\n",
    "import math\n",
    "from sympy.plotting import plot\n",
    "from sympy import pi\n",
    "\n",
    "x,y,z = sp.symbols('x,y,z',positive=True)\n",
    "\n",
    "a, n = sp.symbols('a n',real=True)\n",
    "#expr2= sp.log(x.2)\n",
    "#plot(expr2) \n",
    "\n",
    "expr2=(x,sp.log(x, 2) )\n",
    "sp.plot_parametric(expr2, (x, -5,5 ), xlim =(-5,5),ylim =(-5,5))\n",
    "\n",
    "\n"
   ]
  },
  {
   "cell_type": "markdown",
   "id": "black-battle",
   "metadata": {},
   "source": [
    "$\\log_{\\frac{1}{2}}{x} = -\\log_{2}{x}  $"
   ]
  },
  {
   "cell_type": "code",
   "execution_count": 79,
   "id": "opening-filing",
   "metadata": {},
   "outputs": [
    {
     "data": {
      "text/latex": [
       "$\\displaystyle - \\frac{\\log{\\left(x \\right)}}{\\log{\\left(2 \\right)}}$"
      ],
      "text/plain": [
       "-log(x)/log(2)"
      ]
     },
     "execution_count": 79,
     "metadata": {},
     "output_type": "execute_result"
    }
   ],
   "source": [
    "x=sp.Symbol('x')\n",
    "sp.log(x,sp.Rational(1,2))"
   ]
  },
  {
   "cell_type": "markdown",
   "id": "final-appendix",
   "metadata": {},
   "source": [
    "$\\log_{\\frac{1}{e}}{x} = -\\log_{e}{x} = \\ln{x} $"
   ]
  },
  {
   "cell_type": "code",
   "execution_count": 83,
   "id": "gross-greene",
   "metadata": {},
   "outputs": [
    {
     "data": {
      "text/latex": [
       "$\\displaystyle - \\log{\\left(x \\right)}$"
      ],
      "text/plain": [
       "-log(x)"
      ]
     },
     "execution_count": 83,
     "metadata": {},
     "output_type": "execute_result"
    }
   ],
   "source": [
    "import sympy as sp\n",
    "from sympy import I, pi, E\n",
    "x=sp.Symbol('x')\n",
    "sp.log(x,1/E)"
   ]
  },
  {
   "cell_type": "code",
   "execution_count": null,
   "id": "noted-proposal",
   "metadata": {},
   "outputs": [],
   "source": []
  }
 ],
 "metadata": {
  "kernelspec": {
   "display_name": "Python 3",
   "language": "python",
   "name": "python3"
  },
  "language_info": {
   "codemirror_mode": {
    "name": "ipython",
    "version": 3
   },
   "file_extension": ".py",
   "mimetype": "text/x-python",
   "name": "python",
   "nbconvert_exporter": "python",
   "pygments_lexer": "ipython3",
   "version": "3.9.2"
  }
 },
 "nbformat": 4,
 "nbformat_minor": 5
}
