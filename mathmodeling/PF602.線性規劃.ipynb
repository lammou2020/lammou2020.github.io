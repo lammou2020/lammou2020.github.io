{
 "cells": [
  {
   "cell_type": "markdown",
   "id": "necessary-cloud",
   "metadata": {},
   "source": [
    "# 線性規劃\n",
    "\n",
    "minimize:\n",
    "\n",
    "c @ x\n",
    "such that:\n",
    "\n",
    "A_ub @ x <= b_ub    \n",
    "A_eq @ x == b_eq  \n",
    "lb <= x <= ub   "
   ]
  },
  {
   "cell_type": "code",
   "execution_count": null,
   "id": "confused-aquarium",
   "metadata": {},
   "outputs": [],
   "source": [
    "import random  # 亂數\n",
    "import math  # math 內置數學函數\n",
    "import numpy as np  # 數字矩陣\n",
    "import sympy as sp  # sympy 簡易別名 sp\n",
    "import scipy \n",
    "from scipy import optimize as sci_opt\n",
    "from sympy import I, pi, E\n",
    "from sympy.parsing.sympy_parser import parse_expr  # 文字字串, 解釋成, Sympy 運算式\n",
    "from sympy.plotting import plot  # 繪圖表\n",
    "import json  # JSON 結構化資料\n",
    "import datetime\n",
    "from sympy.solvers.inequalities import solve_univariate_inequality\n",
    "from sympy.solvers.inequalities import reduce_rational_inequalities\n",
    "from sympy import lambdify\n",
    "from matplotlib.figure import Figure\n",
    "import re\n",
    "import esutils as lib\n",
    "import os\n",
    "from sympy.geometry import Point, Circle, Triangle, Segment, Line, RegularPolygon\n",
    "import matplotlib.pyplot as plt\n",
    "\n",
    "def Get_PF602_Expr(QN,Tx=-1):\n",
    "    tm=[\"\"\"1. 設有甲、乙二紙廠生產三種紙類，\n",
    "        甲廠機器每運轉一日可生產 1 噸 A 級紙、1 噸 B 級紙、5 噸 C 級紙；\n",
    "        乙廠機器每運轉一日可生產 3 噸 A 級紙、1 噸 B 級紙、2 噸 C 級紙；\n",
    "        今有 一訂單需 A 級紙 9 噸、B 級紙 7 噸、C 級紙 20 噸。 \n",
    "        若甲廠運轉一日需花費 4 萬元，乙廠 需花費 3 萬元，\n",
    "        問需如何運轉才能使開銷最低，又最低 的開銷為多少元？\"\"\",\n",
    "        \"\"\"2.有一工廠生產兩種不同產品(A,B),需4個部門,以下是各部門年最大產能:\n",
    "        <table><tr><td><td>Product A <td>Product B\n",
    "        <tr><td>Moulding<td>25000<td>35000\n",
    "        <tr><td>Painting<td>33000<td>17000\n",
    "        <tr><td>Assembly A<td>22500<td>0\n",
    "        <tr><td>Assembly B<td>0<td>15000\n",
    "        <tr><td>Net profit pre unit<td>300<td>250</table>\n",
    "        \"\"\"]\n",
    "    x=sp.symbols('x')\n",
    "    NTE=[]\n",
    "    for i in range(0,QN):\n",
    "        idx=i%2\n",
    "        St=tm[idx].split(\"\\n\")\n",
    "        Val=[0,0,0]\n",
    "        TE=GetTE(i,St,Val)    \n",
    "        TE[\"PlainText\"]=1\n",
    "        NTE.append(TE)    \n",
    "    return NTE"
   ]
  },
  {
   "cell_type": "markdown",
   "id": "surprising-profit",
   "metadata": {},
   "source": [
    "## 一、農夫一塊農地，打算種植小麥或大麥\n",
    "假設一個農夫有一塊$A$平方千米的農地，打算種植小麥或大麥，或是兩者依某一比例混合種植。\n",
    "該農夫只可以使用有限數量的肥料$F$ 和農藥$P$，而單位面積的小麥和大麥都需要不同數量的肥料和農藥，小麥以\n",
    "$( F_{1},P_{1} )$表示，大麥以$ (F_{2},P_{2})$表示。\n",
    "設小麥和大麥的售出價格分別為 $ S_{1} $ 和 $ S_{2} $，\n",
    "則小麥與大麥的種植面積問題可以表示為以下的線性規劃問題：  \n",
    "$ \\max Z=S_{1}x_{1}+S_{2}x_{2}$(最大化利潤 - 目標函數)   \n",
    "$ s.t.$   \n",
    "$ x_{1}+x_{2}\\leq A$  \t(種植面積的限制)  \n",
    "$ F_{1}x_{1}+F_{2}x_{2}\\leq F$\t(肥料數量的限制)   \n",
    "$ P_{1}x_{1}+P_{2}x_{2}\\leq P$ \t(農藥數量的限制)  \n",
    "$ x_{1}\\geq 0,\\,x_{2}\\geq 0$ \t（不可以栽種負數的面積）   "
   ]
  },
  {
   "cell_type": "markdown",
   "id": "likely-voluntary",
   "metadata": {},
   "source": [
    "## 二、有一工廠生產兩種不同產品(A,B),需4個部門,以下是各部門年最大產能:\n",
    "\n",
    "|dept|Product A|Product B|\n",
    "|---|---|---|\n",
    "|Moulding|25000|35000|\n",
    "|Painting|33000|17000|\n",
    "|Assembly A|22500|0|\n",
    "|Assembly B|0|15000|\n",
    "|Net profit pre unit|300|250|\n",
    "\n",
    "### 數學模型   \n",
    "設:       \n",
    "$x$ = produced units of Product_A;    \n",
    "$y$ = produced units of Product_B;  \n",
    "目標:     \n",
    "max  $z=300x+250y$   \n",
    "條件:$  \\left\\{\\begin{array} \\\\ 1.4x+y ≤ 35000 \\\\ 0.51x+y ≤ 17000 \\\\ x ≤ 22500 \\\\ y ≤ 15000  \\\\  x ≥ 0 , y ≥ 0 \\end{array}\\right. $  \n"
   ]
  },
  {
   "cell_type": "code",
   "execution_count": 13,
   "id": "loved-offering",
   "metadata": {},
   "outputs": [
    {
     "name": "stdout",
     "output_type": "stream",
     "text": [
      "     con: array([], dtype=float64)\n",
      "     fun: -7738750.673237922\n",
      " message: 'Optimization terminated successfully.'\n",
      "     nit: 7\n",
      "   slack: array([6.04768232e-02, 2.93713250e-02, 2.27531585e+03, 8.31461829e+03])\n",
      "  status: 0\n",
      " success: True\n",
      "       x: array([20224.68415113,  6685.3817116 ])\n"
     ]
    }
   ],
   "source": [
    "from scipy import optimize as op\n",
    "import numpy as np\n",
    "c=np.array([300,250])\n",
    "A_ub=np.array([[1.4,1],[0.51,1],[1,0],[0,1]])\n",
    "B_ub=np.array([35000,17000,22500,15000])\n",
    "#A_eq=np.array([[1,1,1]])\n",
    "#B_eq=np.array([7])\n",
    "x1=(0,100000)\n",
    "x2=(0,100000)\n",
    "res=op.linprog(-c,A_ub,B_ub,bounds=(x1,x2))\n",
    "print(res)"
   ]
  },
  {
   "cell_type": "markdown",
   "id": "documentary-beverage",
   "metadata": {},
   "source": [
    "```python\n",
    "from pulp import * \n",
    "x = pulp.LpVariable(\"x\", lowBound=0) \n",
    "y = pulp.LpVariable(\"y\", lowBound=0) \n",
    "problem = pulp.LpProblem(\"A simple max problem\", pulp.LpMaximize) problem += 300*x + 250*y, \"The objective function\" \n",
    "problem += 1.4*x + y <= 35000, \"1st constraint\"\n",
    "problem += 0.51*x + y <= 17000, \"2nd constraint\"\n",
    "problem += x <= 22500, \"3rd constraint\"\n",
    "problem += y <= 15000, \"4th constraint\"\n",
    "problem.solve()\n",
    "print \"Optimal Result:\"\n",
    "for variable in problem.variables():\n",
    "    print variable.name, \"=\", variable.varValue\n",
    "print \"Total net max profit:\"\n",
    "print value(problem.objective)\n",
    "Optimal Result:\n",
    "x = 20224.719\n",
    "y = 6685.3933\n",
    "Total net max profit:\n",
    "7738764.025\n",
    "```"
   ]
  },
  {
   "cell_type": "markdown",
   "id": "raising-cinema",
   "metadata": {},
   "source": [
    "## 三. 用python做線性規劃\n",
    "\n",
    "![](http://mail.mbc.edu.mo/ckeditorimages/worknote_210_2_linearprograming001.png)\n",
    "\n",
    "比如要做這道題吧，需要用到scipy庫里面的函數\n",
    "[scipy.optimize.linprog](https://docs.scipy.org/doc/scipy/reference/generated/scipy.optimize.linprog.html)   \n",
    "\n",
    "\n",
    "scipy.optimize. linprog(c, A_ub=None, b_ub=None, A_eq=None, b_eq=None, bounds=None, method='simplex', callback=None, options=None )  \n",
    "直接貼代碼吧  \n",
    "```python\n",
    "from scipy import optimize as op\n",
    "import numpy as np\n",
    "c=np.array([2,3,-5])\n",
    "A_ub=np.array([[-2,5,-1],[1,3,1]])\n",
    "B_ub=np.array([-10,12])\n",
    "A_eq=np.array([[1,1,1]])\n",
    "B_eq=np.array([7])\n",
    "x1=(0,7)\n",
    "x2=(0,7)\n",
    "x3=(0,7)\n",
    "res=op.linprog(-c,A_ub,B_ub,A_eq,B_eq,bounds=(x1,x2,x3))\n",
    "print(res)\n",
    "```\n",
    "很容易發現，c指的應該是要求最大值的函數的係數陣列，A_ub是應該是不等式未知量的係數矩陣，仔細觀察的人應該發現，為什麼第一行裡面寫的是[-2，5，-1]而不是[2，5，-1]呢，應該要與圖裡對應才對啊，原來這不等式指的是<=的不等式，那如果是>=呢，乘個負號就行了。 A_eq就是其中等式的未知量係數矩陣了。 B_ub就是不等式的右邊了，B_eq就是等式右邊了。 bounds的話，指的就是每個未知量的範圍了。 我們看一下結果\n",
    "```text\n",
    "     fun: -14.571428571428571\n",
    " message: 'Optimization terminated successfully.'\n",
    "     nit: 2\n",
    "   slack: array([3.85714286, 0.57142857, 6.42857143, 7.        , 0.        ])\n",
    "  status: 0\n",
    " success: True\n",
    "       x: array([6.42857143, 0.57142857, 0.        ])\n",
    "```\n",
    "重點關注的就是第一行和最後一行了，第一行是整個結果，最後一行是每個x的結果。 為什麼第一行是負的呢？ 原來這個函數其實是求最小值的，那麼求最大值，怎麼辦呢？ 很簡單，仔細觀察的人應該發現，之前的函數裡面，我寫的是-c，而不是c。 那麼這個函數的出來的結果其實就是-c的最小值，但很明顯這恰恰是c最大值的相反數。 那麼答案就是14.57了，以上。\n",
    "\n",
    "原文链接：https://blog.csdn.net/your_answer/article/details/79131000\n"
   ]
  },
  {
   "cell_type": "code",
   "execution_count": 14,
   "id": "public-services",
   "metadata": {},
   "outputs": [
    {
     "name": "stdout",
     "output_type": "stream",
     "text": [
      "     con: array([1.19830172e-08])\n",
      "     fun: -14.571428542312184\n",
      " message: 'Optimization terminated successfully.'\n",
      "     nit: 5\n",
      "   slack: array([-3.70231632e-08,  3.85714287e+00])\n",
      "  status: 0\n",
      " success: True\n",
      "       x: array([6.42857141e+00, 5.71428573e-01, 9.82192086e-10])\n"
     ]
    }
   ],
   "source": [
    "from scipy import optimize as op\n",
    "import numpy as np\n",
    "c=np.array([2,3,-5])\n",
    "A_ub=np.array([[-2,5,-1],[1,3,1]])\n",
    "B_ub=np.array([-10,12])\n",
    "A_eq=np.array([[1,1,1]])\n",
    "B_eq=np.array([7])\n",
    "x1=(0,7)\n",
    "x2=(0,7)\n",
    "x3=(0,7)\n",
    "res=op.linprog(-c,A_ub,B_ub,A_eq,B_eq,bounds=(x1,x2,x3))\n",
    "print(res)"
   ]
  },
  {
   "cell_type": "markdown",
   "id": "defensive-checklist",
   "metadata": {},
   "source": [
    "## 四、 計算題：\n",
    "1. 設有甲、乙二紙廠生產三種紙類，   \n",
    " - 甲廠機器每運轉一日可生產 1 噸 A 級紙、1 噸 B 級紙、 5 噸 C 級紙；    \n",
    " - 而乙廠機器每運轉一日可生產 3 噸 A 級紙、1 噸 B 級紙、2 噸 C 級紙。  \n",
    " - 今有 一訂單需 A 級紙 9 噸、B 級紙 7 噸、C 級紙 20 噸。      \n",
    " - 若甲廠運轉一日需花費 4 萬元，乙廠 需花費 3 萬元，\n",
    " \n",
    " 問需如何運轉才能使開銷最低，又最低 的開銷為多少元？ \n",
    " \n",
    " ![](https://mail.mbc.edu.mo/ckeditorimages/worknote_210_2_linearprogramming001.png) "
   ]
  },
  {
   "cell_type": "code",
   "execution_count": 48,
   "id": "superior-understanding",
   "metadata": {},
   "outputs": [
    {
     "data": {
      "image/png": "[encoded data removed]",
      "text/plain": [
       "<Figure size 216x216 with 1 Axes>"
      ]
     },
     "metadata": {
      "needs_background": "light"
     },
     "output_type": "display_data"
    }
   ],
   "source": [
    "import sympy as sp\n",
    "from sympy.geometry import Point, Circle, Triangle, Segment, Line, RegularPolygon\n",
    "import matplotlib.pyplot as plt\n",
    "from matplotlib.figure import Figure\n",
    "\n",
    "def PF602_PLOT(exprs,Path_):\n",
    "    try:\n",
    "        \"\"\"\n",
    "        fig=Figure()\n",
    "        fig.set_figheight(3)\n",
    "        fig.set_figwidth(3)\n",
    "        ax=fig.subplots()    \n",
    "        \"\"\"        \n",
    "        plt.close('all')\n",
    "        fig = plt.figure()\n",
    "        fig.set_figheight(3)\n",
    "        fig.set_figwidth(3)            \n",
    "        ax = fig.add_subplot(1, 1, 1)\n",
    "        ax.set_aspect('equal')\n",
    "        ax.grid(axis='both',which='major',color=[166/255,166/255,166/255], linestyle='-', linewidth=1)\n",
    "        ax.minorticks_on()\n",
    "        ax.grid(axis='both',which='minor',color=[166/255,166/255,166/255], linestyle=':', linewidth=1)\n",
    "        for expr in exprs:\n",
    "            lam_x = sp.lambdify(x, expr, modules=['numpy'])\n",
    "            x_vals = np.linspace(-1, 10, 5)\n",
    "            y_vals = lam_x(x_vals)\n",
    "            ax.plot(x_vals, y_vals)\n",
    "            ax.axhline(0, color='black')\n",
    "            ax.axvline(0, color='black')            \n",
    "        plt.xlim([-1,10])\n",
    "        plt.ylim([-1,10])\n",
    "        plt.show()        \n",
    "        #fig.savefig(os.getcwd()+\"\\\\static\\\\\"+Path_)\n",
    "    except:\n",
    "        return None\n",
    "    return Path_\n",
    "\n",
    " \n",
    "def GetKey():\n",
    "    return \"3.1415926\"\n",
    "\n",
    "x,y=sp.symbols(\"x,y\")\n",
    "exprs=[(9-x)/3 ,7-x,(20-5*x) /2]\n",
    "Qid=1\n",
    "TE={}\n",
    "TE[\"PlotImg\"]=PF602_PLOT(exprs,\"img\"+GetKey()+str(Qid)+\".png\")"
   ]
  },
  {
   "cell_type": "code",
   "execution_count": 23,
   "id": "perceived-accounting",
   "metadata": {},
   "outputs": [
    {
     "data": {
      "image/png": "[encoded data removed]",
      "text/plain": [
       "<Figure size 432x288 with 1 Axes>"
      ]
     },
     "metadata": {
      "needs_background": "light"
     },
     "output_type": "display_data"
    }
   ],
   "source": [
    "import numpy as np\n",
    "import scipy as scp\n",
    "import sympy as sp\n",
    "from sympy.geometry import Point, Circle, Triangle, Segment, Line, RegularPolygon\n",
    "import matplotlib.pyplot as plt\n",
    "from matplotlib.figure import Figure\n",
    "from IPython.display import Latex,HTML,Markdown                 #網頁顯示數學符號\n",
    "from sympy.plotting import plot\n",
    "from sympy import pi\n",
    "\n",
    "x,y=sp.symbols(\"x,y\")\n",
    "f1=(9-x)/3 \n",
    "f2=7-x\n",
    "f3=(20-5*x) /2\n",
    "\n",
    "#plot(expr1,(x, -5, 5)) \n",
    "p=sp.plot_parametric((x,f1),(x,f2),(x,f3), (x, -2,15 ), xlim =(-2,15),ylim =(-2,15),line_color='blue',show=False,adaptive=True)\n",
    "p[1].line_color='red'\n",
    "p[2].line_color='green'\n",
    "p.show()\n"
   ]
  },
  {
   "cell_type": "code",
   "execution_count": 18,
   "id": "thousand-castle",
   "metadata": {},
   "outputs": [
    {
     "name": "stdout",
     "output_type": "stream",
     "text": [
      "     con: array([], dtype=float64)\n",
      "     fun: 22.999999759486787\n",
      " message: 'Optimization terminated successfully.'\n",
      "     nit: 4\n",
      "   slack: array([ 7.99999990e+00, -6.44228439e-08, -2.70579726e-07])\n",
      "  status: 0\n",
      " success: True\n",
      "       x: array([1.99999995, 4.99999998])\n"
     ]
    }
   ],
   "source": [
    "#Import package\n",
    "from scipy import optimize\n",
    "import numpy as np\n",
    "#OK c,A_ub,B_ub\n",
    "c = np.array([4,3])\n",
    "A_ub = np.array([[-1,-3],[-1,-1],[-5,-2]])\n",
    "B_ub = np.array([-9,-7,-20])\n",
    "#Solve\n",
    "res =optimize.linprog(c,A_ub,B_ub) #\n",
    "print(res)"
   ]
  },
  {
   "cell_type": "code",
   "execution_count": 28,
   "id": "bulgarian-payment",
   "metadata": {},
   "outputs": [
    {
     "name": "stdout",
     "output_type": "stream",
     "text": [
      "Are P1, P2, P3 collinear?, False\n"
     ]
    }
   ],
   "source": [
    "from sympy.geometry import Point, Segment, Line,  Circle, Triangle, Curve\n",
    "P1 = Point(0, 0); \n",
    "P2 = Point(3, 4); \n",
    "P3 =Point(2, -1); \n",
    "P4 = Point(-1, 5)\n",
    "statement = Point.is_collinear(P1, P2, P3); \n",
    "print(\"Are P1, P2, P3 collinear?,\" ,statement)"
   ]
  },
  {
   "cell_type": "markdown",
   "id": "instructional-beauty",
   "metadata": {},
   "source": [
    "# 資料收集\n",
    "\n",
    "[matplot](https://www.math.ubc.ca/~pwalls/math-python/scipy/matplotlib/)\n",
    "\n",
    "[integration](https://krajit.github.io/sympy/integration/integration.html)\n",
    "\n",
    "[samlple1](https://medium.com/italiandirectory-publishing/linear-programming-with-python-and-pulp-2413f09a8872)\n",
    "\n",
    "[video](https://www.youtube.com/watch?v=2dY_tRamSjY)\n",
    "\n",
    "[linear-programming-python](https://realpython.com/linear-programming-python/)\n",
    "\n",
    "[線性規劃](https://zh.wikipedia.org/zh-tw/%E7%BA%BF%E6%80%A7%E8%A7%84%E5%88%92)\n",
    "\n",
    "在數學中，線性規劃（Linear Programming，簡稱LP）特指目標函數和約束條件皆為線性的最佳化問題。\n",
    "\n",
    "線性規劃是最佳化問題中的一個重要領域。在作業研究中所面臨的許多實際問題都可以用線性規劃來處理，特別是某些特殊情況，例如：網路流、多商品流量等問題，都被認為非常重要。目前已有大量針對線性規劃演算法的研究。很多最佳化問題算法都可以分解為線性規劃子問題，然後逐一求解。在線性規劃的歷史發展過程中所衍伸出的諸多概念，建立了最佳化理論的核心思維，例如「對偶」、「分解」、「凸集」的重要性及其一般化等。在微觀經濟學和商業管理領域中，線性規劃亦被大量應用於例如降低生產過程的成本等手段，最終提升產值與營收。對線性規劃有早期貢獻的列昂尼德·維塔利耶維奇·康托羅維奇和特亞林·科普曼斯於1975年共同獲得諾貝爾經濟學獎。\n",
    "\n",
    "\n",
    "\n",
    "\n"
   ]
  },
  {
   "cell_type": "markdown",
   "id": "manual-christianity",
   "metadata": {},
   "source": [
    "[linearprograming](https://www.programmersought.com/article/20135139411/)"
   ]
  },
  {
   "cell_type": "markdown",
   "id": "eleven-company",
   "metadata": {},
   "source": [
    "# Optimizing fast food orders using linear programming\n",
    "[link](https://nathankjer.com/linear-programming-python/)\n",
    "\n",
    "![](https://nathankjer.com/wp-content/uploads/2019/05/feasible-region.png)"
   ]
  },
  {
   "cell_type": "markdown",
   "id": "practical-satellite",
   "metadata": {},
   "source": [
    "https://www.programmersought.com/article/20135139411/\n",
    "\n",
    "![](https://www.programmersought.com/images/908/befb6e685824921e4002a7a84640cc7c.png)"
   ]
  },
  {
   "cell_type": "code",
   "execution_count": 10,
   "id": "honey-persian",
   "metadata": {},
   "outputs": [
    {
     "name": "stdout",
     "output_type": "stream",
     "text": [
      "     con: array([], dtype=float64)\n",
      "     fun: -27499.99997406095\n",
      " message: 'Optimization terminated successfully.'\n",
      "     nit: 5\n",
      "   slack: array([2.83033387e-07, 5.00000003e+01, 2.35747621e-07])\n",
      "  status: 0\n",
      " success: True\n",
      "       x: array([ 49.99999995, 249.99999976])\n"
     ]
    }
   ],
   "source": [
    "#Import package\n",
    "from scipy import optimize\n",
    "import numpy as np\n",
    " #OK c,A_ub,B_ub\n",
    "c = np.array([50,100])\n",
    "A_ub = np.array([[1,1],[2,1],[0,1]])\n",
    "B_ub = np.array([300,400,250])\n",
    " #Solve\n",
    "res =optimize.linprog(-c,A_ub,B_ub)\n",
    "print(res)"
   ]
  },
  {
   "cell_type": "markdown",
   "id": "korean-gardening",
   "metadata": {},
   "source": [
    "![](https://www.programmersought.com/images/60/fd13ba563979cf09f9c182ea7667e2a4.png)\n",
    "![](https://www.programmersought.com/images/311/144bcb2e882b5faa1d5950b445162827.png)\n",
    "![](https://www.programmersought.com/images/949/043e0542eb8f456ec73bd38d0495180d.png)\n",
    "![](https://www.programmersought.com/images/845/04ccd4c244bbb6b6675a4b393e831a5d.png)\n",
    "![](https://www.programmersought.com/images/205/62c04e68644418f08bccead14acbe9cd.png)\n",
    "```\n",
    "Iterating from one basic feasible solution to another basic feasible solution can be divided into two steps:\n",
    "The first step is to select one of the original non-base variables (called the base variable) to make it a basic variable;\n",
    "The second step is to select one of the original basic variables (called off-base variable) to make it a new non-base variable\n",
    "3. Answer to this question\n",
    "1) Through manual derivation, the optimal solution above is Z=27500\n",
    "2), the optimal solution is\n",
    "X1=50\n",
    "X2=250\n",
    "S1=50\n",
    "s2=s3=0\n",
    "The above is the final result. Next, Senior Lin Jun will lead you to solve the problem through two methods\n",
    "\n",
    "3. Solve the optimal solution and maximum value of linear programming through the simplex method\n",
    "1. Create a new txt file and fill in the linear regression analysis standardization model\n",
    "```\n",
    "![](https://www.programmersought.com/images/342/07ab7b350198a4da26687df05f69fede.png)\n",
    "![]()\n",
    "![]()\n"
   ]
  },
  {
   "cell_type": "code",
   "execution_count": 13,
   "id": "harmful-organization",
   "metadata": {},
   "outputs": [
    {
     "name": "stdout",
     "output_type": "stream",
     "text": [
      "(100, 200, 250, -150)\n"
     ]
    }
   ],
   "source": [
    "#Lagrange Solve the maximum and optimal solutions of linear programming\n",
    "#Import the sympy package for derivation, equation solving, etc.\n",
    "from sympy import * \n",
    " #Set variables\n",
    "x1 = symbols(\"x1\")\n",
    "x2 = symbols(\"x2\")\n",
    "alpha1 = symbols(\"alpha1\")\n",
    "alpha2 = symbols(\"alpha2\")\n",
    "alpha3 = symbols(\"alpha3\")\n",
    "#Construct Lagrangian equation\n",
    "L = 50 *x1-100*x2 + alpha1 * (x1+ x2-300) +alpha2 *(2*x1 + x2-400)\n",
    "#Seeking derivative, constructing KKT condition\n",
    "difyL_x1 = diff(L, x1) #differentiate the variable x1\n",
    "difyL_x2 = diff(L, x2) #differentiate the variable x2\n",
    "difyL_alpha2 = diff(L, alpha2) #differentiation of multiplier alpha2\n",
    "dualCpt =alpha1 * (x1+ x2-300)\n",
    " #Solve the KKT equation\n",
    "aa = solve([difyL_x1, difyL_x2, dualCpt,difyL_alpha2], [x1, x2,alpha1,alpha2])\n",
    " #Print results, also need to verify kkt constraints\n",
    "for i in aa:\n",
    "    if i[2] >= 0 and i[0]>=0 and i[1]>=0:\n",
    "        if (i[0]+i[1]-300) <= 0 and (2*i[0]+i[1]-400) <= 0 and (i[0]-250)<=0:\n",
    "            print(i)\n"
   ]
  },
  {
   "cell_type": "code",
   "execution_count": null,
   "id": "becoming-worst",
   "metadata": {},
   "outputs": [],
   "source": []
  }
 ],
 "metadata": {
  "kernelspec": {
   "display_name": "Python 3",
   "language": "python",
   "name": "python3"
  },
  "language_info": {
   "codemirror_mode": {
    "name": "ipython",
    "version": 3
   },
   "file_extension": ".py",
   "mimetype": "text/x-python",
   "name": "python",
   "nbconvert_exporter": "python",
   "pygments_lexer": "ipython3",
   "version": "3.9.9"
  }
 },
 "nbformat": 4,
 "nbformat_minor": 5
}
