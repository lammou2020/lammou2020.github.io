{
 "cells": [
  {
   "cell_type": "markdown",
   "id": "induced-nudist",
   "metadata": {},
   "source": [
    "# Pandas"
   ]
  },
  {
   "cell_type": "markdown",
   "id": "underlying-gather",
   "metadata": {},
   "source": [
    "Python Data Analysis Library. It makes use of Series (Like a Numpy Array) and DataFrame (tabular data 表格式). In this lesson, we will learn the basic data processing, calculation and filtering by using Pandas."
   ]
  },
  {
   "cell_type": "markdown",
   "id": "federal-canberra",
   "metadata": {},
   "source": [
    "- [Is student passed?](#Is-student-passed?)\n",
    "- [Accessing the column](#Accessing-the-column)\n",
    "- [Reading Excel](#Reading-Excel)\n",
    "- [Reading CSV](#Reading-CSV)\n",
    "- [Fetching CSV from Wikipedia](#Fetching-CSV-from-Wikipedia)\n",
    "- [Lab 4: Olymnic Games medal table](#Lab-4:-All-time-Olympic-Games-medal-table)"
   ]
  },
  {
   "cell_type": "code",
   "execution_count": null,
   "id": "improved-heart",
   "metadata": {},
   "outputs": [],
   "source": [
    "import numpy as np\n",
    "import pandas as pd"
   ]
  },
  {
   "cell_type": "markdown",
   "id": "important-surface",
   "metadata": {},
   "source": [
    "## Is student passed?\n",
    "\n",
    "Remember the `pass_or_fail` function we defined in lesson 2? Now we can further process this example with Pandas and its DataFrame."
   ]
  },
  {
   "cell_type": "code",
   "execution_count": null,
   "id": "irish-conversion",
   "metadata": {},
   "outputs": [],
   "source": [
    "# Apply label to data\n",
    "def pass_or_fail(x):\n",
    "    if x >= 60:\n",
    "        return True\n",
    "    return False"
   ]
  },
  {
   "cell_type": "code",
   "execution_count": null,
   "id": "violent-spotlight",
   "metadata": {},
   "outputs": [],
   "source": [
    "# Prepare the data\n",
    "data = [50, 60, 20, 50, 88, 45, 63, 59]"
   ]
  },
  {
   "cell_type": "markdown",
   "id": "brave-breast",
   "metadata": {},
   "source": [
    "Given the data list, we can convert it into DataFrame"
   ]
  },
  {
   "cell_type": "code",
   "execution_count": null,
   "id": "fantastic-secretary",
   "metadata": {
    "scrolled": true
   },
   "outputs": [],
   "source": [
    "# Where is the pass and fail?\n",
    "df = pd.DataFrame(data, columns=['Score'])\n",
    "df"
   ]
  },
  {
   "cell_type": "markdown",
   "id": "regulated-vehicle",
   "metadata": {},
   "source": [
    "We can create extra column to indicate if the score is passed."
   ]
  },
  {
   "cell_type": "code",
   "execution_count": null,
   "id": "operational-kitchen",
   "metadata": {
    "scrolled": true
   },
   "outputs": [],
   "source": [
    "df['Is Passed'] = df['Score'].apply(pass_or_fail)\n",
    "df"
   ]
  },
  {
   "cell_type": "markdown",
   "id": "inappropriate-ensemble",
   "metadata": {},
   "source": [
    "By using Boolean filtering, we can list only the data that meet the condition."
   ]
  },
  {
   "cell_type": "code",
   "execution_count": null,
   "id": "coastal-opera",
   "metadata": {
    "scrolled": true
   },
   "outputs": [],
   "source": [
    "df[ (df['Score']>=60) & (df['Score']<=80) ]"
   ]
  },
  {
   "cell_type": "markdown",
   "id": "divine-house",
   "metadata": {},
   "source": [
    "Next, we will load the students dictionary from lesson 2."
   ]
  },
  {
   "cell_type": "code",
   "execution_count": null,
   "id": "dirty-tooth",
   "metadata": {},
   "outputs": [],
   "source": [
    "students = [\n",
    "    {'name': 'Thomas', 'score': 65},\n",
    "    {'name': 'Alan', 'score': 95},\n",
    "    {'name': 'Jane', 'score': 85},\n",
    "    {'name': 'Susan', 'score': 75},\n",
    "    {'name': 'Chris', 'score': 45}\n",
    "]"
   ]
  },
  {
   "cell_type": "markdown",
   "id": "joined-wrong",
   "metadata": {},
   "source": [
    "We convert the dictionary into DataFrame. Pandas will take care of the column name automatically."
   ]
  },
  {
   "cell_type": "code",
   "execution_count": null,
   "id": "animal-contributor",
   "metadata": {
    "scrolled": true
   },
   "outputs": [],
   "source": [
    "df = pd.DataFrame(students)\n",
    "df"
   ]
  },
  {
   "cell_type": "markdown",
   "id": "straight-montana",
   "metadata": {},
   "source": [
    "Same as the example above, we apply the `pass_or_fail` function to create a new column with Boolean."
   ]
  },
  {
   "cell_type": "code",
   "execution_count": null,
   "id": "tamil-gasoline",
   "metadata": {
    "scrolled": true
   },
   "outputs": [],
   "source": [
    "df['Is Passed'] = df['score'].apply(pass_or_fail)\n",
    "df"
   ]
  },
  {
   "cell_type": "markdown",
   "id": "unauthorized-bowling",
   "metadata": {},
   "source": [
    "We can generate a new DataFrame with only the passed records."
   ]
  },
  {
   "cell_type": "code",
   "execution_count": null,
   "id": "considerable-booth",
   "metadata": {},
   "outputs": [],
   "source": [
    "df_passed = df[df[\"Is Passed\"]]\n",
    "df_passed"
   ]
  },
  {
   "cell_type": "markdown",
   "id": "caroline-marketplace",
   "metadata": {},
   "source": [
    "We can save the processed tabular data into Excel by using `to_excel`."
   ]
  },
  {
   "cell_type": "code",
   "execution_count": null,
   "id": "lesbian-speaking",
   "metadata": {},
   "outputs": [],
   "source": [
    "\n",
    "df_passed.to_excel(\"Students Passed.xlsx\")"
   ]
  },
  {
   "cell_type": "markdown",
   "id": "advance-equipment",
   "metadata": {},
   "source": [
    "## Accessing the column"
   ]
  },
  {
   "cell_type": "markdown",
   "id": "polished-evening",
   "metadata": {},
   "source": [
    "We can get the name of students who passed."
   ]
  },
  {
   "cell_type": "code",
   "execution_count": null,
   "id": "continued-terrorist",
   "metadata": {
    "scrolled": true
   },
   "outputs": [],
   "source": [
    "df[df[\"Is Passed\"]][\"name\"]"
   ]
  },
  {
   "cell_type": "markdown",
   "id": "dietary-blood",
   "metadata": {},
   "source": [
    "An example of outputing the result."
   ]
  },
  {
   "cell_type": "code",
   "execution_count": null,
   "id": "visible-portable",
   "metadata": {},
   "outputs": [],
   "source": [
    "count_of_passed = len(df[df[\"Is Passed\"]])\n",
    "result = f\"We have total {len(df)} students, {count_of_passed} of them passed.\"\n",
    "print(result)"
   ]
  },
  {
   "cell_type": "code",
   "execution_count": null,
   "id": "alone-pantyhose",
   "metadata": {},
   "outputs": [],
   "source": [
    "names = ', '.join(df[df[\"Is Passed\"]][\"name\"])\n",
    "names = f\"They are {names}.\"\n",
    "\n",
    "print(names)"
   ]
  },
  {
   "cell_type": "markdown",
   "id": "stuffed-width",
   "metadata": {},
   "source": [
    "## Reading Excel"
   ]
  },
  {
   "cell_type": "code",
   "execution_count": null,
   "id": "essential-extraction",
   "metadata": {
    "scrolled": true
   },
   "outputs": [],
   "source": [
    "df = pd.read_excel('visitors.xlsx')\n",
    "df"
   ]
  },
  {
   "cell_type": "code",
   "execution_count": null,
   "id": "average-consolidation",
   "metadata": {},
   "outputs": [],
   "source": [
    "df.head()"
   ]
  },
  {
   "cell_type": "code",
   "execution_count": null,
   "id": "dietary-pacific",
   "metadata": {
    "scrolled": true
   },
   "outputs": [],
   "source": [
    "df.tail()"
   ]
  },
  {
   "cell_type": "code",
   "execution_count": null,
   "id": "successful-library",
   "metadata": {},
   "outputs": [],
   "source": [
    "df['Visitors']"
   ]
  },
  {
   "cell_type": "markdown",
   "id": "successful-supply",
   "metadata": {},
   "source": [
    "Which hours do we have more than 30 visitors?"
   ]
  },
  {
   "cell_type": "code",
   "execution_count": null,
   "id": "welsh-algeria",
   "metadata": {},
   "outputs": [],
   "source": [
    "df[ df['Visitors'] > 30 ]"
   ]
  },
  {
   "cell_type": "markdown",
   "id": "finnish-train",
   "metadata": {},
   "source": [
    "We can create new Boolean column with condition."
   ]
  },
  {
   "cell_type": "code",
   "execution_count": null,
   "id": "appropriate-failure",
   "metadata": {},
   "outputs": [],
   "source": [
    "df['Good Timing'] = df['Visitors']>30"
   ]
  },
  {
   "cell_type": "code",
   "execution_count": null,
   "id": "assigned-carry",
   "metadata": {},
   "outputs": [],
   "source": [
    "df"
   ]
  },
  {
   "cell_type": "code",
   "execution_count": null,
   "id": "trained-bidding",
   "metadata": {},
   "outputs": [],
   "source": [
    "df[df['Good Timing']]"
   ]
  },
  {
   "cell_type": "markdown",
   "id": "standard-adjustment",
   "metadata": {},
   "source": [
    "## Reading CSV"
   ]
  },
  {
   "cell_type": "code",
   "execution_count": null,
   "id": "different-chain",
   "metadata": {},
   "outputs": [],
   "source": [
    "df = pd.read_csv('visitors.csv', delimiter=',', names=('date','visitors'))\n",
    "\n",
    "df.head()"
   ]
  },
  {
   "cell_type": "code",
   "execution_count": null,
   "id": "floating-american",
   "metadata": {},
   "outputs": [],
   "source": [
    "df['date'].head()"
   ]
  },
  {
   "cell_type": "markdown",
   "id": "reduced-bouquet",
   "metadata": {},
   "source": [
    "## Fetching CSV from Wikipedia"
   ]
  },
  {
   "cell_type": "markdown",
   "id": "temporal-workshop",
   "metadata": {},
   "source": [
    "We can convert the data table into CSV by using https://wikitable2csv.ggor.de"
   ]
  },
  {
   "cell_type": "markdown",
   "id": "suburban-dryer",
   "metadata": {},
   "source": [
    "For example, we can download the All-time Olympic Games medal table from Wikipedia:\n",
    "\n",
    "https://en.wikipedia.org/wiki/All-time_Olympic_Games_medal_table"
   ]
  },
  {
   "cell_type": "markdown",
   "id": "sexual-individual",
   "metadata": {},
   "source": [
    "We can load the converted CSV directly into pandas and process the data set. Alternatively, we can clean up the CSV a little bit before loading it into pandas.\n",
    "\n",
    "For instance, we can give each column a readable name in header. We can also convert thousands with comma too."
   ]
  },
  {
   "cell_type": "markdown",
   "id": "super-desperate",
   "metadata": {},
   "source": [
    "## Lab 4: All-time Olympic Games medal table"
   ]
  },
  {
   "cell_type": "markdown",
   "id": "presidential-explanation",
   "metadata": {},
   "source": [
    "We have prepared a `table-1-olympics.csv` file with basic format processed."
   ]
  },
  {
   "cell_type": "code",
   "execution_count": null,
   "id": "caring-resolution",
   "metadata": {},
   "outputs": [],
   "source": [
    "df = pd.read_csv('table-1-olympics.csv')\n",
    "df = df[:-1] # Remove the last row of data\n",
    "df.head()"
   ]
  },
  {
   "cell_type": "code",
   "execution_count": null,
   "id": "grateful-commissioner",
   "metadata": {},
   "outputs": [],
   "source": [
    "df.shape"
   ]
  },
  {
   "cell_type": "markdown",
   "id": "prostate-hebrew",
   "metadata": {},
   "source": [
    "By checking the `dtype`, we find that the data in \"O\" instead of \"Int\". \"O\" stands for Object because it is treated as String."
   ]
  },
  {
   "cell_type": "code",
   "execution_count": null,
   "id": "gothic-lloyd",
   "metadata": {},
   "outputs": [],
   "source": [
    "df['Total'].dtype"
   ]
  },
  {
   "cell_type": "markdown",
   "id": "clear-rolling",
   "metadata": {},
   "source": [
    "We can convert the dtype by using `astype`."
   ]
  },
  {
   "cell_type": "code",
   "execution_count": null,
   "id": "organic-tennis",
   "metadata": {},
   "outputs": [],
   "source": [
    "df['Total'] = df['Total'].astype(int)"
   ]
  },
  {
   "cell_type": "code",
   "execution_count": null,
   "id": "musical-scanner",
   "metadata": {},
   "outputs": [],
   "source": [
    "df['Total'].dtype"
   ]
  },
  {
   "cell_type": "markdown",
   "id": "alone-minority",
   "metadata": {},
   "source": [
    "Now the team name is not quite readable. There are extra symbols and footnote indicators.\n",
    "\n",
    "We can clean up `Team` name and replace space into underscore:"
   ]
  },
  {
   "cell_type": "code",
   "execution_count": null,
   "id": "brutal-designer",
   "metadata": {},
   "outputs": [],
   "source": [
    "df[\"Team\"] = df[\"Team\"].apply(lambda x: x.split(\"(\")[0].strip().replace(\" \",\"_\"))"
   ]
  },
  {
   "cell_type": "code",
   "execution_count": null,
   "id": "requested-laugh",
   "metadata": {},
   "outputs": [],
   "source": [
    "df.head()"
   ]
  },
  {
   "cell_type": "markdown",
   "id": "useful-checklist",
   "metadata": {},
   "source": [
    "Set the Team name as dataframe index:"
   ]
  },
  {
   "cell_type": "code",
   "execution_count": null,
   "id": "champion-purple",
   "metadata": {},
   "outputs": [],
   "source": [
    "df.set_index(\"Team\", inplace=True)"
   ]
  },
  {
   "cell_type": "markdown",
   "id": "invisible-vertex",
   "metadata": {},
   "source": [
    "Make sure all numbers in the dataframe are numeric:"
   ]
  },
  {
   "cell_type": "code",
   "execution_count": null,
   "id": "vocal-reason",
   "metadata": {},
   "outputs": [],
   "source": [
    "df = df.astype(int)"
   ]
  },
  {
   "cell_type": "markdown",
   "id": "brazilian-johnston",
   "metadata": {},
   "source": [
    "We can inspect the column names by using `df.columns`"
   ]
  },
  {
   "cell_type": "code",
   "execution_count": null,
   "id": "broke-weekly",
   "metadata": {},
   "outputs": [],
   "source": []
  },
  {
   "cell_type": "markdown",
   "id": "formed-jersey",
   "metadata": {},
   "source": [
    "|Expected result|\n",
    "|---|\n",
    "|Index(['Summer Games', 'Gold', 'Silver', 'Bronze', 'Total', 'Winter Games',\n",
    "       'Gold.1', 'Silver.1', 'Bronze.1', 'Total.1', 'Combined Participated',\n",
    "       'Combined Gold', 'Combined Silver', 'Combined Bronze',\n",
    "       'Combined Total'],\n",
    "      dtype='object')|"
   ]
  },
  {
   "cell_type": "markdown",
   "id": "separate-darwin",
   "metadata": {},
   "source": [
    "We can access a particular row of data by using `iloc`"
   ]
  },
  {
   "cell_type": "code",
   "execution_count": null,
   "id": "patent-shoot",
   "metadata": {},
   "outputs": [],
   "source": [
    "df.iloc[16]"
   ]
  },
  {
   "cell_type": "markdown",
   "id": "smaller-reproduction",
   "metadata": {},
   "source": [
    "We can also access a particular row of data by using the index label `df.loc[\"Brazil\"]`."
   ]
  },
  {
   "cell_type": "markdown",
   "id": "numeric-satisfaction",
   "metadata": {},
   "source": [
    "What is the Olymnpic Medal data from China?"
   ]
  },
  {
   "cell_type": "code",
   "execution_count": null,
   "id": "recent-houston",
   "metadata": {},
   "outputs": [],
   "source": []
  },
  {
   "cell_type": "markdown",
   "id": "distributed-romantic",
   "metadata": {},
   "source": [
    "|Expected result|\n",
    "|---|\n",
    "|Summer Games              10\n",
    "Gold                     224\n",
    "Silver                   167\n",
    "Bronze                   155\n",
    "Total                    546\n",
    "Winter Games              11\n",
    "Gold.1                    13\n",
    "Silver.1                  28\n",
    "Bronze.1                  21\n",
    "Total.1                   62\n",
    "Combined Participated     21\n",
    "Combined Gold            237\n",
    "Combined Silver          195\n",
    "Combined Bronze          176\n",
    "Combined Total           608\n",
    "Name: China, dtype: int32|"
   ]
  },
  {
   "cell_type": "markdown",
   "id": "front-klein",
   "metadata": {},
   "source": [
    "How many gold medal China won in Summer Olymnpics?"
   ]
  },
  {
   "cell_type": "code",
   "execution_count": null,
   "id": "respiratory-uruguay",
   "metadata": {},
   "outputs": [],
   "source": []
  },
  {
   "cell_type": "markdown",
   "id": "invisible-worst",
   "metadata": {},
   "source": [
    "|Expected result|\n",
    "|---|\n",
    "|224|"
   ]
  },
  {
   "cell_type": "markdown",
   "id": "protecting-corrections",
   "metadata": {},
   "source": [
    "We can get the rank of gold medal list by using `df.sort_values`."
   ]
  },
  {
   "cell_type": "code",
   "execution_count": null,
   "id": "worldwide-kingston",
   "metadata": {},
   "outputs": [],
   "source": [
    "df.sort_values(by=\"Gold\", ascending=False)[:5]"
   ]
  },
  {
   "cell_type": "markdown",
   "id": "julian-package",
   "metadata": {},
   "source": [
    "How many teams earn gold medals in both summer Olympics and winder Olympics? "
   ]
  },
  {
   "cell_type": "code",
   "execution_count": null,
   "id": "biblical-preview",
   "metadata": {
    "scrolled": true
   },
   "outputs": [],
   "source": [
    "len(df[(df[\"Gold\"] > 0) & (df[\"Gold.1\"] > 0)])"
   ]
  },
  {
   "cell_type": "markdown",
   "id": "premium-costa",
   "metadata": {},
   "source": [
    "Which teams are they?"
   ]
  },
  {
   "cell_type": "code",
   "execution_count": null,
   "id": "great-drove",
   "metadata": {},
   "outputs": [],
   "source": [
    "df[(df[\"Gold\"] > 0) & (df[\"Gold.1\"] > 0)][['Gold','Gold.1']]"
   ]
  },
  {
   "cell_type": "markdown",
   "id": "described-faculty",
   "metadata": {},
   "source": [
    "How about the team that wins gold medals in winter Olympics but not summer Olympics?"
   ]
  },
  {
   "cell_type": "code",
   "execution_count": null,
   "id": "decreased-preview",
   "metadata": {},
   "outputs": [],
   "source": []
  },
  {
   "cell_type": "markdown",
   "id": "clear-cornwall",
   "metadata": {},
   "source": [
    "|Expected result|\n",
    "|---|\n",
    "|['Liechtenstein', 'Olympic_Athletes_from_Russia']|"
   ]
  },
  {
   "cell_type": "markdown",
   "id": "adaptive-score",
   "metadata": {},
   "source": [
    "---\n",
    "\n",
    "## Summary\n",
    "\n",
    "In this lesson, we learn to process tabular data by using Pandas."
   ]
  },
  {
   "cell_type": "markdown",
   "id": "weekly-nightlife",
   "metadata": {},
   "source": [
    "## 筆記整理"
   ]
  },
  {
   "cell_type": "markdown",
   "id": "palestinian-actress",
   "metadata": {},
   "source": [
    "## pandas--对axis=0,axis=1的理解\n",
    "![](img/pandas_axis.jpg)"
   ]
  },
  {
   "cell_type": "code",
   "execution_count": null,
   "id": "accomplished-novel",
   "metadata": {},
   "outputs": [],
   "source": [
    "df = pd.DataFrame([[11, 12, 13, 14], [21, 22, 23, 24], [31, 32, 33, 34]], \\\n",
    "columns=[\"col1\", \"col2\", \"col3\", \"col4\"])\n",
    "df.mean(axis=1) #均值\n",
    "df.drop(\"col4\", axis=1) "
   ]
  },
  {
   "cell_type": "markdown",
   "id": "aboriginal-alexander",
   "metadata": {},
   "source": [
    "# pandas 處理xlsx資料 iterate all data"
   ]
  },
  {
   "cell_type": "code",
   "execution_count": null,
   "id": "minor-saturday",
   "metadata": {},
   "outputs": [],
   "source": [
    "import pandas as pd\n",
    "df=pd.read_excel('ref/lesson-8-numpy-and-pandas/visitors.xlsx',index_col=0)   \n",
    "\n",
    "#column name & type\n",
    "for column_name in df: print(r\"{}{}\".format(type(column_name),column_name))\n",
    "    \n",
    "# iterate items\n",
    "for column_name, item in df.iteritems():\n",
    "    print(r\"{}{}\".format(type(column_name),column_name))\n",
    "    print(type(item))\n",
    "    print(item)\n",
    "    print('------')   \n",
    "    break\n",
    "\n",
    "# colunm name \n",
    "print(\"('{}'),\".format(\"','\".join(str(column_name).replace(\"'\",\"\") for column_name in df)))\n",
    "\n",
    "# iterate rows\n",
    "for index, row in df.iterrows():\n",
    "    print(\"('{}'),\".format(\"','\".join(str(r).replace(\"'\",\"\") for r in row)))"
   ]
  },
  {
   "cell_type": "code",
   "execution_count": null,
   "id": "environmental-surprise",
   "metadata": {},
   "outputs": [],
   "source": [
    "import pandas as pd\n",
    "df=pd.read_excel('kw_data.xlsx',index_col=0)   \n",
    "df"
   ]
  },
  {
   "cell_type": "code",
   "execution_count": null,
   "id": "coral-candy",
   "metadata": {},
   "outputs": [],
   "source": [
    "from IPython.display import Latex,HTML,Markdown\n",
    "#df.dtypes\n",
    "df1 = df[(df[\"性別\"]==\"M\") & ((df[\"BMI\"]>=18.0) & (df[\"BMI\"]<=22.0))]\n",
    "df1=  df1==\"X\" \n",
    "sum_s=df1.sum(axis=0)\n",
    "display(sum_s)\n",
    "#display(Markdown(\"{}\\n{}\\n{}\".format(\"|\".join(sum_s.index),\"|\".join(\"--\" for _ in sum_s.index),\"|\".join(str(v) for i, v in sum_s.items()))))"
   ]
  },
  {
   "cell_type": "code",
   "execution_count": null,
   "id": "successful-traffic",
   "metadata": {},
   "outputs": [],
   "source": []
  }
 ],
 "metadata": {
  "kernelspec": {
   "display_name": "Python 3",
   "language": "python",
   "name": "python3"
  },
  "language_info": {
   "codemirror_mode": {
    "name": "ipython",
    "version": 3
   },
   "file_extension": ".py",
   "mimetype": "text/x-python",
   "name": "python",
   "nbconvert_exporter": "python",
   "pygments_lexer": "ipython3",
   "version": "3.9.9"
  }
 },
 "nbformat": 4,
 "nbformat_minor": 5
}
